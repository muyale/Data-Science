{
 "cells": [
  {
   "cell_type": "code",
   "execution_count": 1,
   "id": "53645100-d1ab-4997-a5d8-e67451448d72",
   "metadata": {},
   "outputs": [],
   "source": [
    "import pandas as pd\n",
    "import numpy as np\n",
    "import seaborn as sns\n",
    "import matplotlib.pyplot as plt\n"
   ]
  },
  {
   "cell_type": "code",
   "execution_count": 72,
   "id": "ddf89f0f-ff8a-4c29-a1f6-ae0ba6d11eee",
   "metadata": {},
   "outputs": [],
   "source": [
    "athletes_df = pd.read_csv(\"C:\\\\Datasets\\\\Olympics\\\\Athletes.csv\")"
   ]
  },
  {
   "cell_type": "code",
   "execution_count": 7,
   "id": "87e28dd8-d0d5-411b-aca9-d6e140f3f390",
   "metadata": {},
   "outputs": [
    {
     "data": {
      "text/html": [
       "<div>\n",
       "<style scoped>\n",
       "    .dataframe tbody tr th:only-of-type {\n",
       "        vertical-align: middle;\n",
       "    }\n",
       "\n",
       "    .dataframe tbody tr th {\n",
       "        vertical-align: top;\n",
       "    }\n",
       "\n",
       "    .dataframe thead th {\n",
       "        text-align: right;\n",
       "    }\n",
       "</style>\n",
       "<table border=\"1\" class=\"dataframe\">\n",
       "  <thead>\n",
       "    <tr style=\"text-align: right;\">\n",
       "      <th></th>\n",
       "      <th>Name</th>\n",
       "      <th>Country</th>\n",
       "      <th>Discipline</th>\n",
       "    </tr>\n",
       "  </thead>\n",
       "  <tbody>\n",
       "    <tr>\n",
       "      <th>0</th>\n",
       "      <td>AALERUD Katrine</td>\n",
       "      <td>Norway</td>\n",
       "      <td>Cycling Road</td>\n",
       "    </tr>\n",
       "    <tr>\n",
       "      <th>1</th>\n",
       "      <td>ABAD Nestor</td>\n",
       "      <td>Spain</td>\n",
       "      <td>Artistic Gymnastics</td>\n",
       "    </tr>\n",
       "    <tr>\n",
       "      <th>2</th>\n",
       "      <td>ABAGNALE Giovanni</td>\n",
       "      <td>Italy</td>\n",
       "      <td>Rowing</td>\n",
       "    </tr>\n",
       "    <tr>\n",
       "      <th>3</th>\n",
       "      <td>ABALDE Alberto</td>\n",
       "      <td>Spain</td>\n",
       "      <td>Basketball</td>\n",
       "    </tr>\n",
       "    <tr>\n",
       "      <th>4</th>\n",
       "      <td>ABALDE Tamara</td>\n",
       "      <td>Spain</td>\n",
       "      <td>Basketball</td>\n",
       "    </tr>\n",
       "  </tbody>\n",
       "</table>\n",
       "</div>"
      ],
      "text/plain": [
       "                Name Country           Discipline\n",
       "0    AALERUD Katrine  Norway         Cycling Road\n",
       "1        ABAD Nestor   Spain  Artistic Gymnastics\n",
       "2  ABAGNALE Giovanni   Italy               Rowing\n",
       "3     ABALDE Alberto   Spain           Basketball\n",
       "4      ABALDE Tamara   Spain           Basketball"
      ]
     },
     "execution_count": 7,
     "metadata": {},
     "output_type": "execute_result"
    }
   ],
   "source": [
    "athletes_df.head()\n"
   ]
  },
  {
   "cell_type": "code",
   "execution_count": 8,
   "id": "8067df8c-1121-4be6-a94a-c8ca8da15836",
   "metadata": {},
   "outputs": [
    {
     "data": {
      "text/plain": [
       "Name          0\n",
       "Country       0\n",
       "Discipline    0\n",
       "dtype: int64"
      ]
     },
     "execution_count": 8,
     "metadata": {},
     "output_type": "execute_result"
    }
   ],
   "source": [
    "athletes_df.isnull().sum()"
   ]
  },
  {
   "cell_type": "code",
   "execution_count": 14,
   "id": "e8404ace-cb83-4972-9855-e176ccb11483",
   "metadata": {},
   "outputs": [],
   "source": [
    "def frequency(column,df=athletes_df):\n",
    "    print('The most frequent items are:')\n",
    "    print(df[column].value_counts().head(10))\n",
    "    print('The least frequent elements are:')\n",
    "    print(df[column].value_counts().tail(10))"
   ]
  },
  {
   "cell_type": "code",
   "execution_count": 15,
   "id": "a543c934-263e-4314-90bf-88ecaafe6bb3",
   "metadata": {},
   "outputs": [
    {
     "name": "stdout",
     "output_type": "stream",
     "text": [
      "The most frequent items are:\n",
      "United States of America      615\n",
      "Japan                         586\n",
      "Australia                     470\n",
      "People's Republic of China    401\n",
      "Germany                       400\n",
      "France                        377\n",
      "Canada                        368\n",
      "Great Britain                 366\n",
      "Italy                         356\n",
      "Spain                         324\n",
      "Name: Country, dtype: int64\n",
      "The least frequent elements are:\n",
      "Bermuda                          2\n",
      "Andorra                          2\n",
      "Nauru                            2\n",
      "Mauritania                       2\n",
      "St Vincent and the Grenadines    2\n",
      "United Republic of Tanzania      2\n",
      "Saint Kitts and Nevis            2\n",
      "Marshall Islands                 2\n",
      "Vanuatu                          2\n",
      "South Sudan                      2\n",
      "Name: Country, dtype: int64\n"
     ]
    }
   ],
   "source": [
    "frequency('Country')\n",
    "# The countries with the most participants\n",
    "# Usa had the most number of participants distributed over the Disciplines\"\"\""
   ]
  },
  {
   "cell_type": "code",
   "execution_count": 16,
   "id": "4175f9ef-ee84-4c75-b131-db442a19df57",
   "metadata": {},
   "outputs": [
    {
     "name": "stdout",
     "output_type": "stream",
     "text": [
      "The most frequent items are:\n",
      "Athletics       2068\n",
      "Swimming         743\n",
      "Football         567\n",
      "Rowing           496\n",
      "Hockey           406\n",
      "Judo             373\n",
      "Handball         343\n",
      "Shooting         342\n",
      "Sailing          336\n",
      "Rugby Sevens     283\n",
      "Name: Discipline, dtype: int64\n",
      "The least frequent elements are:\n",
      "Skateboarding            77\n",
      "Cycling Mountain Bike    74\n",
      "Modern Pentathlon        69\n",
      "3x3 Basketball           62\n",
      "Marathon Swimming        49\n",
      "Cycling BMX Racing       43\n",
      "Surfing                  38\n",
      "Sport Climbing           37\n",
      "Trampoline Gymnastics    31\n",
      "Cycling BMX Freestyle    19\n",
      "Name: Discipline, dtype: int64\n"
     ]
    }
   ],
   "source": [
    "frequency('Discipline')\n",
    "# The sports that had the most athletes\n",
    "\"\"\"Athletics was  the most played sport in the 2022 Olympics and Cycling was the least \"\"\""
   ]
  },
  {
   "cell_type": "code",
   "execution_count": 26,
   "id": "1e986133-e9d8-4291-a23f-eca12bc4ce2b",
   "metadata": {},
   "outputs": [
    {
     "name": "stdout",
     "output_type": "stream",
     "text": [
      "The most frequent items are:\n",
      "CHEN Yang               2\n",
      "KIM Hyunsoo             2\n",
      "PALTRINIERI Gregorio    2\n",
      "PORTELA Teresa          2\n",
      "KOVACS Zsofia           2\n",
      "KOPECKY Lotte           2\n",
      "ALVAREZ Jorge           2\n",
      "WELLBROCK Florian       2\n",
      "WANG Yang               2\n",
      "ZHANG Xin               2\n",
      "Name: Name, dtype: int64\n",
      "The least frequent elements are:\n",
      "HAN Dakyung        1\n",
      "HAN Eomji          1\n",
      "HAN Heeju          1\n",
      "HAN Hyunhee        1\n",
      "HAN Kun Kyu        1\n",
      "HAN Mijin          1\n",
      "HAN Myeongmok      1\n",
      "HAN Xu             1\n",
      "HAN Ying           1\n",
      "ZYZANSKA Sylwia    1\n",
      "Name: Name, dtype: int64\n"
     ]
    }
   ],
   "source": [
    "frequency('Name')\n"
   ]
  },
  {
   "cell_type": "code",
   "execution_count": 75,
   "id": "f8f0c2d6-cbdc-4bae-bb1a-1785c740a02a",
   "metadata": {},
   "outputs": [
    {
     "data": {
      "text/plain": [
       "Text(0.5, 1.0, 'HOW THE DISCIPLINES ARE DISTRIBUTED')"
      ]
     },
     "execution_count": 75,
     "metadata": {},
     "output_type": "execute_result"
    },
    {
     "data": {
      "image/png": "[encoded data removed]",
      "text/plain": [
       "<Figure size 640x480 with 1 Axes>"
      ]
     },
     "metadata": {},
     "output_type": "display_data"
    }
   ],
   "source": [
    "sns.histplot(x=athletes_df['Discipline'].value_counts(),kde=True,color='black')\n",
    "plt.title(\"HOW THE DISCIPLINES ARE DISTRIBUTED\")\n",
    "# The disciplines follow a Normal Distribution , wit there being Outliers"
   ]
  },
  {
   "cell_type": "code",
   "execution_count": 36,
   "id": "e70e6a2a-30dd-4566-ac2e-1f2142ab862b",
   "metadata": {},
   "outputs": [
    {
     "data": {
      "text/plain": [
       "Text(0.5, 1.0, 'HOW THE Countries ARE DISTRIBUTED')"
      ]
     },
     "execution_count": 36,
     "metadata": {},
     "output_type": "execute_result"
    },
    {
     "data": {
      "image/png": "[encoded data removed]",
      "text/plain": [
       "<Figure size 640x480 with 1 Axes>"
      ]
     },
     "metadata": {},
     "output_type": "display_data"
    }
   ],
   "source": [
    "sns.histplot(x=athletes_df['Country'].value_counts(),kde=True)\n",
    "plt.title(\"HOW THE Countries ARE DISTRIBUTED\")"
   ]
  },
  {
   "cell_type": "code",
   "execution_count": 49,
   "id": "14271391-f4ce-4347-b613-0be0ceb0a5b2",
   "metadata": {},
   "outputs": [
    {
     "data": {
      "text/html": [
       "<div>\n",
       "<style scoped>\n",
       "    .dataframe tbody tr th:only-of-type {\n",
       "        vertical-align: middle;\n",
       "    }\n",
       "\n",
       "    .dataframe tbody tr th {\n",
       "        vertical-align: top;\n",
       "    }\n",
       "\n",
       "    .dataframe thead tr th {\n",
       "        text-align: left;\n",
       "    }\n",
       "\n",
       "    .dataframe thead tr:last-of-type th {\n",
       "        text-align: right;\n",
       "    }\n",
       "</style>\n",
       "<table border=\"1\" class=\"dataframe\">\n",
       "  <thead>\n",
       "    <tr>\n",
       "      <th></th>\n",
       "      <th colspan=\"4\" halign=\"left\">Name</th>\n",
       "      <th colspan=\"4\" halign=\"left\">Discipline</th>\n",
       "    </tr>\n",
       "    <tr>\n",
       "      <th></th>\n",
       "      <th>count</th>\n",
       "      <th>unique</th>\n",
       "      <th>top</th>\n",
       "      <th>freq</th>\n",
       "      <th>count</th>\n",
       "      <th>unique</th>\n",
       "      <th>top</th>\n",
       "      <th>freq</th>\n",
       "    </tr>\n",
       "    <tr>\n",
       "      <th>Country</th>\n",
       "      <th></th>\n",
       "      <th></th>\n",
       "      <th></th>\n",
       "      <th></th>\n",
       "      <th></th>\n",
       "      <th></th>\n",
       "      <th></th>\n",
       "      <th></th>\n",
       "    </tr>\n",
       "  </thead>\n",
       "  <tbody>\n",
       "    <tr>\n",
       "      <th>Afghanistan</th>\n",
       "      <td>5</td>\n",
       "      <td>5</td>\n",
       "      <td>ANWARI Fahim</td>\n",
       "      <td>1</td>\n",
       "      <td>5</td>\n",
       "      <td>4</td>\n",
       "      <td>Athletics</td>\n",
       "      <td>2</td>\n",
       "    </tr>\n",
       "    <tr>\n",
       "      <th>Albania</th>\n",
       "      <td>8</td>\n",
       "      <td>8</td>\n",
       "      <td>CALJA Briken</td>\n",
       "      <td>1</td>\n",
       "      <td>8</td>\n",
       "      <td>6</td>\n",
       "      <td>Weightlifting</td>\n",
       "      <td>2</td>\n",
       "    </tr>\n",
       "    <tr>\n",
       "      <th>Algeria</th>\n",
       "      <td>41</td>\n",
       "      <td>41</td>\n",
       "      <td>AIT DAOUD Kamel</td>\n",
       "      <td>1</td>\n",
       "      <td>41</td>\n",
       "      <td>14</td>\n",
       "      <td>Boxing</td>\n",
       "      <td>8</td>\n",
       "    </tr>\n",
       "    <tr>\n",
       "      <th>American Samoa</th>\n",
       "      <td>5</td>\n",
       "      <td>5</td>\n",
       "      <td>CRUMPTON Nathan</td>\n",
       "      <td>1</td>\n",
       "      <td>5</td>\n",
       "      <td>4</td>\n",
       "      <td>Sailing</td>\n",
       "      <td>2</td>\n",
       "    </tr>\n",
       "    <tr>\n",
       "      <th>Andorra</th>\n",
       "      <td>2</td>\n",
       "      <td>2</td>\n",
       "      <td>DORIA VILARRUBLA Monica</td>\n",
       "      <td>1</td>\n",
       "      <td>2</td>\n",
       "      <td>2</td>\n",
       "      <td>Canoe Slalom</td>\n",
       "      <td>1</td>\n",
       "    </tr>\n",
       "    <tr>\n",
       "      <th>...</th>\n",
       "      <td>...</td>\n",
       "      <td>...</td>\n",
       "      <td>...</td>\n",
       "      <td>...</td>\n",
       "      <td>...</td>\n",
       "      <td>...</td>\n",
       "      <td>...</td>\n",
       "      <td>...</td>\n",
       "    </tr>\n",
       "    <tr>\n",
       "      <th>Virgin Islands, British</th>\n",
       "      <td>3</td>\n",
       "      <td>3</td>\n",
       "      <td>MALONE Chantel</td>\n",
       "      <td>1</td>\n",
       "      <td>3</td>\n",
       "      <td>2</td>\n",
       "      <td>Athletics</td>\n",
       "      <td>2</td>\n",
       "    </tr>\n",
       "    <tr>\n",
       "      <th>Virgin Islands, US</th>\n",
       "      <td>4</td>\n",
       "      <td>4</td>\n",
       "      <td>D'AMOUR Nicholas</td>\n",
       "      <td>1</td>\n",
       "      <td>4</td>\n",
       "      <td>3</td>\n",
       "      <td>Swimming</td>\n",
       "      <td>2</td>\n",
       "    </tr>\n",
       "    <tr>\n",
       "      <th>Yemen</th>\n",
       "      <td>3</td>\n",
       "      <td>3</td>\n",
       "      <td>AL YAARI Ahmed</td>\n",
       "      <td>1</td>\n",
       "      <td>3</td>\n",
       "      <td>3</td>\n",
       "      <td>Athletics</td>\n",
       "      <td>1</td>\n",
       "    </tr>\n",
       "    <tr>\n",
       "      <th>Zambia</th>\n",
       "      <td>29</td>\n",
       "      <td>29</td>\n",
       "      <td>BANDA Babra</td>\n",
       "      <td>1</td>\n",
       "      <td>29</td>\n",
       "      <td>5</td>\n",
       "      <td>Football</td>\n",
       "      <td>21</td>\n",
       "    </tr>\n",
       "    <tr>\n",
       "      <th>Zimbabwe</th>\n",
       "      <td>5</td>\n",
       "      <td>5</td>\n",
       "      <td>KATAI Donata</td>\n",
       "      <td>1</td>\n",
       "      <td>5</td>\n",
       "      <td>4</td>\n",
       "      <td>Swimming</td>\n",
       "      <td>2</td>\n",
       "    </tr>\n",
       "  </tbody>\n",
       "</table>\n",
       "<p>206 rows × 8 columns</p>\n",
       "</div>"
      ],
      "text/plain": [
       "                         Name                                      Discipline  \\\n",
       "                        count unique                      top freq      count   \n",
       "Country                                                                         \n",
       "Afghanistan                 5      5             ANWARI Fahim    1          5   \n",
       "Albania                     8      8             CALJA Briken    1          8   \n",
       "Algeria                    41     41          AIT DAOUD Kamel    1         41   \n",
       "American Samoa              5      5          CRUMPTON Nathan    1          5   \n",
       "Andorra                     2      2  DORIA VILARRUBLA Monica    1          2   \n",
       "...                       ...    ...                      ...  ...        ...   \n",
       "Virgin Islands, British     3      3           MALONE Chantel    1          3   \n",
       "Virgin Islands, US          4      4         D'AMOUR Nicholas    1          4   \n",
       "Yemen                       3      3           AL YAARI Ahmed    1          3   \n",
       "Zambia                     29     29              BANDA Babra    1         29   \n",
       "Zimbabwe                    5      5             KATAI Donata    1          5   \n",
       "\n",
       "                                                    \n",
       "                        unique            top freq  \n",
       "Country                                             \n",
       "Afghanistan                  4      Athletics    2  \n",
       "Albania                      6  Weightlifting    2  \n",
       "Algeria                     14         Boxing    8  \n",
       "American Samoa               4        Sailing    2  \n",
       "Andorra                      2   Canoe Slalom    1  \n",
       "...                        ...            ...  ...  \n",
       "Virgin Islands, British      2      Athletics    2  \n",
       "Virgin Islands, US           3       Swimming    2  \n",
       "Yemen                        3      Athletics    1  \n",
       "Zambia                       5       Football   21  \n",
       "Zimbabwe                     4       Swimming    2  \n",
       "\n",
       "[206 rows x 8 columns]"
      ]
     },
     "execution_count": 49,
     "metadata": {},
     "output_type": "execute_result"
    }
   ],
   "source": [
    "by_country= athletes_df.groupby('Country')\n",
    "by_country.describe()"
   ]
  },
  {
   "cell_type": "code",
   "execution_count": null,
   "id": "f47ba353-180b-4951-b8b4-80eb4582ac9d",
   "metadata": {},
   "outputs": [],
   "source": []
  }
 ],
 "metadata": {
  "kernelspec": {
   "display_name": "Python 3 (ipykernel)",
   "language": "python",
   "name": "python3"
  },
  "language_info": {
   "codemirror_mode": {
    "name": "ipython",
    "version": 3
   },
   "file_extension": ".py",
   "mimetype": "text/x-python",
   "name": "python",
   "nbconvert_exporter": "python",
   "pygments_lexer": "ipython3",
   "version": "3.9.13"
  }
 },
 "nbformat": 4,
 "nbformat_minor": 5
}
