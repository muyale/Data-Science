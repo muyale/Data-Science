{
 "cells": [
  {
   "cell_type": "code",
   "execution_count": 1,
   "id": "1e480305",
   "metadata": {},
   "outputs": [],
   "source": [
    "import pandas as pd\n",
    "import numpy as np\n",
    "import seaborn as sns  \n",
    "import matplotlib.pyplot as plt"
   ]
  },
  {
   "cell_type": "code",
   "execution_count": 2,
   "id": "6f0b951f",
   "metadata": {},
   "outputs": [],
   "source": [
    "df = pd.read_csv(\"C:\\\\Datasets\\\\train_stations\\\\train_stations_europe.csv\")"
   ]
  },
  {
   "cell_type": "code",
   "execution_count": 3,
   "id": "83908d88",
   "metadata": {},
   "outputs": [
    {
     "data": {
      "text/html": [
       "<div>\n",
       "<style scoped>\n",
       "    .dataframe tbody tr th:only-of-type {\n",
       "        vertical-align: middle;\n",
       "    }\n",
       "\n",
       "    .dataframe tbody tr th {\n",
       "        vertical-align: top;\n",
       "    }\n",
       "\n",
       "    .dataframe thead th {\n",
       "        text-align: right;\n",
       "    }\n",
       "</style>\n",
       "<table border=\"1\" class=\"dataframe\">\n",
       "  <thead>\n",
       "    <tr style=\"text-align: right;\">\n",
       "      <th></th>\n",
       "      <th>id</th>\n",
       "      <th>name</th>\n",
       "      <th>name_norm</th>\n",
       "      <th>uic</th>\n",
       "      <th>latitude</th>\n",
       "      <th>longitude</th>\n",
       "      <th>parent_station_id</th>\n",
       "      <th>country</th>\n",
       "      <th>time_zone</th>\n",
       "      <th>is_city</th>\n",
       "      <th>is_main_station</th>\n",
       "      <th>is_airport</th>\n",
       "      <th>entur_id</th>\n",
       "      <th>entur_is_enabled</th>\n",
       "    </tr>\n",
       "  </thead>\n",
       "  <tbody>\n",
       "    <tr>\n",
       "      <th>0</th>\n",
       "      <td>1</td>\n",
       "      <td>Château-Arnoux—St-Auban</td>\n",
       "      <td>Chateau-Arnoux-St-Auban</td>\n",
       "      <td>NaN</td>\n",
       "      <td>44.081790</td>\n",
       "      <td>6.001625</td>\n",
       "      <td>NaN</td>\n",
       "      <td>FR</td>\n",
       "      <td>Europe/Paris</td>\n",
       "      <td>True</td>\n",
       "      <td>False</td>\n",
       "      <td>False</td>\n",
       "      <td>NaN</td>\n",
       "      <td>False</td>\n",
       "    </tr>\n",
       "    <tr>\n",
       "      <th>1</th>\n",
       "      <td>2</td>\n",
       "      <td>Château-Arnoux—St-Auban</td>\n",
       "      <td>Chateau-Arnoux-St-Auban</td>\n",
       "      <td>8775123.0</td>\n",
       "      <td>44.061565</td>\n",
       "      <td>5.997373</td>\n",
       "      <td>1.0</td>\n",
       "      <td>FR</td>\n",
       "      <td>Europe/Paris</td>\n",
       "      <td>False</td>\n",
       "      <td>True</td>\n",
       "      <td>False</td>\n",
       "      <td>NaN</td>\n",
       "      <td>False</td>\n",
       "    </tr>\n",
       "    <tr>\n",
       "      <th>2</th>\n",
       "      <td>3</td>\n",
       "      <td>Château-Arnoux Mairie</td>\n",
       "      <td>Chateau-Arnoux Mairie</td>\n",
       "      <td>8775122.0</td>\n",
       "      <td>44.063863</td>\n",
       "      <td>6.011248</td>\n",
       "      <td>1.0</td>\n",
       "      <td>FR</td>\n",
       "      <td>Europe/Paris</td>\n",
       "      <td>False</td>\n",
       "      <td>False</td>\n",
       "      <td>False</td>\n",
       "      <td>NaN</td>\n",
       "      <td>False</td>\n",
       "    </tr>\n",
       "    <tr>\n",
       "      <th>3</th>\n",
       "      <td>4</td>\n",
       "      <td>Digne-les-Bains</td>\n",
       "      <td>Digne-les-Bains</td>\n",
       "      <td>NaN</td>\n",
       "      <td>44.350000</td>\n",
       "      <td>6.350000</td>\n",
       "      <td>NaN</td>\n",
       "      <td>FR</td>\n",
       "      <td>Europe/Paris</td>\n",
       "      <td>True</td>\n",
       "      <td>False</td>\n",
       "      <td>False</td>\n",
       "      <td>NaN</td>\n",
       "      <td>False</td>\n",
       "    </tr>\n",
       "    <tr>\n",
       "      <th>4</th>\n",
       "      <td>6</td>\n",
       "      <td>Digne-les-Bains</td>\n",
       "      <td>Digne-les-Bains</td>\n",
       "      <td>8775149.0</td>\n",
       "      <td>44.088710</td>\n",
       "      <td>6.222982</td>\n",
       "      <td>4.0</td>\n",
       "      <td>FR</td>\n",
       "      <td>Europe/Paris</td>\n",
       "      <td>False</td>\n",
       "      <td>True</td>\n",
       "      <td>False</td>\n",
       "      <td>NaN</td>\n",
       "      <td>False</td>\n",
       "    </tr>\n",
       "  </tbody>\n",
       "</table>\n",
       "</div>"
      ],
      "text/plain": [
       "   id                     name                name_norm        uic   latitude  \\\n",
       "0   1  Château-Arnoux—St-Auban  Chateau-Arnoux-St-Auban        NaN  44.081790   \n",
       "1   2  Château-Arnoux—St-Auban  Chateau-Arnoux-St-Auban  8775123.0  44.061565   \n",
       "2   3    Château-Arnoux Mairie    Chateau-Arnoux Mairie  8775122.0  44.063863   \n",
       "3   4          Digne-les-Bains          Digne-les-Bains        NaN  44.350000   \n",
       "4   6          Digne-les-Bains          Digne-les-Bains  8775149.0  44.088710   \n",
       "\n",
       "   longitude  parent_station_id country     time_zone  is_city  \\\n",
       "0   6.001625                NaN      FR  Europe/Paris     True   \n",
       "1   5.997373                1.0      FR  Europe/Paris    False   \n",
       "2   6.011248                1.0      FR  Europe/Paris    False   \n",
       "3   6.350000                NaN      FR  Europe/Paris     True   \n",
       "4   6.222982                4.0      FR  Europe/Paris    False   \n",
       "\n",
       "   is_main_station  is_airport entur_id  entur_is_enabled  \n",
       "0            False       False      NaN             False  \n",
       "1             True       False      NaN             False  \n",
       "2            False       False      NaN             False  \n",
       "3            False       False      NaN             False  \n",
       "4             True       False      NaN             False  "
      ]
     },
     "execution_count": 3,
     "metadata": {},
     "output_type": "execute_result"
    }
   ],
   "source": [
    "df.head()"
   ]
  },
  {
   "cell_type": "code",
   "execution_count": 4,
   "id": "278a5e9b",
   "metadata": {},
   "outputs": [
    {
     "data": {
      "text/plain": [
       "id                       0\n",
       "name                     0\n",
       "name_norm                0\n",
       "uic                  39855\n",
       "latitude              1895\n",
       "longitude             1895\n",
       "parent_station_id    60016\n",
       "country                  0\n",
       "time_zone                0\n",
       "is_city                  0\n",
       "is_main_station          0\n",
       "is_airport               0\n",
       "entur_id             63395\n",
       "entur_is_enabled         0\n",
       "dtype: int64"
      ]
     },
     "execution_count": 4,
     "metadata": {},
     "output_type": "execute_result"
    }
   ],
   "source": [
    "df.isnull().sum()"
   ]
  },
  {
   "cell_type": "code",
   "execution_count": 7,
   "id": "ddcfeda1",
   "metadata": {},
   "outputs": [],
   "source": [
    "df.dropna(axis=1,inplace=True)"
   ]
  },
  {
   "cell_type": "code",
   "execution_count": 8,
   "id": "16ad8474",
   "metadata": {},
   "outputs": [
    {
     "data": {
      "text/plain": [
       "id                  0\n",
       "name                0\n",
       "name_norm           0\n",
       "country             0\n",
       "time_zone           0\n",
       "is_city             0\n",
       "is_main_station     0\n",
       "is_airport          0\n",
       "entur_is_enabled    0\n",
       "dtype: int64"
      ]
     },
     "execution_count": 8,
     "metadata": {},
     "output_type": "execute_result"
    }
   ],
   "source": [
    "df.isnull().sum()"
   ]
  },
  {
   "cell_type": "code",
   "execution_count": 9,
   "id": "953bfada",
   "metadata": {},
   "outputs": [
    {
     "data": {
      "text/html": [
       "<div>\n",
       "<style scoped>\n",
       "    .dataframe tbody tr th:only-of-type {\n",
       "        vertical-align: middle;\n",
       "    }\n",
       "\n",
       "    .dataframe tbody tr th {\n",
       "        vertical-align: top;\n",
       "    }\n",
       "\n",
       "    .dataframe thead th {\n",
       "        text-align: right;\n",
       "    }\n",
       "</style>\n",
       "<table border=\"1\" class=\"dataframe\">\n",
       "  <thead>\n",
       "    <tr style=\"text-align: right;\">\n",
       "      <th></th>\n",
       "      <th>id</th>\n",
       "      <th>name</th>\n",
       "      <th>name_norm</th>\n",
       "      <th>country</th>\n",
       "      <th>time_zone</th>\n",
       "      <th>is_city</th>\n",
       "      <th>is_main_station</th>\n",
       "      <th>is_airport</th>\n",
       "      <th>entur_is_enabled</th>\n",
       "    </tr>\n",
       "  </thead>\n",
       "  <tbody>\n",
       "    <tr>\n",
       "      <th>0</th>\n",
       "      <td>1</td>\n",
       "      <td>Château-Arnoux—St-Auban</td>\n",
       "      <td>Chateau-Arnoux-St-Auban</td>\n",
       "      <td>FR</td>\n",
       "      <td>Europe/Paris</td>\n",
       "      <td>True</td>\n",
       "      <td>False</td>\n",
       "      <td>False</td>\n",
       "      <td>False</td>\n",
       "    </tr>\n",
       "    <tr>\n",
       "      <th>1</th>\n",
       "      <td>2</td>\n",
       "      <td>Château-Arnoux—St-Auban</td>\n",
       "      <td>Chateau-Arnoux-St-Auban</td>\n",
       "      <td>FR</td>\n",
       "      <td>Europe/Paris</td>\n",
       "      <td>False</td>\n",
       "      <td>True</td>\n",
       "      <td>False</td>\n",
       "      <td>False</td>\n",
       "    </tr>\n",
       "    <tr>\n",
       "      <th>2</th>\n",
       "      <td>3</td>\n",
       "      <td>Château-Arnoux Mairie</td>\n",
       "      <td>Chateau-Arnoux Mairie</td>\n",
       "      <td>FR</td>\n",
       "      <td>Europe/Paris</td>\n",
       "      <td>False</td>\n",
       "      <td>False</td>\n",
       "      <td>False</td>\n",
       "      <td>False</td>\n",
       "    </tr>\n",
       "    <tr>\n",
       "      <th>3</th>\n",
       "      <td>4</td>\n",
       "      <td>Digne-les-Bains</td>\n",
       "      <td>Digne-les-Bains</td>\n",
       "      <td>FR</td>\n",
       "      <td>Europe/Paris</td>\n",
       "      <td>True</td>\n",
       "      <td>False</td>\n",
       "      <td>False</td>\n",
       "      <td>False</td>\n",
       "    </tr>\n",
       "    <tr>\n",
       "      <th>4</th>\n",
       "      <td>6</td>\n",
       "      <td>Digne-les-Bains</td>\n",
       "      <td>Digne-les-Bains</td>\n",
       "      <td>FR</td>\n",
       "      <td>Europe/Paris</td>\n",
       "      <td>False</td>\n",
       "      <td>True</td>\n",
       "      <td>False</td>\n",
       "      <td>False</td>\n",
       "    </tr>\n",
       "  </tbody>\n",
       "</table>\n",
       "</div>"
      ],
      "text/plain": [
       "   id                     name                name_norm country     time_zone  \\\n",
       "0   1  Château-Arnoux—St-Auban  Chateau-Arnoux-St-Auban      FR  Europe/Paris   \n",
       "1   2  Château-Arnoux—St-Auban  Chateau-Arnoux-St-Auban      FR  Europe/Paris   \n",
       "2   3    Château-Arnoux Mairie    Chateau-Arnoux Mairie      FR  Europe/Paris   \n",
       "3   4          Digne-les-Bains          Digne-les-Bains      FR  Europe/Paris   \n",
       "4   6          Digne-les-Bains          Digne-les-Bains      FR  Europe/Paris   \n",
       "\n",
       "   is_city  is_main_station  is_airport  entur_is_enabled  \n",
       "0     True            False       False             False  \n",
       "1    False             True       False             False  \n",
       "2    False            False       False             False  \n",
       "3     True            False       False             False  \n",
       "4    False             True       False             False  "
      ]
     },
     "execution_count": 9,
     "metadata": {},
     "output_type": "execute_result"
    }
   ],
   "source": [
    "df.head()"
   ]
  },
  {
   "cell_type": "code",
   "execution_count": 10,
   "id": "380f59f9",
   "metadata": {},
   "outputs": [],
   "source": [
    "df.drop(['id'],axis=1,inplace=True)"
   ]
  },
  {
   "cell_type": "code",
   "execution_count": 11,
   "id": "63a7c470",
   "metadata": {},
   "outputs": [
    {
     "data": {
      "text/html": [
       "<div>\n",
       "<style scoped>\n",
       "    .dataframe tbody tr th:only-of-type {\n",
       "        vertical-align: middle;\n",
       "    }\n",
       "\n",
       "    .dataframe tbody tr th {\n",
       "        vertical-align: top;\n",
       "    }\n",
       "\n",
       "    .dataframe thead th {\n",
       "        text-align: right;\n",
       "    }\n",
       "</style>\n",
       "<table border=\"1\" class=\"dataframe\">\n",
       "  <thead>\n",
       "    <tr style=\"text-align: right;\">\n",
       "      <th></th>\n",
       "      <th>name</th>\n",
       "      <th>name_norm</th>\n",
       "      <th>country</th>\n",
       "      <th>time_zone</th>\n",
       "      <th>is_city</th>\n",
       "      <th>is_main_station</th>\n",
       "      <th>is_airport</th>\n",
       "      <th>entur_is_enabled</th>\n",
       "    </tr>\n",
       "  </thead>\n",
       "  <tbody>\n",
       "    <tr>\n",
       "      <th>0</th>\n",
       "      <td>Château-Arnoux—St-Auban</td>\n",
       "      <td>Chateau-Arnoux-St-Auban</td>\n",
       "      <td>FR</td>\n",
       "      <td>Europe/Paris</td>\n",
       "      <td>True</td>\n",
       "      <td>False</td>\n",
       "      <td>False</td>\n",
       "      <td>False</td>\n",
       "    </tr>\n",
       "    <tr>\n",
       "      <th>1</th>\n",
       "      <td>Château-Arnoux—St-Auban</td>\n",
       "      <td>Chateau-Arnoux-St-Auban</td>\n",
       "      <td>FR</td>\n",
       "      <td>Europe/Paris</td>\n",
       "      <td>False</td>\n",
       "      <td>True</td>\n",
       "      <td>False</td>\n",
       "      <td>False</td>\n",
       "    </tr>\n",
       "    <tr>\n",
       "      <th>2</th>\n",
       "      <td>Château-Arnoux Mairie</td>\n",
       "      <td>Chateau-Arnoux Mairie</td>\n",
       "      <td>FR</td>\n",
       "      <td>Europe/Paris</td>\n",
       "      <td>False</td>\n",
       "      <td>False</td>\n",
       "      <td>False</td>\n",
       "      <td>False</td>\n",
       "    </tr>\n",
       "    <tr>\n",
       "      <th>3</th>\n",
       "      <td>Digne-les-Bains</td>\n",
       "      <td>Digne-les-Bains</td>\n",
       "      <td>FR</td>\n",
       "      <td>Europe/Paris</td>\n",
       "      <td>True</td>\n",
       "      <td>False</td>\n",
       "      <td>False</td>\n",
       "      <td>False</td>\n",
       "    </tr>\n",
       "    <tr>\n",
       "      <th>4</th>\n",
       "      <td>Digne-les-Bains</td>\n",
       "      <td>Digne-les-Bains</td>\n",
       "      <td>FR</td>\n",
       "      <td>Europe/Paris</td>\n",
       "      <td>False</td>\n",
       "      <td>True</td>\n",
       "      <td>False</td>\n",
       "      <td>False</td>\n",
       "    </tr>\n",
       "  </tbody>\n",
       "</table>\n",
       "</div>"
      ],
      "text/plain": [
       "                      name                name_norm country     time_zone  \\\n",
       "0  Château-Arnoux—St-Auban  Chateau-Arnoux-St-Auban      FR  Europe/Paris   \n",
       "1  Château-Arnoux—St-Auban  Chateau-Arnoux-St-Auban      FR  Europe/Paris   \n",
       "2    Château-Arnoux Mairie    Chateau-Arnoux Mairie      FR  Europe/Paris   \n",
       "3          Digne-les-Bains          Digne-les-Bains      FR  Europe/Paris   \n",
       "4          Digne-les-Bains          Digne-les-Bains      FR  Europe/Paris   \n",
       "\n",
       "   is_city  is_main_station  is_airport  entur_is_enabled  \n",
       "0     True            False       False             False  \n",
       "1    False             True       False             False  \n",
       "2    False            False       False             False  \n",
       "3     True            False       False             False  \n",
       "4    False             True       False             False  "
      ]
     },
     "execution_count": 11,
     "metadata": {},
     "output_type": "execute_result"
    }
   ],
   "source": [
    "df.head()"
   ]
  },
  {
   "cell_type": "code",
   "execution_count": 14,
   "id": "8e109036",
   "metadata": {},
   "outputs": [
    {
     "name": "stdout",
     "output_type": "stream",
     "text": [
      "München Hbf         5\n",
      "Saverne             5\n",
      "Frankfurt (Oder)    4\n",
      "Port-Bou            4\n",
      "Les Marécottes      4\n",
      "Luxembourg          4\n",
      "Chiasso             4\n",
      "Le Locle            4\n",
      "Genève              4\n",
      "Ventimiglia         4\n",
      "Name: name, dtype: int64\n",
      "=================================\n",
      "63078\n",
      "*********************************\n",
      "Munchen Hbf         5\n",
      "Saverne             5\n",
      "Frankfurt (Oder)    4\n",
      "Port-Bou            4\n",
      "Luxembourg          4\n",
      "Chiasso             4\n",
      "Irun                4\n",
      "Canfranc            4\n",
      "Geneve              4\n",
      "Le Locle            4\n",
      "Name: name_norm, dtype: int64\n",
      "=================================\n",
      "63053\n",
      "*********************************\n",
      "CH    22347\n",
      "DE     7896\n",
      "FR     7402\n",
      "SE     5767\n",
      "ES     5027\n",
      "IT     4912\n",
      "GB     2790\n",
      "AT     1710\n",
      "NO      856\n",
      "HR      730\n",
      "Name: country, dtype: int64\n",
      "=================================\n",
      "43\n",
      "*********************************\n",
      "Europe/Zurich       22347\n",
      "Europe/Berlin        7896\n",
      "Europe/Paris         7412\n",
      "Europe/Stockholm     5767\n",
      "Europe/Madrid        5027\n",
      "Europe/Rome          4912\n",
      "Europe/London        2790\n",
      "Europe/Vienna        1710\n",
      "Europe/Oslo           856\n",
      "Europe/Zagreb         730\n",
      "Name: time_zone, dtype: int64\n",
      "=================================\n",
      "42\n",
      "*********************************\n",
      "False    54108\n",
      "True      9922\n",
      "Name: is_city, dtype: int64\n",
      "=================================\n",
      "2\n",
      "*********************************\n",
      "False    63207\n",
      "True       823\n",
      "Name: is_main_station, dtype: int64\n",
      "=================================\n",
      "2\n",
      "*********************************\n",
      "False    63783\n",
      "True       247\n",
      "Name: is_airport, dtype: int64\n",
      "=================================\n",
      "2\n",
      "*********************************\n",
      "False    63395\n",
      "True       635\n",
      "Name: entur_is_enabled, dtype: int64\n",
      "=================================\n",
      "2\n",
      "*********************************\n"
     ]
    }
   ],
   "source": [
    "for column in df.columns:\n",
    "    print(df[column].value_counts().head(10))\n",
    "    print(\"=================================\")\n",
    "    print(df[column].nunique())\n",
    "    print(\"*********************************\")"
   ]
  },
  {
   "cell_type": "code",
   "execution_count": 18,
   "id": "42daef4b",
   "metadata": {},
   "outputs": [
    {
     "name": "stdout",
     "output_type": "stream",
     "text": [
      "The total number of data points are:64030\n"
     ]
    }
   ],
   "source": [
    "# To find the number of datapoints\n",
    "data_points = len(df)\n",
    "print(f\"The total number of data points are:{data_points}\")"
   ]
  },
  {
   "cell_type": "code",
   "execution_count": 19,
   "id": "2091799c",
   "metadata": {},
   "outputs": [
    {
     "data": {
      "text/plain": [
       "(64030, 8)"
      ]
     },
     "execution_count": 19,
     "metadata": {},
     "output_type": "execute_result"
    }
   ],
   "source": [
    "# Now for the shape of our dataset\n",
    "df.shape"
   ]
  },
  {
   "cell_type": "code",
   "execution_count": 20,
   "id": "9dc5914e",
   "metadata": {},
   "outputs": [
    {
     "data": {
      "text/plain": [
       "Index(['name', 'name_norm', 'country', 'time_zone', 'is_city',\n",
       "       'is_main_station', 'is_airport', 'entur_is_enabled'],\n",
       "      dtype='object')"
      ]
     },
     "execution_count": 20,
     "metadata": {},
     "output_type": "execute_result"
    }
   ],
   "source": [
    "df.columns"
   ]
  },
  {
   "cell_type": "code",
   "execution_count": 24,
   "id": "faf15520",
   "metadata": {},
   "outputs": [
    {
     "ename": "AssertionError",
     "evalue": "",
     "output_type": "error",
     "traceback": [
      "\u001b[1;31m---------------------------------------------------------------------------\u001b[0m",
      "\u001b[1;31mAssertionError\u001b[0m                            Traceback (most recent call last)",
      "\u001b[1;32m~\\AppData\\Local\\Temp\\ipykernel_18028\\1404180843.py\u001b[0m in \u001b[0;36m<module>\u001b[1;34m\u001b[0m\n\u001b[1;32m----> 1\u001b[1;33m \u001b[1;32massert\u001b[0m \u001b[0mdf\u001b[0m\u001b[1;33m.\u001b[0m\u001b[0mname\u001b[0m\u001b[1;33m.\u001b[0m\u001b[0mvalues\u001b[0m\u001b[1;33m.\u001b[0m\u001b[0many\u001b[0m\u001b[1;33m(\u001b[0m\u001b[1;33m)\u001b[0m \u001b[1;33m==\u001b[0m \u001b[0mdf\u001b[0m\u001b[1;33m.\u001b[0m\u001b[0mname_norm\u001b[0m\u001b[1;33m.\u001b[0m\u001b[0mvalues\u001b[0m\u001b[1;33m.\u001b[0m\u001b[0many\u001b[0m\u001b[1;33m(\u001b[0m\u001b[1;33m)\u001b[0m\u001b[1;33m\u001b[0m\u001b[1;33m\u001b[0m\u001b[0m\n\u001b[0m\u001b[0;32m      2\u001b[0m \u001b[1;31m# The two columns have some different values\u001b[0m\u001b[1;33m\u001b[0m\u001b[1;33m\u001b[0m\u001b[0m\n",
      "\u001b[1;31mAssertionError\u001b[0m: "
     ]
    }
   ],
   "source": [
    "assert df.name.values.any() == df.name_norm.values.any()\n",
    "# The two columns have some different values"
   ]
  },
  {
   "cell_type": "code",
   "execution_count": 27,
   "id": "fcd3dca6",
   "metadata": {},
   "outputs": [],
   "source": [
    "def most_appearing(column,df=df):\n",
    "    print(df[column].value_counts().head(10))"
   ]
  },
  {
   "cell_type": "code",
   "execution_count": 28,
   "id": "879f3118",
   "metadata": {},
   "outputs": [
    {
     "name": "stdout",
     "output_type": "stream",
     "text": [
      "CH    22347\n",
      "DE     7896\n",
      "FR     7402\n",
      "SE     5767\n",
      "ES     5027\n",
      "IT     4912\n",
      "GB     2790\n",
      "AT     1710\n",
      "NO      856\n",
      "HR      730\n",
      "Name: country, dtype: int64\n"
     ]
    }
   ],
   "source": [
    "most_appearing('country')"
   ]
  },
  {
   "cell_type": "code",
   "execution_count": 29,
   "id": "c347afb4",
   "metadata": {},
   "outputs": [
    {
     "data": {
      "text/plain": [
       "Index(['name', 'name_norm', 'country', 'time_zone', 'is_city',\n",
       "       'is_main_station', 'is_airport', 'entur_is_enabled'],\n",
       "      dtype='object')"
      ]
     },
     "execution_count": 29,
     "metadata": {},
     "output_type": "execute_result"
    }
   ],
   "source": [
    "df.columns"
   ]
  },
  {
   "cell_type": "markdown",
   "id": "4bd7062b",
   "metadata": {},
   "source": [
    "# CITIES ,MAIN STATIONS AND AIRPORTS"
   ]
  },
  {
   "cell_type": "code",
   "execution_count": 40,
   "id": "6d8216ef",
   "metadata": {},
   "outputs": [
    {
     "data": {
      "text/plain": [
       "Text(0.5, 1.0, 'As airport and main station ')"
      ]
     },
     "execution_count": 40,
     "metadata": {},
     "output_type": "execute_result"
    },
    {
     "data": {
      "image/png": "[encoded data removed]",
      "text/plain": [
       "<Figure size 2000x800 with 4 Axes>"
      ]
     },
     "metadata": {},
     "output_type": "display_data"
    }
   ],
   "source": [
    "fig = plt.figure(figsize=(20,8))\n",
    "fig.suptitle('Cities ,Main Stations and Airports')\n",
    "plt.subplot(2,2,1)\n",
    "sns.countplot(x='is_city',data=df,hue='is_main_station')\n",
    "plt.title('As cities with train stations')\n",
    "plt.subplot(2,2,2)\n",
    "sns.countplot(x='is_main_station',data=df)\n",
    "plt.title('As main station ')\n",
    "plt.subplot(2,2,3)\n",
    "sns.countplot(x='is_airport',data=df)\n",
    "plt.title('As airport')\n",
    "plt.subplot(2,2,4)\n",
    "sns.countplot(x='is_airport',data=df,hue='is_main_station')\n",
    "plt.title('As airport and main station ')\n",
    "\n"
   ]
  },
  {
   "cell_type": "code",
   "execution_count": 43,
   "id": "783dc421",
   "metadata": {},
   "outputs": [
    {
     "data": {
      "text/plain": [
       "<AxesSubplot:xlabel='country', ylabel='count'>"
      ]
     },
     "execution_count": 43,
     "metadata": {},
     "output_type": "execute_result"
    },
    {
     "data": {
      "image/png": "[encoded data removed]",
      "text/plain": [
       "<Figure size 2000x800 with 1 Axes>"
      ]
     },
     "metadata": {},
     "output_type": "display_data"
    }
   ],
   "source": [
    "plt.figure(figsize=(20,8))\n",
    "sns.countplot(x='country',data=df)\n",
    "plt.title('How cities compare interms of train stations')"
   ]
  },
  {
   "cell_type": "code",
   "execution_count": 54,
   "id": "a6543e96",
   "metadata": {},
   "outputs": [
    {
     "data": {
      "text/plain": [
       "Text(0.5, 1.0, 'How cities compare interms of time zones sample of 17%')"
      ]
     },
     "execution_count": 54,
     "metadata": {},
     "output_type": "execute_result"
    },
    {
     "data": {
      "image/png": "[encoded data removed]",
      "text/plain": [
       "<Figure size 2000x800 with 1 Axes>"
      ]
     },
     "metadata": {},
     "output_type": "display_data"
    }
   ],
   "source": [
    "plt.figure(figsize=(20,8))\n",
    "sns.countplot(data=df.head(10000),x='time_zone')\n",
    "plt.title('How cities compare interms of time zones sample of 17%')\n",
    "# Most of the train stations  follow the Europe/Paris Time and Europe/Berlin"
   ]
  },
  {
   "cell_type": "code",
   "execution_count": 55,
   "id": "6c31e1c6",
   "metadata": {},
   "outputs": [
    {
     "data": {
      "text/html": [
       "<div>\n",
       "<style scoped>\n",
       "    .dataframe tbody tr th:only-of-type {\n",
       "        vertical-align: middle;\n",
       "    }\n",
       "\n",
       "    .dataframe tbody tr th {\n",
       "        vertical-align: top;\n",
       "    }\n",
       "\n",
       "    .dataframe thead th {\n",
       "        text-align: right;\n",
       "    }\n",
       "</style>\n",
       "<table border=\"1\" class=\"dataframe\">\n",
       "  <thead>\n",
       "    <tr style=\"text-align: right;\">\n",
       "      <th></th>\n",
       "      <th>name</th>\n",
       "      <th>name_norm</th>\n",
       "      <th>country</th>\n",
       "      <th>time_zone</th>\n",
       "      <th>is_city</th>\n",
       "      <th>is_main_station</th>\n",
       "      <th>is_airport</th>\n",
       "      <th>entur_is_enabled</th>\n",
       "    </tr>\n",
       "  </thead>\n",
       "  <tbody>\n",
       "    <tr>\n",
       "      <th>0</th>\n",
       "      <td>Château-Arnoux—St-Auban</td>\n",
       "      <td>Chateau-Arnoux-St-Auban</td>\n",
       "      <td>FR</td>\n",
       "      <td>Europe/Paris</td>\n",
       "      <td>True</td>\n",
       "      <td>False</td>\n",
       "      <td>False</td>\n",
       "      <td>False</td>\n",
       "    </tr>\n",
       "    <tr>\n",
       "      <th>1</th>\n",
       "      <td>Château-Arnoux—St-Auban</td>\n",
       "      <td>Chateau-Arnoux-St-Auban</td>\n",
       "      <td>FR</td>\n",
       "      <td>Europe/Paris</td>\n",
       "      <td>False</td>\n",
       "      <td>True</td>\n",
       "      <td>False</td>\n",
       "      <td>False</td>\n",
       "    </tr>\n",
       "    <tr>\n",
       "      <th>2</th>\n",
       "      <td>Château-Arnoux Mairie</td>\n",
       "      <td>Chateau-Arnoux Mairie</td>\n",
       "      <td>FR</td>\n",
       "      <td>Europe/Paris</td>\n",
       "      <td>False</td>\n",
       "      <td>False</td>\n",
       "      <td>False</td>\n",
       "      <td>False</td>\n",
       "    </tr>\n",
       "    <tr>\n",
       "      <th>3</th>\n",
       "      <td>Digne-les-Bains</td>\n",
       "      <td>Digne-les-Bains</td>\n",
       "      <td>FR</td>\n",
       "      <td>Europe/Paris</td>\n",
       "      <td>True</td>\n",
       "      <td>False</td>\n",
       "      <td>False</td>\n",
       "      <td>False</td>\n",
       "    </tr>\n",
       "    <tr>\n",
       "      <th>4</th>\n",
       "      <td>Digne-les-Bains</td>\n",
       "      <td>Digne-les-Bains</td>\n",
       "      <td>FR</td>\n",
       "      <td>Europe/Paris</td>\n",
       "      <td>False</td>\n",
       "      <td>True</td>\n",
       "      <td>False</td>\n",
       "      <td>False</td>\n",
       "    </tr>\n",
       "  </tbody>\n",
       "</table>\n",
       "</div>"
      ],
      "text/plain": [
       "                      name                name_norm country     time_zone  \\\n",
       "0  Château-Arnoux—St-Auban  Chateau-Arnoux-St-Auban      FR  Europe/Paris   \n",
       "1  Château-Arnoux—St-Auban  Chateau-Arnoux-St-Auban      FR  Europe/Paris   \n",
       "2    Château-Arnoux Mairie    Chateau-Arnoux Mairie      FR  Europe/Paris   \n",
       "3          Digne-les-Bains          Digne-les-Bains      FR  Europe/Paris   \n",
       "4          Digne-les-Bains          Digne-les-Bains      FR  Europe/Paris   \n",
       "\n",
       "   is_city  is_main_station  is_airport  entur_is_enabled  \n",
       "0     True            False       False             False  \n",
       "1    False             True       False             False  \n",
       "2    False            False       False             False  \n",
       "3     True            False       False             False  \n",
       "4    False             True       False             False  "
      ]
     },
     "execution_count": 55,
     "metadata": {},
     "output_type": "execute_result"
    }
   ],
   "source": [
    "df.head()"
   ]
  },
  {
   "cell_type": "code",
   "execution_count": 70,
   "id": "c5cfa515",
   "metadata": {},
   "outputs": [],
   "source": [
    "# How many main stations are in the Europe/Berlin timezone\n",
    "\"\"\"x = df[df['time_zone']=='Europe/Paris']['is_main_station']\n",
    "x.value_counts().head()\n",
    "sns.countplot(x)\"\"\"\n",
    "\n",
    "#\n",
    "def main_station(identifier,timezone,df=df):\n",
    "    \"\"\"\n",
    "    Args: \n",
    "    identifier(str)-this can be either the name or timezone\n",
    "    timezone : any of all the timezones in the dataset ,try df.timezone.value_counts.head\n",
    "    df : our dataframe\n",
    "    Returns :\n",
    "    \n",
    "    \"\"\"\n",
    "    print( f\"The total in {identifier }| is {df[df[identifier]==timezone]['is_main_station'].value_counts().head()}\")\n",
    "    plt.figure(figsize=(15,8))\n",
    "    sns.countplot(x=df[df[identifier]==timezone]['is_main_station'].value_counts().head())\n",
    "    plt.show()"
   ]
  },
  {
   "cell_type": "code",
   "execution_count": 71,
   "id": "dbc2da5f",
   "metadata": {},
   "outputs": [
    {
     "name": "stdout",
     "output_type": "stream",
     "text": [
      "The total in country| is False    7153\n",
      "True      249\n",
      "Name: is_main_station, dtype: int64\n"
     ]
    },
    {
     "data": {
      "image/png": "[encoded data removed]",
      "text/plain": [
       "<Figure size 1500x800 with 1 Axes>"
      ]
     },
     "metadata": {},
     "output_type": "display_data"
    }
   ],
   "source": [
    "main_station('country','FR')"
   ]
  },
  {
   "cell_type": "code",
   "execution_count": 72,
   "id": "e9eb1a1a",
   "metadata": {},
   "outputs": [
    {
     "name": "stdout",
     "output_type": "stream",
     "text": [
      "The total in time_zone| is False    7784\n",
      "True      112\n",
      "Name: is_main_station, dtype: int64\n"
     ]
    },
    {
     "data": {
      "image/png": "[encoded data removed]",
      "text/plain": [
       "<Figure size 1500x800 with 1 Axes>"
      ]
     },
     "metadata": {},
     "output_type": "display_data"
    }
   ],
   "source": [
    "main_station('time_zone','Europe/Berlin')"
   ]
  },
  {
   "cell_type": "code",
   "execution_count": null,
   "id": "3efbbc45",
   "metadata": {},
   "outputs": [],
   "source": []
  }
 ],
 "metadata": {
  "kernelspec": {
   "display_name": "Python 3 (ipykernel)",
   "language": "python",
   "name": "python3"
  },
  "language_info": {
   "codemirror_mode": {
    "name": "ipython",
    "version": 3
   },
   "file_extension": ".py",
   "mimetype": "text/x-python",
   "name": "python",
   "nbconvert_exporter": "python",
   "pygments_lexer": "ipython3",
   "version": "3.9.13"
  }
 },
 "nbformat": 4,
 "nbformat_minor": 5
}
