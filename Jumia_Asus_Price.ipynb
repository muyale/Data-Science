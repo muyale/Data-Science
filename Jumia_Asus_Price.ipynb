{
  "nbformat": 4,
  "nbformat_minor": 0,
  "metadata": {
    "colab": {
      "provenance": [],
      "authorship_tag": "ABX9TyNpARNXRp0jVI59pp0+z/Z+",
      "include_colab_link": true
    },
    "kernelspec": {
      "name": "python3",
      "display_name": "Python 3"
    },
    "language_info": {
      "name": "python"
    }
  },
  "cells": [
    {
      "cell_type": "markdown",
      "metadata": {
        "id": "view-in-github",
        "colab_type": "text"
      },
      "source": [
        "<a href=\"https://colab.research.google.com/github/muyale/Data-Science/blob/main/Jumia_Asus_Price.ipynb\" target=\"_parent\"><img src=\"https://colab.research.google.com/assets/colab-badge.svg\" alt=\"Open In Colab\"/></a>"
      ]
    },
    {
      "cell_type": "code",
      "execution_count": 111,
      "metadata": {
        "id": "ZNc7kgeJiuzL"
      },
      "outputs": [],
      "source": [
        "import pandas as pd\n",
        "import csv\n",
        "import requests\n",
        "from bs4 import BeautifulSoup\n",
        "import time\n"
      ]
    },
    {
      "cell_type": "code",
      "source": [
        "Url = \"https://www.jumia.co.ke/computing/\"\n",
        "page = requests.get(Url)\n",
        "soup = BeautifulSoup(page.content,'html.parser')"
      ],
      "metadata": {
        "id": "Y3_bf7QWjPOI"
      },
      "execution_count": 112,
      "outputs": []
    },
    {
      "cell_type": "code",
      "source": [
        "# WE WILL MONITOR THE PRICE OF Asus E410M\n",
        "title = soup.find( 'div',class_= \"name\").get_text()\n",
        "price = soup.find('div',class_=\"prc\").get_text()\n",
        "#Using .get_text() we get only the text from our html file\n",
        "\n",
        "lists = soup.find_all('section',id='ctlg')\n",
        "title"
      ],
      "metadata": {
        "colab": {
          "base_uri": "https://localhost:8080/",
          "height": 36
        },
        "id": "5rRA8pwmlwtH",
        "outputId": "38fe4a1e-c55a-4e76-cb92-2dde033182e0"
      },
      "execution_count": 113,
      "outputs": [
        {
          "output_type": "execute_result",
          "data": {
            "text/plain": [
              "'Asus E410M, Celeron, 4Gb Ram, 128Gb SSD, 14 Inches FHD Screen, Windows 11 Laptop'"
            ],
            "application/vnd.google.colaboratory.intrinsic+json": {
              "type": "string"
            }
          },
          "metadata": {},
          "execution_count": 113
        }
      ]
    },
    {
      "cell_type": "code",
      "source": [
        "#Using strip() method so that our data comes out clearly\n",
        "price =price.strip()[1:]\n",
        "title = title.strip()\n",
        "price\n",
        "import datetime\n",
        "today = datetime.date.today()\n",
        "today"
      ],
      "metadata": {
        "colab": {
          "base_uri": "https://localhost:8080/"
        },
        "id": "XXU1NBhkOiVg",
        "outputId": "b5317727-af22-4f42-92ef-2d6fba15cfa6"
      },
      "execution_count": 114,
      "outputs": [
        {
          "output_type": "execute_result",
          "data": {
            "text/plain": [
              "datetime.date(2022, 12, 17)"
            ]
          },
          "metadata": {},
          "execution_count": 114
        }
      ]
    },
    {
      "cell_type": "code",
      "source": [
        "# Creating a Csv file with three columns,using write csv function\n",
        "header =['Title','Price','Date']\n",
        "data = [title,price,today]\n",
        "with open('Jumia_Computer_Price.csv','w',newline='',encoding='UTF8') as f:\n",
        "  writer = csv.writer(f)\n",
        "  writer.writerow(header)\n",
        "  writer.writerow(data)\n"
      ],
      "metadata": {
        "id": "R-P2Ec7pyab8"
      },
      "execution_count": 115,
      "outputs": []
    },
    {
      "cell_type": "code",
      "source": [
        "# How we are going to append data into our created csv file\n",
        "with open('Jumia_Computer_Price.csv','a+',newline='',encoding='UTF8') as f:\n",
        "  writer = csv.writer(f)\n",
        "  writer.writerow(header)\n",
        "  writer.writerow(data)"
      ],
      "metadata": {
        "id": "A5u87LfJrkaR"
      },
      "execution_count": 116,
      "outputs": []
    },
    {
      "cell_type": "code",
      "source": [
        "#Create a function that checks price over time ,to be done at the backend\n",
        "def check_price():\n",
        "  \"\"\" Args:\n",
        "  url:This is the url where we are obtaining our data\n",
        "  title,price:These are the crucial information that we intend to scrape\n",
        "  Returns :\n",
        "  \"\"\"\n",
        "  Url = \"https://www.jumia.co.ke/computing/\"\n",
        "  page = requests.get(Url)\n",
        "  soup = BeautifulSoup(page.content,'html.parser') \n",
        "  title = soup.find( 'div',class_= \"name\").get_text()\n",
        "  price = soup.find('div',class_=\"prc\").get_text()\n",
        "  price =price.strip()[1:]\n",
        "  title = title.strip()\n",
        "  import datetime\n",
        "  today = datetime.date.today()\n",
        "  header =['Title','Price','Date']\n",
        "  data = [title,price,today]\n",
        "  with open('Jumia_Computer_Price.csv','w',newline='',encoding='UTF8') as f:\n",
        "    writer = csv.writer(f)\n",
        "    writer.writerow(header)\n",
        "    writer.writerow(data)\n",
        "    with open('Jumia_Computer_Price.csv','a+',newline='',encoding='UTF8') as f:\n",
        "      writer = csv.writer(f)\n",
        "      writer.writerow(header)\n",
        "      writer.writerow(data)\n",
        "\n",
        "\n",
        "\n",
        "\n"
      ],
      "metadata": {
        "id": "UNvW1LRVSRFP"
      },
      "execution_count": 119,
      "outputs": []
    },
    {
      "cell_type": "code",
      "source": [
        "while(True):\n",
        "  check_price()\n",
        "  time.sleep(3000)\n",
        "  #This loop checks the price of Our item after x seconds"
      ],
      "metadata": {
        "colab": {
          "base_uri": "https://localhost:8080/",
          "height": 200
        },
        "id": "R1PSSyiLUYaR",
        "outputId": "cc6f7ea6-ce4a-4897-e343-f97934360015"
      },
      "execution_count": 118,
      "outputs": [
        {
          "output_type": "error",
          "ename": "KeyboardInterrupt",
          "evalue": "ignored",
          "traceback": [
            "\u001b[0;31m---------------------------------------------------------------------------\u001b[0m",
            "\u001b[0;31mKeyboardInterrupt\u001b[0m                         Traceback (most recent call last)",
            "\u001b[0;32m<ipython-input-118-0e9f1ee6f99f>\u001b[0m in \u001b[0;36m<module>\u001b[0;34m\u001b[0m\n\u001b[1;32m      1\u001b[0m \u001b[0;32mwhile\u001b[0m\u001b[0;34m(\u001b[0m\u001b[0;32mTrue\u001b[0m\u001b[0;34m)\u001b[0m\u001b[0;34m:\u001b[0m\u001b[0;34m\u001b[0m\u001b[0;34m\u001b[0m\u001b[0m\n\u001b[1;32m      2\u001b[0m   \u001b[0mcheck_price\u001b[0m\u001b[0;34m(\u001b[0m\u001b[0;34m)\u001b[0m\u001b[0;34m\u001b[0m\u001b[0;34m\u001b[0m\u001b[0m\n\u001b[0;32m----> 3\u001b[0;31m   \u001b[0mtime\u001b[0m\u001b[0;34m.\u001b[0m\u001b[0msleep\u001b[0m\u001b[0;34m(\u001b[0m\u001b[0;36m3000\u001b[0m\u001b[0;34m)\u001b[0m\u001b[0;34m\u001b[0m\u001b[0;34m\u001b[0m\u001b[0m\n\u001b[0m",
            "\u001b[0;31mKeyboardInterrupt\u001b[0m: "
          ]
        }
      ]
    },
    {
      "cell_type": "code",
      "source": [],
      "metadata": {
        "id": "NrVHHh4NUcM-"
      },
      "execution_count": null,
      "outputs": []
    }
  ]
}