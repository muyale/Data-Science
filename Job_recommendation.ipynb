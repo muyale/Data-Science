{
 "cells": [
  {
   "cell_type": "code",
   "execution_count": 1,
   "id": "a616765d-f5e6-4282-bb97-0c54f416c565",
   "metadata": {},
   "outputs": [],
   "source": [
    "import pandas as pd\n",
    "import numpy as np\n",
    "import seaborn as sns\n",
    "import matplotlib.pyplot as plt\n",
    "import datetime"
   ]
  },
  {
   "cell_type": "code",
   "execution_count": 2,
   "id": "2c7fcbd1-eaca-424a-9305-73c5f1d84dd5",
   "metadata": {},
   "outputs": [
    {
     "data": {
      "text/plain": [
       "url                     0\n",
       "company_name            0\n",
       "geo                     0\n",
       "JobTitle                0\n",
       "JobText                 0\n",
       "JobLocation           616\n",
       "JobPostDate           688\n",
       "last_date_to_apply    999\n",
       "dtype: int64"
      ]
     },
     "execution_count": 2,
     "metadata": {},
     "output_type": "execute_result"
    }
   ],
   "source": [
    "\"\"\"THE PURPOSE OF THIS PROJECT IS TO BUILD A JOB RECOMMENDATION SYSTEM USING US jobs datasets,\n",
    "--https://www.kaggle.com/datasets/JobsPikrHQ/usa-based-job-data-set-from-300-companies--\n",
    "the dataset comprises of several job listings,the companies and the last dates to apply for the jobs and the job description\n",
    "The dataset contains 24,376 rows and 8 columns\n",
    "First I checked for the null values in the dataset and these were the results\n",
    "\n",
    "\n",
    "company_name              0\n",
    "geo                       0\n",
    "JobTitle                  0\n",
    "JobText                 233\n",
    "JobLocation            8062\n",
    "JobPostDate           18134\n",
    "last_date_to_apply    2378\n",
    "\n",
    "\"\"\"\n",
    "df = pd.read_csv(\"C:\\\\Datasets\\\\US-based jobs.csv\")\n",
    "df=df.head(1000)\n",
    "df.isnull().sum()\n"
   ]
  },
  {
   "cell_type": "code",
   "execution_count": 3,
   "id": "2455cf0a-7179-437c-b2d0-333ca7b06fc6",
   "metadata": {},
   "outputs": [
    {
     "data": {
      "text/plain": [
       "2018-04-03T12:00:00+00:00    1\n",
       "Name: last_date_to_apply, dtype: int64"
      ]
     },
     "execution_count": 3,
     "metadata": {},
     "output_type": "execute_result"
    }
   ],
   "source": [
    "# The method of data cleaning will be filling  with the most common elements \n",
    "df['last_date_to_apply'].value_counts().head(10)"
   ]
  },
  {
   "cell_type": "code",
   "execution_count": 4,
   "id": "d4ba0953-9651-4077-8415-dae0c24250be",
   "metadata": {},
   "outputs": [],
   "source": [
    "df['last_date_to_apply'] = df['last_date_to_apply'].fillna('2018-01-01T12:00:00+00:00')"
   ]
  },
  {
   "cell_type": "code",
   "execution_count": 5,
   "id": "5a0a02dd-42cd-48af-8d99-16843b1051c3",
   "metadata": {},
   "outputs": [
    {
     "data": {
      "text/plain": [
       "2017-10-06T12:00:00+00:00    69\n",
       "2017-10-12T12:00:00+00:00    65\n",
       "2017-10-09T12:00:00+00:00    44\n",
       "2017-10-10T12:00:00+00:00    40\n",
       "2017-10-02T12:00:00+00:00    40\n",
       "2017-10-04T12:00:00+00:00    16\n",
       "2017-10-03T12:00:00+00:00    12\n",
       "2017-10-05T12:00:00+00:00     4\n",
       "2017-09-28T12:00:00+00:00     4\n",
       "2017-10-13T12:00:00+00:00     3\n",
       "Name: JobPostDate, dtype: int64"
      ]
     },
     "execution_count": 5,
     "metadata": {},
     "output_type": "execute_result"
    }
   ],
   "source": [
    "df['JobPostDate'].value_counts().head(10)"
   ]
  },
  {
   "cell_type": "code",
   "execution_count": 6,
   "id": "9231a56d-8ad4-4cb5-9dd1-05d3f9f8dab6",
   "metadata": {},
   "outputs": [],
   "source": [
    "df['JobPostDate'] = df['JobPostDate'].fillna('2017-10-10T12:00:00+00:00')"
   ]
  },
  {
   "cell_type": "code",
   "execution_count": 7,
   "id": "744f5649-7b75-472d-a2cd-9e642c493d6e",
   "metadata": {},
   "outputs": [
    {
     "data": {
      "text/plain": [
       "url                     0\n",
       "company_name            0\n",
       "geo                     0\n",
       "JobTitle                0\n",
       "JobText                 0\n",
       "JobLocation           616\n",
       "JobPostDate             0\n",
       "last_date_to_apply      0\n",
       "dtype: int64"
      ]
     },
     "execution_count": 7,
     "metadata": {},
     "output_type": "execute_result"
    }
   ],
   "source": [
    "df.isnull().sum()"
   ]
  },
  {
   "cell_type": "code",
   "execution_count": 8,
   "id": "c4d1a17e-2d20-4d85-bc53-ea72700d41a7",
   "metadata": {},
   "outputs": [
    {
     "data": {
      "text/plain": [
       "US-FL-Orlando                                 45\n",
       "California-Los Gatos-Terraces of Los Gatos    14\n",
       "US-FL-Altamonte Springs                       13\n",
       "Multiple Locations                            12\n",
       "Washington DC Metro Area                      11\n",
       "Name: JobLocation, dtype: int64"
      ]
     },
     "execution_count": 8,
     "metadata": {},
     "output_type": "execute_result"
    }
   ],
   "source": [
    "df['JobLocation'].value_counts().head()"
   ]
  },
  {
   "cell_type": "code",
   "execution_count": 9,
   "id": "b75de176-b243-4372-88d6-3ce9d76bd9e7",
   "metadata": {},
   "outputs": [],
   "source": [
    "df['JobLocation'] = df['JobLocation'].fillna('Multiple Locations')"
   ]
  },
  {
   "cell_type": "code",
   "execution_count": 10,
   "id": "bd0dfd40-7bfc-4a7b-b1e3-86a84f60cd98",
   "metadata": {},
   "outputs": [],
   "source": [
    "df['JobText'] = df['JobText'].fillna('A good job to start with ,requires adequate experience')"
   ]
  },
  {
   "cell_type": "code",
   "execution_count": 11,
   "id": "0b8b63b2-2855-4d7d-931b-42b60792f81e",
   "metadata": {},
   "outputs": [
    {
     "data": {
      "text/plain": [
       "url                   0\n",
       "company_name          0\n",
       "geo                   0\n",
       "JobTitle              0\n",
       "JobText               0\n",
       "JobLocation           0\n",
       "JobPostDate           0\n",
       "last_date_to_apply    0\n",
       "dtype: int64"
      ]
     },
     "execution_count": 11,
     "metadata": {},
     "output_type": "execute_result"
    }
   ],
   "source": [
    "df.isnull().sum()"
   ]
  },
  {
   "cell_type": "code",
   "execution_count": 12,
   "id": "eac5fa6a-131c-42bd-bfc6-3b4579da3907",
   "metadata": {},
   "outputs": [],
   "source": [
    "  \"\"\"Now I will create a function that returns most appearing items in a column\"\"\"\n",
    "def most_common(column,df=df):\n",
    "    \"\"\"This function returns top ten appearing elements in a column\"\"\"\n",
    "    print(df[column].value_counts().head(20))"
   ]
  },
  {
   "cell_type": "code",
   "execution_count": 13,
   "id": "390f823c-2b2c-4acb-995a-38dcc26d7ff0",
   "metadata": {},
   "outputs": [
    {
     "name": "stdout",
     "output_type": "stream",
     "text": [
      "Amazon.com                    590\n",
      "Adventist Health System       106\n",
      "Airgas Inc.                    98\n",
      "AllianceData                   68\n",
      "ABHOW                          39\n",
      "Advantage SCI                  17\n",
      "Acelero Learning               16\n",
      "Adient                         16\n",
      "21Tech                         12\n",
      "Addx                           11\n",
      "Aimco                           9\n",
      "Aero Communications Inc         6\n",
      "AAR Corp.                       4\n",
      "Alere                           4\n",
      "ALTOUR                          2\n",
      "Ace Mart Restaurant Supply      1\n",
      "Air Canada                      1\n",
      "Name: company_name, dtype: int64\n"
     ]
    }
   ],
   "source": [
    "most_common('company_name')\n",
    "#Amazon is the leading company ,interms of Job Applications"
   ]
  },
  {
   "cell_type": "code",
   "execution_count": 14,
   "id": "c46ac42f-77a5-4fd2-8151-92ac2f1506ff",
   "metadata": {},
   "outputs": [],
   "source": [
    "# Now for all the columns,first drop url since it is not of much help in our recommender\n",
    "df.drop(['url'],axis=1,inplace=True)"
   ]
  },
  {
   "cell_type": "code",
   "execution_count": 15,
   "id": "8022b27a-1ca8-4c75-81e7-e3fad2940397",
   "metadata": {},
   "outputs": [
    {
     "name": "stdout",
     "output_type": "stream",
     "text": [
      "Amazon.com                    590\n",
      "Adventist Health System       106\n",
      "Airgas Inc.                    98\n",
      "AllianceData                   68\n",
      "ABHOW                          39\n",
      "Advantage SCI                  17\n",
      "Acelero Learning               16\n",
      "Adient                         16\n",
      "21Tech                         12\n",
      "Addx                           11\n",
      "Aimco                           9\n",
      "Aero Communications Inc         6\n",
      "AAR Corp.                       4\n",
      "Alere                           4\n",
      "ALTOUR                          2\n",
      "Ace Mart Restaurant Supply      1\n",
      "Air Canada                      1\n",
      "Name: company_name, dtype: int64\n"
     ]
    }
   ],
   "source": [
    "amazon = df[df['company_name']=='Amazon.com'].value_counts()\n",
    "most_common('company_name')"
   ]
  },
  {
   "cell_type": "code",
   "execution_count": 16,
   "id": "30a3c860-240f-45dd-a791-38f0a3b81f5d",
   "metadata": {},
   "outputs": [],
   "source": [
    "amazon = dict(df[df['company_name']=='Amazon.com']['company_name'].value_counts())\n",
    "Matson= dict(df[df['company_name']=='MATSON NAVIGATION COMPANY, INC.']['company_name'].value_counts())\n",
    "Northshore = dict(df[df['company_name']=='North Shore Medical Center ']['company_name'].value_counts())\n",
    "photogenic = dict(df[df['company_name']=='Photogenic Inc.']['company_name'].value_counts())\n",
    "Petco = dict(df[df['company_name']=='Petco']['company_name'].value_counts())\n",
    "Mondelez = dict(df[df['company_name']=='Petco']['company_name'].value_counts())\n",
    "Marriot =dict(Petco = df[df['company_name']=='Mariot']['company_name'].value_counts())\n",
    "companies =[amazon,Matson,Northshore,photogenic,Petco,Mondelez,Marriot]\n"
   ]
  },
  {
   "cell_type": "code",
   "execution_count": 17,
   "id": "700d33bf-1671-42d8-82e3-77639c8364ca",
   "metadata": {},
   "outputs": [
    {
     "data": {
      "text/plain": [
       "Index(['company_name', 'geo', 'JobTitle', 'JobText', 'JobLocation',\n",
       "       'JobPostDate', 'last_date_to_apply'],\n",
       "      dtype='object')"
      ]
     },
     "execution_count": 17,
     "metadata": {},
     "output_type": "execute_result"
    }
   ],
   "source": [
    "df.columns"
   ]
  },
  {
   "cell_type": "code",
   "execution_count": 18,
   "id": "c7745233-a961-47d9-a49c-32aaa7079a6c",
   "metadata": {},
   "outputs": [],
   "source": [
    "df.drop(['last_date_to_apply'],axis=1,inplace=True)"
   ]
  },
  {
   "cell_type": "code",
   "execution_count": 19,
   "id": "735e25dd-dfc4-4712-9ae0-df5427b74de1",
   "metadata": {},
   "outputs": [
    {
     "data": {
      "text/plain": [
       "Index(['company_name', 'geo', 'JobTitle', 'JobText', 'JobLocation',\n",
       "       'JobPostDate'],\n",
       "      dtype='object')"
      ]
     },
     "execution_count": 19,
     "metadata": {},
     "output_type": "execute_result"
    }
   ],
   "source": [
    "df.columns"
   ]
  },
  {
   "cell_type": "code",
   "execution_count": 20,
   "id": "bfa6e3cb-a199-426d-95e4-a7a2dc013eb2",
   "metadata": {},
   "outputs": [
    {
     "name": "stdout",
     "output_type": "stream",
     "text": [
      "Software Development Engineer                                  23\n",
      "Yard Specialist – Weekend Part Time – 16 Hours                 22\n",
      "Product Design Engineer                                        13\n",
      "Control Systems Technician                                     12\n",
      "Controls Engineer                                              12\n",
      "Sr. Human Resources Assistant                                  11\n",
      "Maintenance Technician II - Military Veterans                  11\n",
      "Current Acelero Employees, Please Apply From the Link Below    10\n",
      "Safety Specialist                                              10\n",
      "Maintenance Technician II                                      10\n",
      "Seattle Hiring Event - Technical Program Manager               10\n",
      "IT Support Engineer                                             9\n",
      "Search Openings                                                 9\n",
      "Global IT Support Specialist                                    9\n",
      "MS SQL Consultant                                               9\n",
      "Maintenance Technician                                          8\n",
      "Previous Applicants                                             7\n",
      "Recruiting Coordinator                                          7\n",
      "Onsite Medical Representative                                   7\n",
      "Senior Software Development Engineer                            7\n",
      "Name: JobTitle, dtype: int64\n"
     ]
    }
   ],
   "source": [
    "most_common('JobTitle')"
   ]
  },
  {
   "cell_type": "code",
   "execution_count": 21,
   "id": "b470cef3-5640-47cf-8d9f-9d405fbd17ab",
   "metadata": {},
   "outputs": [],
   "source": [
    "# A function to get important features\n",
    "def get_important_features(df):\n",
    "    important_features = []\n",
    "    for i in range(0,df.shape[0]):\n",
    "                   important_features.append(df['company_name'][i]+df['JobTitle'][i]+df['JobText'][i]+df['JobLocation'][i])\n",
    "    return  important_features\n",
    "    "
   ]
  },
  {
   "cell_type": "code",
   "execution_count": 65,
   "id": "70981f8a-1911-481b-9a1b-9b4c6d97588b",
   "metadata": {},
   "outputs": [],
   "source": [
    "df['important_features'] = get_important_features(df)"
   ]
  },
  {
   "cell_type": "code",
   "execution_count": 66,
   "id": "178531d4-8217-462d-a8a6-9bed4892158d",
   "metadata": {},
   "outputs": [
    {
     "data": {
      "text/plain": [
       "(1000, 1514)"
      ]
     },
     "execution_count": 66,
     "metadata": {},
     "output_type": "execute_result"
    }
   ],
   "source": [
    "\"\"\"Building a Job Recommendation engine using tfidf  and cosine similarity\"\"\"\n",
    "from sklearn.feature_extraction.text import TfidfVectorizer\n",
    "tfidf = TfidfVectorizer(stop_words='english')\n",
    "tfidf_matrix=tfidf.fit_transform(df['important_features'])\n",
    "tfidf_matrix.shape"
   ]
  },
  {
   "cell_type": "code",
   "execution_count": 67,
   "id": "17837e45-012a-4ddd-8959-7876eb429761",
   "metadata": {},
   "outputs": [],
   "source": [
    "from sklearn.metrics.pairwise import cosine_similarity\n",
    "cosine_sim = cosine_similarity(tfidf_matrix)\n",
    "indices =pd.Series(df.index,index= df['JobTitle'])"
   ]
  },
  {
   "cell_type": "code",
   "execution_count": 68,
   "id": "62bd83ee-6fa6-4885-a40f-b5b17f93becf",
   "metadata": {},
   "outputs": [],
   "source": [
    "my_important_features = df['important_features']"
   ]
  },
  {
   "cell_type": "code",
   "execution_count": 84,
   "id": "14dc503d-d354-465a-aee2-ba05433dce84",
   "metadata": {},
   "outputs": [],
   "source": [
    "\n",
    "def get_recommendations(title):\n",
    "    idx = indices[title]\n",
    "    sim_scores = list(enumerate(cosine_sim[idx]))\n",
    "    sim_scores = sorted(sim_scores, key=lambda x: x[1], reverse=True)\n",
    "    sim_scores = sim_scores[1:10]\n",
    "    book_indices = [i[0] for i in sim_scores]\n",
    "\n",
    "    return df['company_name'].iloc[indices]"
   ]
  },
  {
   "cell_type": "code",
   "execution_count": 88,
   "id": "ef3e9960-ed7b-4cf5-ba1c-66a06a1d5bf5",
   "metadata": {},
   "outputs": [
    {
     "ename": "ValueError",
     "evalue": "The truth value of an array with more than one element is ambiguous. Use a.any() or a.all()",
     "output_type": "error",
     "traceback": [
      "\u001b[1;31m---------------------------------------------------------------------------\u001b[0m",
      "\u001b[1;31mValueError\u001b[0m                                Traceback (most recent call last)",
      "\u001b[1;32m~\\AppData\\Local\\Temp\\ipykernel_5368\\3801276811.py\u001b[0m in \u001b[0;36m<module>\u001b[1;34m\u001b[0m\n\u001b[1;32m----> 1\u001b[1;33m \u001b[0mget_recommendations\u001b[0m\u001b[1;33m(\u001b[0m\u001b[1;34m'MS SQL Consultant'\u001b[0m\u001b[1;33m)\u001b[0m\u001b[1;33m\u001b[0m\u001b[1;33m\u001b[0m\u001b[0m\n\u001b[0m",
      "\u001b[1;32m~\\AppData\\Local\\Temp\\ipykernel_5368\\2108899538.py\u001b[0m in \u001b[0;36mget_recommendations\u001b[1;34m(title)\u001b[0m\n\u001b[0;32m      2\u001b[0m     \u001b[0midx\u001b[0m \u001b[1;33m=\u001b[0m \u001b[0mindices\u001b[0m\u001b[1;33m[\u001b[0m\u001b[0mtitle\u001b[0m\u001b[1;33m]\u001b[0m\u001b[1;33m\u001b[0m\u001b[1;33m\u001b[0m\u001b[0m\n\u001b[0;32m      3\u001b[0m     \u001b[0msim_scores\u001b[0m \u001b[1;33m=\u001b[0m \u001b[0mlist\u001b[0m\u001b[1;33m(\u001b[0m\u001b[0menumerate\u001b[0m\u001b[1;33m(\u001b[0m\u001b[0mcosine_sim\u001b[0m\u001b[1;33m[\u001b[0m\u001b[0midx\u001b[0m\u001b[1;33m]\u001b[0m\u001b[1;33m)\u001b[0m\u001b[1;33m)\u001b[0m\u001b[1;33m\u001b[0m\u001b[1;33m\u001b[0m\u001b[0m\n\u001b[1;32m----> 4\u001b[1;33m     \u001b[0msim_scores\u001b[0m \u001b[1;33m=\u001b[0m \u001b[0msorted\u001b[0m\u001b[1;33m(\u001b[0m\u001b[0msim_scores\u001b[0m\u001b[1;33m,\u001b[0m \u001b[0mkey\u001b[0m\u001b[1;33m=\u001b[0m\u001b[1;32mlambda\u001b[0m \u001b[0mx\u001b[0m\u001b[1;33m:\u001b[0m \u001b[0mx\u001b[0m\u001b[1;33m[\u001b[0m\u001b[1;36m1\u001b[0m\u001b[1;33m]\u001b[0m\u001b[1;33m,\u001b[0m \u001b[0mreverse\u001b[0m\u001b[1;33m=\u001b[0m\u001b[1;32mTrue\u001b[0m\u001b[1;33m)\u001b[0m\u001b[1;33m\u001b[0m\u001b[1;33m\u001b[0m\u001b[0m\n\u001b[0m\u001b[0;32m      5\u001b[0m     \u001b[0msim_scores\u001b[0m \u001b[1;33m=\u001b[0m \u001b[0msim_scores\u001b[0m\u001b[1;33m[\u001b[0m\u001b[1;36m1\u001b[0m\u001b[1;33m:\u001b[0m\u001b[1;36m10\u001b[0m\u001b[1;33m]\u001b[0m\u001b[1;33m\u001b[0m\u001b[1;33m\u001b[0m\u001b[0m\n\u001b[0;32m      6\u001b[0m     \u001b[0mbook_indices\u001b[0m \u001b[1;33m=\u001b[0m \u001b[1;33m[\u001b[0m\u001b[0mi\u001b[0m\u001b[1;33m[\u001b[0m\u001b[1;36m0\u001b[0m\u001b[1;33m]\u001b[0m \u001b[1;32mfor\u001b[0m \u001b[0mi\u001b[0m \u001b[1;32min\u001b[0m \u001b[0msim_scores\u001b[0m\u001b[1;33m]\u001b[0m\u001b[1;33m\u001b[0m\u001b[1;33m\u001b[0m\u001b[0m\n",
      "\u001b[1;31mValueError\u001b[0m: The truth value of an array with more than one element is ambiguous. Use a.any() or a.all()"
     ]
    }
   ],
   "source": [
    "get_recommendations('MS SQL Consultant')"
   ]
  },
  {
   "cell_type": "code",
   "execution_count": null,
   "id": "26f7126b-a165-4906-b882-9d91b8ec72ec",
   "metadata": {},
   "outputs": [],
   "source": []
  },
  {
   "cell_type": "code",
   "execution_count": null,
   "id": "b245f640-0682-4e24-a10b-92e4618dfb1c",
   "metadata": {},
   "outputs": [],
   "source": []
  }
 ],
 "metadata": {
  "kernelspec": {
   "display_name": "Python 3 (ipykernel)",
   "language": "python",
   "name": "python3"
  },
  "language_info": {
   "codemirror_mode": {
    "name": "ipython",
    "version": 3
   },
   "file_extension": ".py",
   "mimetype": "text/x-python",
   "name": "python",
   "nbconvert_exporter": "python",
   "pygments_lexer": "ipython3",
   "version": "3.9.13"
  }
 },
 "nbformat": 4,
 "nbformat_minor": 5
}
