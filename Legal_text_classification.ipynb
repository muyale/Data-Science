{
 "cells": [
  {
   "cell_type": "markdown",
   "id": "8a32ff0f",
   "metadata": {},
   "source": [
    "# LEGAL TEXT CLASSIFICATION PROJECT\n",
    "\n",
    "\n",
    "PROJECT : GIVEN LEGAL TEXT DATA ,I AIM TO CLASSIFY THE TEXT BASED ON DIFFERENT OUTCOMES . I WILL APPROACH THIS USING VARIOUS METHODS INCLUDING LINEARSVC ,RANDOMFOREST . WE CAN LEARN FROM THE UNIGRAMS AND BIGRAMS AND TRY TO MODEL THIS \n",
    "RELATIONSHIP. "
   ]
  },
  {
   "cell_type": "code",
   "execution_count": 1,
   "id": "ff0aec42",
   "metadata": {},
   "outputs": [],
   "source": [
    "import pandas as pd\n",
    "import numpy as np\n",
    "import seaborn as sns\n",
    "import matplotlib.pyplot as plt\n",
    "from sklearn.feature_extraction.text import TfidfVectorizer,TfidfTransformer\n",
    "from sklearn.feature_selection import chi2\n",
    "from sklearn.linear_model import LogisticRegression\n",
    "from sklearn.svm import LinearSVC\n",
    "from sklearn.ensemble import RandomForestClassifier\n",
    "from sklearn.model_selection import train_test_split,cross_val_score\n",
    "from scipy.stats import randint"
   ]
  },
  {
   "cell_type": "code",
   "execution_count": 2,
   "id": "7aa847a6",
   "metadata": {},
   "outputs": [],
   "source": [
    "df = pd.read_csv(\"C:\\\\Datasets\\\\legal_text_classification\\\\legal_text_classification.csv\")"
   ]
  },
  {
   "cell_type": "code",
   "execution_count": 3,
   "id": "27ee9a48",
   "metadata": {},
   "outputs": [
    {
     "data": {
      "text/html": [
       "<div>\n",
       "<style scoped>\n",
       "    .dataframe tbody tr th:only-of-type {\n",
       "        vertical-align: middle;\n",
       "    }\n",
       "\n",
       "    .dataframe tbody tr th {\n",
       "        vertical-align: top;\n",
       "    }\n",
       "\n",
       "    .dataframe thead th {\n",
       "        text-align: right;\n",
       "    }\n",
       "</style>\n",
       "<table border=\"1\" class=\"dataframe\">\n",
       "  <thead>\n",
       "    <tr style=\"text-align: right;\">\n",
       "      <th></th>\n",
       "      <th>0</th>\n",
       "      <th>1</th>\n",
       "      <th>2</th>\n",
       "      <th>3</th>\n",
       "      <th>4</th>\n",
       "    </tr>\n",
       "  </thead>\n",
       "  <tbody>\n",
       "    <tr>\n",
       "      <th>case_id</th>\n",
       "      <td>Case1</td>\n",
       "      <td>Case2</td>\n",
       "      <td>Case3</td>\n",
       "      <td>Case4</td>\n",
       "      <td>Case5</td>\n",
       "    </tr>\n",
       "    <tr>\n",
       "      <th>case_outcome</th>\n",
       "      <td>cited</td>\n",
       "      <td>cited</td>\n",
       "      <td>cited</td>\n",
       "      <td>cited</td>\n",
       "      <td>cited</td>\n",
       "    </tr>\n",
       "    <tr>\n",
       "      <th>case_title</th>\n",
       "      <td>Alpine Hardwood (Aust) Pty Ltd v Hardys Pty Lt...</td>\n",
       "      <td>Black v Lipovac [1998] FCA 699 ; (1998) 217 AL...</td>\n",
       "      <td>Colgate Palmolive Co v Cussons Pty Ltd (1993) ...</td>\n",
       "      <td>Dais Studio Pty Ltd v Bullett Creative Pty Ltd...</td>\n",
       "      <td>Dr Martens Australia Pty Ltd v Figgins Holding...</td>\n",
       "    </tr>\n",
       "    <tr>\n",
       "      <th>case_text</th>\n",
       "      <td>Ordinarily that discretion will be exercised s...</td>\n",
       "      <td>The general principles governing the exercise ...</td>\n",
       "      <td>Ordinarily that discretion will be exercised s...</td>\n",
       "      <td>The general principles governing the exercise ...</td>\n",
       "      <td>The preceding general principles inform the ex...</td>\n",
       "    </tr>\n",
       "  </tbody>\n",
       "</table>\n",
       "</div>"
      ],
      "text/plain": [
       "                                                              0  \\\n",
       "case_id                                                   Case1   \n",
       "case_outcome                                              cited   \n",
       "case_title    Alpine Hardwood (Aust) Pty Ltd v Hardys Pty Lt...   \n",
       "case_text     Ordinarily that discretion will be exercised s...   \n",
       "\n",
       "                                                              1  \\\n",
       "case_id                                                   Case2   \n",
       "case_outcome                                              cited   \n",
       "case_title    Black v Lipovac [1998] FCA 699 ; (1998) 217 AL...   \n",
       "case_text     The general principles governing the exercise ...   \n",
       "\n",
       "                                                              2  \\\n",
       "case_id                                                   Case3   \n",
       "case_outcome                                              cited   \n",
       "case_title    Colgate Palmolive Co v Cussons Pty Ltd (1993) ...   \n",
       "case_text     Ordinarily that discretion will be exercised s...   \n",
       "\n",
       "                                                              3  \\\n",
       "case_id                                                   Case4   \n",
       "case_outcome                                              cited   \n",
       "case_title    Dais Studio Pty Ltd v Bullett Creative Pty Ltd...   \n",
       "case_text     The general principles governing the exercise ...   \n",
       "\n",
       "                                                              4  \n",
       "case_id                                                   Case5  \n",
       "case_outcome                                              cited  \n",
       "case_title    Dr Martens Australia Pty Ltd v Figgins Holding...  \n",
       "case_text     The preceding general principles inform the ex...  "
      ]
     },
     "execution_count": 3,
     "metadata": {},
     "output_type": "execute_result"
    }
   ],
   "source": [
    "df.head().T"
   ]
  },
  {
   "cell_type": "code",
   "execution_count": 4,
   "id": "bae5cfef",
   "metadata": {},
   "outputs": [
    {
     "data": {
      "text/plain": [
       "(24985, 4)"
      ]
     },
     "execution_count": 4,
     "metadata": {},
     "output_type": "execute_result"
    }
   ],
   "source": [
    "df.shape"
   ]
  },
  {
   "cell_type": "code",
   "execution_count": 5,
   "id": "ad2790f8",
   "metadata": {},
   "outputs": [
    {
     "name": "stdout",
     "output_type": "stream",
     "text": [
      "The column |< case_id> has the following unique values :24985\n",
      "The column |< case_outcome> has the following unique values :10\n",
      "The column |< case_title> has the following unique values :18581\n",
      "The column |< case_text> has the following unique values :17920\n"
     ]
    }
   ],
   "source": [
    "for column in df.columns :\n",
    "    print (f\"The column |< {column}> has the following unique values :{df[column].nunique()}\")"
   ]
  },
  {
   "cell_type": "code",
   "execution_count": 6,
   "id": "da56149e",
   "metadata": {},
   "outputs": [],
   "source": [
    "# I will create  a new dataframe with the case_outcome and case_text as the main values\n",
    "df1 = df[['case_outcome','case_text']].copy()"
   ]
  },
  {
   "cell_type": "code",
   "execution_count": 7,
   "id": "d8e2d096",
   "metadata": {},
   "outputs": [],
   "source": [
    "# I will then remove any Nan values \n",
    "df1 = df1[pd.notnull(df1['case_text'])]"
   ]
  },
  {
   "cell_type": "code",
   "execution_count": 8,
   "id": "a3956ec6",
   "metadata": {},
   "outputs": [
    {
     "data": {
      "text/html": [
       "<div>\n",
       "<style scoped>\n",
       "    .dataframe tbody tr th:only-of-type {\n",
       "        vertical-align: middle;\n",
       "    }\n",
       "\n",
       "    .dataframe tbody tr th {\n",
       "        vertical-align: top;\n",
       "    }\n",
       "\n",
       "    .dataframe thead th {\n",
       "        text-align: right;\n",
       "    }\n",
       "</style>\n",
       "<table border=\"1\" class=\"dataframe\">\n",
       "  <thead>\n",
       "    <tr style=\"text-align: right;\">\n",
       "      <th></th>\n",
       "      <th>case_outcome</th>\n",
       "      <th>case_text</th>\n",
       "    </tr>\n",
       "  </thead>\n",
       "  <tbody>\n",
       "    <tr>\n",
       "      <th>0</th>\n",
       "      <td>cited</td>\n",
       "      <td>Ordinarily that discretion will be exercised s...</td>\n",
       "    </tr>\n",
       "    <tr>\n",
       "      <th>1</th>\n",
       "      <td>cited</td>\n",
       "      <td>The general principles governing the exercise ...</td>\n",
       "    </tr>\n",
       "    <tr>\n",
       "      <th>2</th>\n",
       "      <td>cited</td>\n",
       "      <td>Ordinarily that discretion will be exercised s...</td>\n",
       "    </tr>\n",
       "    <tr>\n",
       "      <th>3</th>\n",
       "      <td>cited</td>\n",
       "      <td>The general principles governing the exercise ...</td>\n",
       "    </tr>\n",
       "    <tr>\n",
       "      <th>4</th>\n",
       "      <td>cited</td>\n",
       "      <td>The preceding general principles inform the ex...</td>\n",
       "    </tr>\n",
       "    <tr>\n",
       "      <th>5</th>\n",
       "      <td>cited</td>\n",
       "      <td>I accept that the making of a rolled up offer ...</td>\n",
       "    </tr>\n",
       "    <tr>\n",
       "      <th>6</th>\n",
       "      <td>cited</td>\n",
       "      <td>The preceding general principles inform the ex...</td>\n",
       "    </tr>\n",
       "    <tr>\n",
       "      <th>7</th>\n",
       "      <td>cited</td>\n",
       "      <td>On the question of the level of unreasonablene...</td>\n",
       "    </tr>\n",
       "    <tr>\n",
       "      <th>8</th>\n",
       "      <td>applied</td>\n",
       "      <td>recent decision of the High Court in Australia...</td>\n",
       "    </tr>\n",
       "    <tr>\n",
       "      <th>9</th>\n",
       "      <td>followed</td>\n",
       "      <td>Hexal Australia Pty Ltd v Roche Therapeutics I...</td>\n",
       "    </tr>\n",
       "  </tbody>\n",
       "</table>\n",
       "</div>"
      ],
      "text/plain": [
       "  case_outcome                                          case_text\n",
       "0        cited  Ordinarily that discretion will be exercised s...\n",
       "1        cited  The general principles governing the exercise ...\n",
       "2        cited  Ordinarily that discretion will be exercised s...\n",
       "3        cited  The general principles governing the exercise ...\n",
       "4        cited  The preceding general principles inform the ex...\n",
       "5        cited  I accept that the making of a rolled up offer ...\n",
       "6        cited  The preceding general principles inform the ex...\n",
       "7        cited  On the question of the level of unreasonablene...\n",
       "8      applied  recent decision of the High Court in Australia...\n",
       "9     followed  Hexal Australia Pty Ltd v Roche Therapeutics I..."
      ]
     },
     "execution_count": 8,
     "metadata": {},
     "output_type": "execute_result"
    }
   ],
   "source": [
    "df1.head(10)"
   ]
  },
  {
   "cell_type": "code",
   "execution_count": 9,
   "id": "ec9f36d3",
   "metadata": {},
   "outputs": [
    {
     "data": {
      "text/plain": [
       "Index(['outcome', 'text'], dtype='object')"
      ]
     },
     "execution_count": 9,
     "metadata": {},
     "output_type": "execute_result"
    }
   ],
   "source": [
    "df1.columns = ['outcome','text']\n",
    "df1.columns"
   ]
  },
  {
   "cell_type": "code",
   "execution_count": 10,
   "id": "e7ebd512",
   "metadata": {},
   "outputs": [
    {
     "data": {
      "text/plain": [
       "array(['cited', 'applied', 'followed', 'referred to', 'related',\n",
       "       'considered', 'discussed', 'distinguished', 'affirmed', 'approved'],\n",
       "      dtype=object)"
      ]
     },
     "execution_count": 10,
     "metadata": {},
     "output_type": "execute_result"
    }
   ],
   "source": [
    "# DISPLAYING ALL THE POSSIBLE OUTCOMES\n",
    "possible_outcomes = df1['outcome'].unique()\n",
    "possible_outcomes"
   ]
  },
  {
   "cell_type": "code",
   "execution_count": 11,
   "id": "4df16592",
   "metadata": {},
   "outputs": [
    {
     "data": {
      "image/png": "[encoded data removed]",
      "text/plain": [
       "<Figure size 2000x800 with 1 Axes>"
      ]
     },
     "metadata": {},
     "output_type": "display_data"
    }
   ],
   "source": [
    "# visualize our outcomes\n",
    "plt.figure(figsize=(20,8))\n",
    "sns.countplot(x=df1['outcome'])\n",
    "plt.xlabel(\"Case Outcome\")\n",
    "plt.ylabel(\"Total number of cases\")\n",
    "plt.title('How case outcomes are in our dataset')\n",
    "plt.show()\n",
    "# A lot of our legal texts were cited ,what could this mean??"
   ]
  },
  {
   "cell_type": "code",
   "execution_count": 14,
   "id": "07c0d74f",
   "metadata": {},
   "outputs": [
    {
     "data": {
      "text/html": [
       "<div>\n",
       "<style scoped>\n",
       "    .dataframe tbody tr th:only-of-type {\n",
       "        vertical-align: middle;\n",
       "    }\n",
       "\n",
       "    .dataframe tbody tr th {\n",
       "        vertical-align: top;\n",
       "    }\n",
       "\n",
       "    .dataframe thead th {\n",
       "        text-align: right;\n",
       "    }\n",
       "</style>\n",
       "<table border=\"1\" class=\"dataframe\">\n",
       "  <thead>\n",
       "    <tr style=\"text-align: right;\">\n",
       "      <th></th>\n",
       "      <th>outcome</th>\n",
       "      <th>category_id</th>\n",
       "    </tr>\n",
       "  </thead>\n",
       "  <tbody>\n",
       "    <tr>\n",
       "      <th>5173</th>\n",
       "      <td>applied</td>\n",
       "      <td>0</td>\n",
       "    </tr>\n",
       "    <tr>\n",
       "      <th>23104</th>\n",
       "      <td>cited</td>\n",
       "      <td>1</td>\n",
       "    </tr>\n",
       "    <tr>\n",
       "      <th>10915</th>\n",
       "      <td>referred to</td>\n",
       "      <td>2</td>\n",
       "    </tr>\n",
       "    <tr>\n",
       "      <th>10311</th>\n",
       "      <td>considered</td>\n",
       "      <td>3</td>\n",
       "    </tr>\n",
       "    <tr>\n",
       "      <th>24339</th>\n",
       "      <td>discussed</td>\n",
       "      <td>4</td>\n",
       "    </tr>\n",
       "    <tr>\n",
       "      <th>14079</th>\n",
       "      <td>followed</td>\n",
       "      <td>5</td>\n",
       "    </tr>\n",
       "    <tr>\n",
       "      <th>20413</th>\n",
       "      <td>affirmed</td>\n",
       "      <td>6</td>\n",
       "    </tr>\n",
       "    <tr>\n",
       "      <th>13068</th>\n",
       "      <td>distinguished</td>\n",
       "      <td>7</td>\n",
       "    </tr>\n",
       "    <tr>\n",
       "      <th>1057</th>\n",
       "      <td>approved</td>\n",
       "      <td>8</td>\n",
       "    </tr>\n",
       "    <tr>\n",
       "      <th>1554</th>\n",
       "      <td>related</td>\n",
       "      <td>9</td>\n",
       "    </tr>\n",
       "  </tbody>\n",
       "</table>\n",
       "</div>"
      ],
      "text/plain": [
       "             outcome  category_id\n",
       "5173         applied            0\n",
       "23104          cited            1\n",
       "10915    referred to            2\n",
       "10311     considered            3\n",
       "24339      discussed            4\n",
       "14079       followed            5\n",
       "20413       affirmed            6\n",
       "13068  distinguished            7\n",
       "1057        approved            8\n",
       "1554         related            9"
      ]
     },
     "execution_count": 14,
     "metadata": {},
     "output_type": "execute_result"
    }
   ],
   "source": [
    "category_id_df"
   ]
  },
  {
   "cell_type": "code",
   "execution_count": 15,
   "id": "8a7598a4",
   "metadata": {},
   "outputs": [],
   "source": [
    "category_to_id = dict(category_id_df.values)\n",
    "id_to_category = dict(category_id_df[['outcome','category_id']])"
   ]
  },
  {
   "cell_type": "code",
   "execution_count": 16,
   "id": "59863e1b",
   "metadata": {},
   "outputs": [
    {
     "data": {
      "text/plain": [
       "{'applied': 0,\n",
       " 'cited': 1,\n",
       " 'referred to': 2,\n",
       " 'considered': 3,\n",
       " 'discussed': 4,\n",
       " 'followed': 5,\n",
       " 'affirmed': 6,\n",
       " 'distinguished': 7,\n",
       " 'approved': 8,\n",
       " 'related': 9}"
      ]
     },
     "execution_count": 16,
     "metadata": {},
     "output_type": "execute_result"
    }
   ],
   "source": [
    "category_to_id "
   ]
  },
  {
   "cell_type": "markdown",
   "id": "ffbcb0b0",
   "metadata": {},
   "source": [
    "df2.head()"
   ]
  },
  {
   "cell_type": "code",
   "execution_count": 18,
   "id": "81fbf4d6",
   "metadata": {},
   "outputs": [],
   "source": [
    "tfidf = TfidfVectorizer(sublinear_tf=True, min_df=5,\n",
    "                        ngram_range=(1, 2), \n",
    "                        stop_words='english')\n",
    "features = tfidf.fit_transform(df2.text).toarray()\n",
    "labels = df2['category_id']"
   ]
  },
  {
   "cell_type": "code",
   "execution_count": null,
   "id": "48070d7e",
   "metadata": {},
   "outputs": [
    {
     "name": "stdout",
     "output_type": "stream",
     "text": [
      "\n",
      "==> affirmed:\n",
      "  * Most Correlated Unigrams are: affirmed, lankan, fmca\n",
      "  * Most Correlated Bigrams are: tribunal affirmed, 2008 fmca, anor 2008\n"
     ]
    }
   ],
   "source": [
    "N = 3\n",
    "for outcome,category_id in sorted(category_to_id.items()):\n",
    "    features_chi2 = chi2(features,labels==category_id)\n",
    "    indices = np.argsort(features_chi2[0])\n",
    "    feature_names = np.array(tfidf.get_feature_names_out())[indices]\n",
    "    unigrams = [v for v in feature_names if len(v.split(' '))==1]\n",
    "    bigrams = [v for v in feature_names if len(v.split(' '))==2]\n",
    "    #trigrams = [v for v in feature_names if len(v.split(' '))==3]\n",
    "    print(\"\\n==> %s:\" %(outcome))\n",
    "    print(\"  * Most Correlated Unigrams are: %s\" %(', '.join(unigrams[-N:])))\n",
    "    print(\"  * Most Correlated Bigrams are: %s\" %(', '.join(bigrams[-N:])))\n",
    "    #print(\"  * Most Correlated Bigrams are: %s\" %(', '.join(trigrams[-N:])))"
   ]
  },
  {
   "cell_type": "code",
   "execution_count": 19,
   "id": "5fdccd76",
   "metadata": {},
   "outputs": [],
   "source": [
    "from sklearn.decomposition import PCA\n",
    "from sklearn.manifold import TSNE"
   ]
  },
  {
   "cell_type": "code",
   "execution_count": 20,
   "id": "3f3f3e90",
   "metadata": {},
   "outputs": [
    {
     "data": {
      "text/plain": [
       "5173     Notwithstanding the view I have formed that cl...\n",
       "23104    In support of the abuse of process ground, the...\n",
       "10915    If legal expenses are properly treated as havi...\n",
       "6524     a representation is likely to mislead or decei...\n",
       "10311    The terms of Direction No 21 , and the require...\n",
       "                               ...                        \n",
       "13275    The provision of severance pay in industrial i...\n",
       "6505     In Louis Vuitton Malletier SA v Design Eleganc...\n",
       "3428     The Rules do not compel the pleader to adopt s...\n",
       "2835     A similar trust arrangement existed in In the ...\n",
       "8077     it is contended that AMC should not be permitt...\n",
       "Name: text, Length: 5000, dtype: object"
      ]
     },
     "execution_count": 20,
     "metadata": {},
     "output_type": "execute_result"
    }
   ],
   "source": [
    "df2.text"
   ]
  },
  {
   "cell_type": "code",
   "execution_count": 21,
   "id": "79bbfada",
   "metadata": {},
   "outputs": [
    {
     "data": {
      "text/plain": [
       "5173         applied\n",
       "23104          cited\n",
       "10915    referred to\n",
       "6524           cited\n",
       "10311     considered\n",
       "            ...     \n",
       "13275    referred to\n",
       "6505     referred to\n",
       "3428           cited\n",
       "2835           cited\n",
       "8077         applied\n",
       "Name: outcome, Length: 5000, dtype: object"
      ]
     },
     "execution_count": 21,
     "metadata": {},
     "output_type": "execute_result"
    }
   ],
   "source": [
    "df2.outcome"
   ]
  },
  {
   "cell_type": "code",
   "execution_count": 22,
   "id": "38b4a2fc",
   "metadata": {},
   "outputs": [],
   "source": [
    "X = features\n",
    "y = labels"
   ]
  },
  {
   "cell_type": "code",
   "execution_count": 23,
   "id": "396caf93",
   "metadata": {},
   "outputs": [],
   "source": [
    "X_train,X_test,y_train,y_test = train_test_split(X,y,test_size=0.2,random_state = 101,shuffle = True)"
   ]
  },
  {
   "cell_type": "code",
   "execution_count": 24,
   "id": "4d190709",
   "metadata": {},
   "outputs": [],
   "source": [
    "from sklearn.naive_bayes import MultinomialNB\n",
    "from sklearn.metrics import classification_report\n",
    "mnb = MultinomialNB()\n",
    "lsv = LinearSVC()"
   ]
  },
  {
   "cell_type": "code",
   "execution_count": 25,
   "id": "eb244057",
   "metadata": {},
   "outputs": [
    {
     "name": "stderr",
     "output_type": "stream",
     "text": [
      "C:\\Users\\EDGAR MUYALE DAVIES\\anaconda3\\Anaconda\\lib\\site-packages\\sklearn\\metrics\\_classification.py:1318: UndefinedMetricWarning: Precision and F-score are ill-defined and being set to 0.0 in labels with no predicted samples. Use `zero_division` parameter to control this behavior.\n",
      "  _warn_prf(average, modifier, msg_start, len(result))\n",
      "C:\\Users\\EDGAR MUYALE DAVIES\\anaconda3\\Anaconda\\lib\\site-packages\\sklearn\\metrics\\_classification.py:1318: UndefinedMetricWarning: Precision and F-score are ill-defined and being set to 0.0 in labels with no predicted samples. Use `zero_division` parameter to control this behavior.\n",
      "  _warn_prf(average, modifier, msg_start, len(result))\n",
      "C:\\Users\\EDGAR MUYALE DAVIES\\anaconda3\\Anaconda\\lib\\site-packages\\sklearn\\metrics\\_classification.py:1318: UndefinedMetricWarning: Precision and F-score are ill-defined and being set to 0.0 in labels with no predicted samples. Use `zero_division` parameter to control this behavior.\n",
      "  _warn_prf(average, modifier, msg_start, len(result))\n"
     ]
    },
    {
     "name": "stdout",
     "output_type": "stream",
     "text": [
      "               precision    recall  f1-score   support\n",
      "\n",
      "      applied       0.00      0.00      0.00        88\n",
      "        cited       0.48      1.00      0.65       483\n",
      "  referred to       0.00      0.00      0.00       188\n",
      "   considered       0.00      0.00      0.00        56\n",
      "    discussed       0.00      0.00      0.00        45\n",
      "     followed       0.33      0.01      0.02       104\n",
      "     affirmed       0.00      0.00      0.00         2\n",
      "distinguished       0.00      0.00      0.00        21\n",
      "     approved       0.00      0.00      0.00        10\n",
      "      related       0.00      0.00      0.00         3\n",
      "\n",
      "     accuracy                           0.48      1000\n",
      "    macro avg       0.08      0.10      0.07      1000\n",
      " weighted avg       0.27      0.48      0.32      1000\n",
      "\n"
     ]
    }
   ],
   "source": [
    "mnb.fit(X_train,y_train)\n",
    "mnb_pred = mnb.predict(X_test)\n",
    "print(classification_report(y_test,mnb_pred,target_names = df2['outcome'].unique()))"
   ]
  },
  {
   "cell_type": "code",
   "execution_count": 26,
   "id": "e273d877",
   "metadata": {},
   "outputs": [
    {
     "name": "stdout",
     "output_type": "stream",
     "text": [
      "               precision    recall  f1-score   support\n",
      "\n",
      "      applied       0.00      0.00      0.00        88\n",
      "        cited       0.48      1.00      0.65       483\n",
      "  referred to       0.00      0.00      0.00       188\n",
      "   considered       0.00      0.00      0.00        56\n",
      "    discussed       0.00      0.00      0.00        45\n",
      "     followed       0.33      0.01      0.02       104\n",
      "     affirmed       0.00      0.00      0.00         2\n",
      "distinguished       0.00      0.00      0.00        21\n",
      "     approved       0.00      0.00      0.00        10\n",
      "      related       0.00      0.00      0.00         3\n",
      "\n",
      "     accuracy                           0.48      1000\n",
      "    macro avg       0.08      0.10      0.07      1000\n",
      " weighted avg       0.27      0.48      0.32      1000\n",
      "\n"
     ]
    },
    {
     "name": "stderr",
     "output_type": "stream",
     "text": [
      "C:\\Users\\EDGAR MUYALE DAVIES\\anaconda3\\Anaconda\\lib\\site-packages\\sklearn\\metrics\\_classification.py:1318: UndefinedMetricWarning: Precision and F-score are ill-defined and being set to 0.0 in labels with no predicted samples. Use `zero_division` parameter to control this behavior.\n",
      "  _warn_prf(average, modifier, msg_start, len(result))\n",
      "C:\\Users\\EDGAR MUYALE DAVIES\\anaconda3\\Anaconda\\lib\\site-packages\\sklearn\\metrics\\_classification.py:1318: UndefinedMetricWarning: Precision and F-score are ill-defined and being set to 0.0 in labels with no predicted samples. Use `zero_division` parameter to control this behavior.\n",
      "  _warn_prf(average, modifier, msg_start, len(result))\n",
      "C:\\Users\\EDGAR MUYALE DAVIES\\anaconda3\\Anaconda\\lib\\site-packages\\sklearn\\metrics\\_classification.py:1318: UndefinedMetricWarning: Precision and F-score are ill-defined and being set to 0.0 in labels with no predicted samples. Use `zero_division` parameter to control this behavior.\n",
      "  _warn_prf(average, modifier, msg_start, len(result))\n"
     ]
    }
   ],
   "source": [
    "lsv.fit(X_train,y_train)\n",
    "lsv_pred = mnb.predict(X_test)\n",
    "print(classification_report(y_test,lsv_pred,target_names = df2['outcome'].unique()))"
   ]
  },
  {
   "cell_type": "code",
   "execution_count": 27,
   "id": "7550cde4",
   "metadata": {},
   "outputs": [
    {
     "name": "stderr",
     "output_type": "stream",
     "text": [
      "C:\\Users\\EDGAR MUYALE DAVIES\\anaconda3\\Anaconda\\lib\\site-packages\\sklearn\\metrics\\_classification.py:1318: UndefinedMetricWarning: Precision and F-score are ill-defined and being set to 0.0 in labels with no predicted samples. Use `zero_division` parameter to control this behavior.\n",
      "  _warn_prf(average, modifier, msg_start, len(result))\n",
      "C:\\Users\\EDGAR MUYALE DAVIES\\anaconda3\\Anaconda\\lib\\site-packages\\sklearn\\metrics\\_classification.py:1318: UndefinedMetricWarning: Precision and F-score are ill-defined and being set to 0.0 in labels with no predicted samples. Use `zero_division` parameter to control this behavior.\n",
      "  _warn_prf(average, modifier, msg_start, len(result))\n",
      "C:\\Users\\EDGAR MUYALE DAVIES\\anaconda3\\Anaconda\\lib\\site-packages\\sklearn\\metrics\\_classification.py:1318: UndefinedMetricWarning: Precision and F-score are ill-defined and being set to 0.0 in labels with no predicted samples. Use `zero_division` parameter to control this behavior.\n",
      "  _warn_prf(average, modifier, msg_start, len(result))\n"
     ]
    },
    {
     "name": "stdout",
     "output_type": "stream",
     "text": [
      "               precision    recall  f1-score   support\n",
      "\n",
      "      applied       0.29      0.02      0.04        88\n",
      "        cited       0.50      0.98      0.67       483\n",
      "  referred to       0.87      0.11      0.19       188\n",
      "   considered       0.62      0.09      0.16        56\n",
      "    discussed       0.00      0.00      0.00        45\n",
      "     followed       0.69      0.11      0.18       104\n",
      "     affirmed       0.00      0.00      0.00         2\n",
      "distinguished       1.00      0.10      0.17        21\n",
      "     approved       0.00      0.00      0.00        10\n",
      "      related       1.00      0.33      0.50         3\n",
      "\n",
      "     accuracy                           0.52      1000\n",
      "    macro avg       0.50      0.17      0.19      1000\n",
      " weighted avg       0.56      0.52      0.39      1000\n",
      "\n"
     ]
    }
   ],
   "source": [
    "rfc = RandomForestClassifier()\n",
    "rfc.fit(X_train,y_train)\n",
    "rfc_pred = rfc.predict(X_test)\n",
    "print(classification_report(y_test,rfc_pred,target_names = df2['outcome'].unique()))"
   ]
  },
  {
   "cell_type": "markdown",
   "id": "e36b4cf7",
   "metadata": {},
   "source": [
    "THE PROJECT WAS ALL ABOUT CREATING A MODEL THAT CLASSIFIES TEXT AS EITHER approved or cited or related ..etc .\n",
    "I SAMPLED 5000 texts from the original dataframe . I then fit  various models ( Linear  SVC,MultinomialNB and RandomForestClassifier).\n",
    "Random Forest was the better model achieving an accuracy score of 52 % . I intend to add the idea of embeddings to this project."
   ]
  },
  {
   "cell_type": "code",
   "execution_count": null,
   "id": "03314481",
   "metadata": {},
   "outputs": [],
   "source": []
  }
 ],
 "metadata": {
  "kernelspec": {
   "display_name": "Python 3 (ipykernel)",
   "language": "python",
   "name": "python3"
  },
  "language_info": {
   "codemirror_mode": {
    "name": "ipython",
    "version": 3
   },
   "file_extension": ".py",
   "mimetype": "text/x-python",
   "name": "python",
   "nbconvert_exporter": "python",
   "pygments_lexer": "ipython3",
   "version": "3.9.13"
  }
 },
 "nbformat": 4,
 "nbformat_minor": 5
}
