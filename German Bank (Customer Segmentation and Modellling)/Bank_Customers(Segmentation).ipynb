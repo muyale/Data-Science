{
 "cells": [
  {
   "cell_type": "code",
   "execution_count": 3,
   "id": "620878ab",
   "metadata": {},
   "outputs": [],
   "source": [
    "# import the dependencies\n",
    "import pandas as pd\n",
    "import numpy as np\n",
    "import seaborn as sns\n",
    "import matplotlib.pyplot as plt\n",
    "from sklearn.preprocessing import LabelEncoder\n",
    "from sklearn.model_selection import train_test_split\n",
    "from sklearn.linear_model import LogisticRegression\n",
    "from sklearn.ensemble import RandomForestClassifier\n",
    "from xgboost import XGBRegressor\n",
    "from sklearn.tree import DecisionTreeClassifier\n",
    "from sklearn.metrics import classification_report,accuracy_score\n"
   ]
  },
  {
   "cell_type": "code",
   "execution_count": 4,
   "id": "c3d0ab92",
   "metadata": {},
   "outputs": [],
   "source": [
    "# Load the data\n",
    "df = pd.read_csv(\"C:\\\\Datasets\\\\German Bank\\\\german_credit_data.csv\")"
   ]
  },
  {
   "cell_type": "code",
   "execution_count": 5,
   "id": "d6cfe4dc",
   "metadata": {},
   "outputs": [
    {
     "data": {
      "text/html": [
       "<div>\n",
       "<style scoped>\n",
       "    .dataframe tbody tr th:only-of-type {\n",
       "        vertical-align: middle;\n",
       "    }\n",
       "\n",
       "    .dataframe tbody tr th {\n",
       "        vertical-align: top;\n",
       "    }\n",
       "\n",
       "    .dataframe thead th {\n",
       "        text-align: right;\n",
       "    }\n",
       "</style>\n",
       "<table border=\"1\" class=\"dataframe\">\n",
       "  <thead>\n",
       "    <tr style=\"text-align: right;\">\n",
       "      <th></th>\n",
       "      <th>Unnamed: 0</th>\n",
       "      <th>Age</th>\n",
       "      <th>Sex</th>\n",
       "      <th>Job</th>\n",
       "      <th>Housing</th>\n",
       "      <th>Saving accounts</th>\n",
       "      <th>Checking account</th>\n",
       "      <th>Credit amount</th>\n",
       "      <th>Duration</th>\n",
       "      <th>Purpose</th>\n",
       "    </tr>\n",
       "  </thead>\n",
       "  <tbody>\n",
       "    <tr>\n",
       "      <th>0</th>\n",
       "      <td>0</td>\n",
       "      <td>67</td>\n",
       "      <td>male</td>\n",
       "      <td>2</td>\n",
       "      <td>own</td>\n",
       "      <td>NaN</td>\n",
       "      <td>little</td>\n",
       "      <td>1169</td>\n",
       "      <td>6</td>\n",
       "      <td>radio/TV</td>\n",
       "    </tr>\n",
       "    <tr>\n",
       "      <th>1</th>\n",
       "      <td>1</td>\n",
       "      <td>22</td>\n",
       "      <td>female</td>\n",
       "      <td>2</td>\n",
       "      <td>own</td>\n",
       "      <td>little</td>\n",
       "      <td>moderate</td>\n",
       "      <td>5951</td>\n",
       "      <td>48</td>\n",
       "      <td>radio/TV</td>\n",
       "    </tr>\n",
       "    <tr>\n",
       "      <th>2</th>\n",
       "      <td>2</td>\n",
       "      <td>49</td>\n",
       "      <td>male</td>\n",
       "      <td>1</td>\n",
       "      <td>own</td>\n",
       "      <td>little</td>\n",
       "      <td>NaN</td>\n",
       "      <td>2096</td>\n",
       "      <td>12</td>\n",
       "      <td>education</td>\n",
       "    </tr>\n",
       "    <tr>\n",
       "      <th>3</th>\n",
       "      <td>3</td>\n",
       "      <td>45</td>\n",
       "      <td>male</td>\n",
       "      <td>2</td>\n",
       "      <td>free</td>\n",
       "      <td>little</td>\n",
       "      <td>little</td>\n",
       "      <td>7882</td>\n",
       "      <td>42</td>\n",
       "      <td>furniture/equipment</td>\n",
       "    </tr>\n",
       "    <tr>\n",
       "      <th>4</th>\n",
       "      <td>4</td>\n",
       "      <td>53</td>\n",
       "      <td>male</td>\n",
       "      <td>2</td>\n",
       "      <td>free</td>\n",
       "      <td>little</td>\n",
       "      <td>little</td>\n",
       "      <td>4870</td>\n",
       "      <td>24</td>\n",
       "      <td>car</td>\n",
       "    </tr>\n",
       "  </tbody>\n",
       "</table>\n",
       "</div>"
      ],
      "text/plain": [
       "   Unnamed: 0  Age     Sex  Job Housing Saving accounts Checking account  \\\n",
       "0           0   67    male    2     own             NaN           little   \n",
       "1           1   22  female    2     own          little         moderate   \n",
       "2           2   49    male    1     own          little              NaN   \n",
       "3           3   45    male    2    free          little           little   \n",
       "4           4   53    male    2    free          little           little   \n",
       "\n",
       "   Credit amount  Duration              Purpose  \n",
       "0           1169         6             radio/TV  \n",
       "1           5951        48             radio/TV  \n",
       "2           2096        12            education  \n",
       "3           7882        42  furniture/equipment  \n",
       "4           4870        24                  car  "
      ]
     },
     "execution_count": 5,
     "metadata": {},
     "output_type": "execute_result"
    }
   ],
   "source": [
    "df.head()"
   ]
  },
  {
   "cell_type": "code",
   "execution_count": 6,
   "id": "a2084522",
   "metadata": {},
   "outputs": [
    {
     "name": "stdout",
     "output_type": "stream",
     "text": [
      "<class 'pandas.core.frame.DataFrame'>\n",
      "RangeIndex: 1000 entries, 0 to 999\n",
      "Data columns (total 10 columns):\n",
      " #   Column            Non-Null Count  Dtype \n",
      "---  ------            --------------  ----- \n",
      " 0   Unnamed: 0        1000 non-null   int64 \n",
      " 1   Age               1000 non-null   int64 \n",
      " 2   Sex               1000 non-null   object\n",
      " 3   Job               1000 non-null   int64 \n",
      " 4   Housing           1000 non-null   object\n",
      " 5   Saving accounts   817 non-null    object\n",
      " 6   Checking account  606 non-null    object\n",
      " 7   Credit amount     1000 non-null   int64 \n",
      " 8   Duration          1000 non-null   int64 \n",
      " 9   Purpose           1000 non-null   object\n",
      "dtypes: int64(5), object(5)\n",
      "memory usage: 78.2+ KB\n"
     ]
    }
   ],
   "source": [
    "# Check out some info on the data and some basic statistics\n",
    "df.info()"
   ]
  },
  {
   "cell_type": "code",
   "execution_count": 7,
   "id": "4174a8f0",
   "metadata": {},
   "outputs": [
    {
     "data": {
      "text/html": [
       "<div>\n",
       "<style scoped>\n",
       "    .dataframe tbody tr th:only-of-type {\n",
       "        vertical-align: middle;\n",
       "    }\n",
       "\n",
       "    .dataframe tbody tr th {\n",
       "        vertical-align: top;\n",
       "    }\n",
       "\n",
       "    .dataframe thead th {\n",
       "        text-align: right;\n",
       "    }\n",
       "</style>\n",
       "<table border=\"1\" class=\"dataframe\">\n",
       "  <thead>\n",
       "    <tr style=\"text-align: right;\">\n",
       "      <th></th>\n",
       "      <th>Unnamed: 0</th>\n",
       "      <th>Age</th>\n",
       "      <th>Job</th>\n",
       "      <th>Credit amount</th>\n",
       "      <th>Duration</th>\n",
       "    </tr>\n",
       "  </thead>\n",
       "  <tbody>\n",
       "    <tr>\n",
       "      <th>count</th>\n",
       "      <td>1000.000000</td>\n",
       "      <td>1000.000000</td>\n",
       "      <td>1000.000000</td>\n",
       "      <td>1000.000000</td>\n",
       "      <td>1000.000000</td>\n",
       "    </tr>\n",
       "    <tr>\n",
       "      <th>mean</th>\n",
       "      <td>499.500000</td>\n",
       "      <td>35.546000</td>\n",
       "      <td>1.904000</td>\n",
       "      <td>3271.258000</td>\n",
       "      <td>20.903000</td>\n",
       "    </tr>\n",
       "    <tr>\n",
       "      <th>std</th>\n",
       "      <td>288.819436</td>\n",
       "      <td>11.375469</td>\n",
       "      <td>0.653614</td>\n",
       "      <td>2822.736876</td>\n",
       "      <td>12.058814</td>\n",
       "    </tr>\n",
       "    <tr>\n",
       "      <th>min</th>\n",
       "      <td>0.000000</td>\n",
       "      <td>19.000000</td>\n",
       "      <td>0.000000</td>\n",
       "      <td>250.000000</td>\n",
       "      <td>4.000000</td>\n",
       "    </tr>\n",
       "    <tr>\n",
       "      <th>25%</th>\n",
       "      <td>249.750000</td>\n",
       "      <td>27.000000</td>\n",
       "      <td>2.000000</td>\n",
       "      <td>1365.500000</td>\n",
       "      <td>12.000000</td>\n",
       "    </tr>\n",
       "    <tr>\n",
       "      <th>50%</th>\n",
       "      <td>499.500000</td>\n",
       "      <td>33.000000</td>\n",
       "      <td>2.000000</td>\n",
       "      <td>2319.500000</td>\n",
       "      <td>18.000000</td>\n",
       "    </tr>\n",
       "    <tr>\n",
       "      <th>75%</th>\n",
       "      <td>749.250000</td>\n",
       "      <td>42.000000</td>\n",
       "      <td>2.000000</td>\n",
       "      <td>3972.250000</td>\n",
       "      <td>24.000000</td>\n",
       "    </tr>\n",
       "    <tr>\n",
       "      <th>max</th>\n",
       "      <td>999.000000</td>\n",
       "      <td>75.000000</td>\n",
       "      <td>3.000000</td>\n",
       "      <td>18424.000000</td>\n",
       "      <td>72.000000</td>\n",
       "    </tr>\n",
       "  </tbody>\n",
       "</table>\n",
       "</div>"
      ],
      "text/plain": [
       "        Unnamed: 0          Age          Job  Credit amount     Duration\n",
       "count  1000.000000  1000.000000  1000.000000    1000.000000  1000.000000\n",
       "mean    499.500000    35.546000     1.904000    3271.258000    20.903000\n",
       "std     288.819436    11.375469     0.653614    2822.736876    12.058814\n",
       "min       0.000000    19.000000     0.000000     250.000000     4.000000\n",
       "25%     249.750000    27.000000     2.000000    1365.500000    12.000000\n",
       "50%     499.500000    33.000000     2.000000    2319.500000    18.000000\n",
       "75%     749.250000    42.000000     2.000000    3972.250000    24.000000\n",
       "max     999.000000    75.000000     3.000000   18424.000000    72.000000"
      ]
     },
     "execution_count": 7,
     "metadata": {},
     "output_type": "execute_result"
    }
   ],
   "source": [
    "df.describe()"
   ]
  },
  {
   "cell_type": "code",
   "execution_count": 8,
   "id": "7f60f2c2",
   "metadata": {},
   "outputs": [
    {
     "data": {
      "text/plain": [
       "Unnamed: 0            0\n",
       "Age                   0\n",
       "Sex                   0\n",
       "Job                   0\n",
       "Housing               0\n",
       "Saving accounts     183\n",
       "Checking account    394\n",
       "Credit amount         0\n",
       "Duration              0\n",
       "Purpose               0\n",
       "dtype: int64"
      ]
     },
     "execution_count": 8,
     "metadata": {},
     "output_type": "execute_result"
    }
   ],
   "source": [
    "df.isnull().sum()"
   ]
  },
  {
   "cell_type": "code",
   "execution_count": 9,
   "id": "3d5fed27",
   "metadata": {},
   "outputs": [
    {
     "data": {
      "text/plain": [
       "Index(['Unnamed: 0', 'Age', 'Sex', 'Job', 'Housing', 'Saving accounts',\n",
       "       'Checking account', 'Credit amount', 'Duration', 'Purpose'],\n",
       "      dtype='object')"
      ]
     },
     "execution_count": 9,
     "metadata": {},
     "output_type": "execute_result"
    }
   ],
   "source": [
    "df.columns"
   ]
  },
  {
   "cell_type": "code",
   "execution_count": 10,
   "id": "aa7c93a9",
   "metadata": {},
   "outputs": [],
   "source": [
    "# Drop the Unnamed column\n",
    "df.drop(['Unnamed: 0'],axis=1,inplace=True)"
   ]
  },
  {
   "cell_type": "code",
   "execution_count": 11,
   "id": "5fe7072e",
   "metadata": {},
   "outputs": [],
   "source": [
    "df['Saving accounts'] = df['Saving accounts'].fillna( 'little')"
   ]
  },
  {
   "cell_type": "code",
   "execution_count": 12,
   "id": "2050d9e4",
   "metadata": {},
   "outputs": [],
   "source": [
    "df['Checking account'] = df['Checking account'].fillna('little')"
   ]
  },
  {
   "cell_type": "code",
   "execution_count": 13,
   "id": "024a075f",
   "metadata": {},
   "outputs": [
    {
     "data": {
      "text/plain": [
       "Age                 0\n",
       "Sex                 0\n",
       "Job                 0\n",
       "Housing             0\n",
       "Saving accounts     0\n",
       "Checking account    0\n",
       "Credit amount       0\n",
       "Duration            0\n",
       "Purpose             0\n",
       "dtype: int64"
      ]
     },
     "execution_count": 13,
     "metadata": {},
     "output_type": "execute_result"
    }
   ],
   "source": [
    "# Check to resolve if indeed we solved the Null values issue\n",
    "df.isnull().sum()"
   ]
  },
  {
   "cell_type": "code",
   "execution_count": 14,
   "id": "563f9ff5",
   "metadata": {},
   "outputs": [
    {
     "data": {
      "text/plain": [
       "(1000, 9)"
      ]
     },
     "execution_count": 14,
     "metadata": {},
     "output_type": "execute_result"
    }
   ],
   "source": [
    "df.shape"
   ]
  },
  {
   "cell_type": "code",
   "execution_count": 15,
   "id": "7edf907d",
   "metadata": {},
   "outputs": [],
   "source": [
    "# A simple function that returns the most frequent in all columns\n",
    "def most_frequent(column,df=df):\n",
    "    \"\"\"This function returns the most appearing values in a column\n",
    "    Its  based on the idea of value counts \"\"\"\n",
    "    print(f\"The most frequent item in {column} ||column\")\n",
    "    print('************************************')\n",
    "    print(f\"  { df[column].value_counts().head(20)}\")"
   ]
  },
  {
   "cell_type": "code",
   "execution_count": 16,
   "id": "cc4b3659",
   "metadata": {},
   "outputs": [
    {
     "name": "stdout",
     "output_type": "stream",
     "text": [
      "The most frequent item in Age ||column\n",
      "************************************\n",
      "  27    51\n",
      "26    50\n",
      "23    48\n",
      "24    44\n",
      "28    43\n",
      "25    41\n",
      "30    40\n",
      "35    40\n",
      "36    39\n",
      "31    38\n",
      "29    37\n",
      "32    34\n",
      "33    33\n",
      "34    32\n",
      "37    29\n",
      "22    27\n",
      "40    25\n",
      "38    24\n",
      "42    22\n",
      "39    21\n",
      "Name: Age, dtype: int64\n"
     ]
    }
   ],
   "source": [
    "# For all columns now ,lets begin with a single column say Age Column\n",
    "most_frequent('Age')"
   ]
  },
  {
   "cell_type": "code",
   "execution_count": 17,
   "id": "5333a3f0",
   "metadata": {},
   "outputs": [
    {
     "name": "stdout",
     "output_type": "stream",
     "text": [
      "The most frequent item in Sex ||column\n",
      "************************************\n",
      "  male      690\n",
      "female    310\n",
      "Name: Sex, dtype: int64\n",
      "The most frequent item in Job ||column\n",
      "************************************\n",
      "  2    630\n",
      "1    200\n",
      "3    148\n",
      "0     22\n",
      "Name: Job, dtype: int64\n",
      "The most frequent item in Housing ||column\n",
      "************************************\n",
      "  own     713\n",
      "rent    179\n",
      "free    108\n",
      "Name: Housing, dtype: int64\n",
      "The most frequent item in Saving accounts ||column\n",
      "************************************\n",
      "  little        786\n",
      "moderate      103\n",
      "quite rich     63\n",
      "rich           48\n",
      "Name: Saving accounts, dtype: int64\n",
      "The most frequent item in Checking account ||column\n",
      "************************************\n",
      "  little      668\n",
      "moderate    269\n",
      "rich         63\n",
      "Name: Checking account, dtype: int64\n",
      "The most frequent item in Credit amount ||column\n",
      "************************************\n",
      "  1478    3\n",
      "1262    3\n",
      "1258    3\n",
      "1275    3\n",
      "1393    3\n",
      "1442    2\n",
      "3590    2\n",
      "2578    2\n",
      "701     2\n",
      "1924    2\n",
      "2039    2\n",
      "4526    2\n",
      "3349    2\n",
      "1597    2\n",
      "1449    2\n",
      "1410    2\n",
      "1169    2\n",
      "1919    2\n",
      "1126    2\n",
      "932     2\n",
      "Name: Credit amount, dtype: int64\n",
      "The most frequent item in Duration ||column\n",
      "************************************\n",
      "  24    184\n",
      "12    179\n",
      "18    113\n",
      "36     83\n",
      "6      75\n",
      "15     64\n",
      "9      49\n",
      "48     48\n",
      "30     40\n",
      "21     30\n",
      "10     28\n",
      "60     13\n",
      "27     13\n",
      "42     11\n",
      "11      9\n",
      "20      8\n",
      "8       7\n",
      "4       6\n",
      "45      5\n",
      "7       5\n",
      "Name: Duration, dtype: int64\n",
      "The most frequent item in Purpose ||column\n",
      "************************************\n",
      "  car                    337\n",
      "radio/TV               280\n",
      "furniture/equipment    181\n",
      "business                97\n",
      "education               59\n",
      "repairs                 22\n",
      "domestic appliances     12\n",
      "vacation/others         12\n",
      "Name: Purpose, dtype: int64\n"
     ]
    }
   ],
   "source": [
    "# Now I will do it for all columns except Age\n",
    "for column in df.drop(['Age'],axis=1):\n",
    "    most_frequent(column)"
   ]
  },
  {
   "cell_type": "code",
   "execution_count": 18,
   "id": "fd348499",
   "metadata": {},
   "outputs": [
    {
     "data": {
      "text/plain": [
       "Age                  int64\n",
       "Sex                 object\n",
       "Job                  int64\n",
       "Housing             object\n",
       "Saving accounts     object\n",
       "Checking account    object\n",
       "Credit amount        int64\n",
       "Duration             int64\n",
       "Purpose             object\n",
       "dtype: object"
      ]
     },
     "execution_count": 18,
     "metadata": {},
     "output_type": "execute_result"
    }
   ],
   "source": [
    "# CHECK THE DATATYPES\n",
    "df.dtypes"
   ]
  },
  {
   "cell_type": "markdown",
   "id": "c49839b0",
   "metadata": {},
   "source": [
    "# DATA ANALYSIS :: GERMAN BANK  DATA STORY "
   ]
  },
  {
   "cell_type": "code",
   "execution_count": 19,
   "id": "b93d8f6b",
   "metadata": {},
   "outputs": [],
   "source": [
    "# The visualizations will be made by seaborn and so I will create a plotter class to avoid repetition of code\n",
    "class CreditVisualizer():\n",
    "    \"\"\"The CreditVisualizer takes in our dataframes and generates plots based on the methods called\n",
    "    Args : \n",
    "    x -str :This is the independent variable column ,in cases where there are more than two columns\n",
    "    y-str :This is the dependent variable column usually ,logic or reasoning is used to determine the relationship\n",
    "    df : DataFrame : The parent dataframe on which we  get all our variable i.e. Dependent and Independent\n",
    "    fig = This is an instance of the plt.figure which you can set and takes figure size(Figure Dimensions)\n",
    "    *Methods* \n",
    "    histogram : Returns a Plotted histogram ,histogram need one variable i.e they show frequency by count\\\n",
    "    countplot : A countplot return the total number of each variable in a column \n",
    "    barplot : A bar plot represents an estimate of central tendency for a numeric variable with the height of each rectangle and provides some indication ofthe uncertainty around that estimate using error bars. Bar plots include 0in the quantitative axis range, and they are a good choice when 0 is ameaningful value for the quantitative variable, and you want to makecomparisons against it.(seaborn documentation)\n",
    "    pairplot : Models the relationship among all numerical columns\n",
    "    \n",
    "    Returns :\n",
    "    \n",
    "    \"\"\"\n",
    "    def __init__(self,df,fig):\n",
    "        self.df= df\n",
    "        self.fig = fig\n",
    "    def histogram(self,x):\n",
    "        #fig= fig\n",
    "        sns.histplot(x=x,data=df)\n",
    "        plt.xlabel(x)\n",
    "        plt.ylabel('Frequency')\n",
    "        plt.show()\n",
    "    def countplot(self,x,data):\n",
    "        #fig=fig\n",
    "        sns.countplot(x,data=df)\n",
    "        plt.xlabel(x)\n",
    "        plt.title(f\"Countplot showing the distribution of {x}\")\n",
    "    def barplot(self,x,y,data):\n",
    "        #fig=fig\n",
    "        sns.barplot(x=x,y=y,data=df)\n",
    "        plt.xlabel(x)\n",
    "        plt.ylabel('Frequency')\n",
    "        plt.show()\n",
    "    def pairplot(self,df):\n",
    "        #fig=fig\n",
    "        sns.pairplot(df)\n",
    "        plt.show()\n",
    "    def jointplot(self,x,y,data):\n",
    "        sns.jointplot(x=x,y=y,data=df)\n",
    "        plt.title(f\"The jointplot of {x} vs {y}\")\n",
    "        "
   ]
  },
  {
   "cell_type": "code",
   "execution_count": 20,
   "id": "104fdbc4",
   "metadata": {},
   "outputs": [
    {
     "data": {
      "text/plain": [
       "<Figure size 2000x800 with 0 Axes>"
      ]
     },
     "metadata": {},
     "output_type": "display_data"
    }
   ],
   "source": [
    "plotter = CreditVisualizer(df=df,fig=plt.figure(figsize=(20,8)))"
   ]
  },
  {
   "cell_type": "code",
   "execution_count": 21,
   "id": "cc2210a5",
   "metadata": {
    "scrolled": true
   },
   "outputs": [
    {
     "name": "stdout",
     "output_type": "stream",
     "text": [
      "Help on CreditVisualizer in module __main__ object:\n",
      "\n",
      "class CreditVisualizer(builtins.object)\n",
      " |  CreditVisualizer(df, fig)\n",
      " |  \n",
      " |  The CreditVisualizer takes in our dataframes and generates plots based on the methods called\n",
      " |  Args : \n",
      " |  x -str :This is the independent variable column ,in cases where there are more than two columns\n",
      " |  y-str :This is the dependent variable column usually ,logic or reasoning is used to determine the relationship\n",
      " |  df : DataFrame : The parent dataframe on which we  get all our variable i.e. Dependent and Independent\n",
      " |  fig = This is an instance of the plt.figure which you can set and takes figure size(Figure Dimensions)\n",
      " |  *Methods* \n",
      " |  histogram : Returns a Plotted histogram ,histogram need one variable i.e they show frequency by count    countplot : A countplot return the total number of each variable in a column \n",
      " |  barplot : A bar plot represents an estimate of central tendency for a numeric variable with the height of each rectangle and provides some indication ofthe uncertainty around that estimate using error bars. Bar plots include 0in the quantitative axis range, and they are a good choice when 0 is ameaningful value for the quantitative variable, and you want to makecomparisons against it.(seaborn documentation)\n",
      " |  pairplot : Models the relationship among all numerical columns\n",
      " |  \n",
      " |  Returns :\n",
      " |  \n",
      " |  Methods defined here:\n",
      " |  \n",
      " |  __init__(self, df, fig)\n",
      " |      Initialize self.  See help(type(self)) for accurate signature.\n",
      " |  \n",
      " |  barplot(self, x, y, data)\n",
      " |  \n",
      " |  countplot(self, x, data)\n",
      " |  \n",
      " |  histogram(self, x)\n",
      " |  \n",
      " |  jointplot(self, x, y, data)\n",
      " |  \n",
      " |  pairplot(self, df)\n",
      " |  \n",
      " |  ----------------------------------------------------------------------\n",
      " |  Data descriptors defined here:\n",
      " |  \n",
      " |  __dict__\n",
      " |      dictionary for instance variables (if defined)\n",
      " |  \n",
      " |  __weakref__\n",
      " |      list of weak references to the object (if defined)\n",
      "\n"
     ]
    }
   ],
   "source": [
    "help(plotter)"
   ]
  },
  {
   "cell_type": "markdown",
   "id": "e5a0b190",
   "metadata": {},
   "source": [
    "# AGE "
   ]
  },
  {
   "cell_type": "code",
   "execution_count": 22,
   "id": "d2b45f7a",
   "metadata": {},
   "outputs": [
    {
     "data": {
      "text/plain": [
       "Index(['Age', 'Sex', 'Job', 'Housing', 'Saving accounts', 'Checking account',\n",
       "       'Credit amount', 'Duration', 'Purpose'],\n",
       "      dtype='object')"
      ]
     },
     "execution_count": 22,
     "metadata": {},
     "output_type": "execute_result"
    }
   ],
   "source": [
    "df.columns"
   ]
  },
  {
   "cell_type": "code",
   "execution_count": 23,
   "id": "c83d81f1",
   "metadata": {},
   "outputs": [
    {
     "data": {
      "image/png": "[encoded data removed]",
      "text/plain": [
       "<Figure size 640x480 with 1 Axes>"
      ]
     },
     "metadata": {},
     "output_type": "display_data"
    }
   ],
   "source": [
    "plotter.histogram('Age') # A Majority of the customers are aged between Age 20 - 30 ,its a youthful market"
   ]
  },
  {
   "cell_type": "code",
   "execution_count": 24,
   "id": "0e583d65",
   "metadata": {},
   "outputs": [
    {
     "data": {
      "text/plain": [
       "Index(['Age', 'Sex', 'Job', 'Housing', 'Saving accounts', 'Checking account',\n",
       "       'Credit amount', 'Duration', 'Purpose'],\n",
       "      dtype='object')"
      ]
     },
     "execution_count": 24,
     "metadata": {},
     "output_type": "execute_result"
    }
   ],
   "source": [
    "df.columns"
   ]
  },
  {
   "cell_type": "code",
   "execution_count": 25,
   "id": "8693116e",
   "metadata": {},
   "outputs": [
    {
     "data": {
      "image/png": "[encoded data removed]",
      "text/plain": [
       "<Figure size 600x600 with 3 Axes>"
      ]
     },
     "metadata": {},
     "output_type": "display_data"
    }
   ],
   "source": [
    "# Relationship between Age and Credit amount ,what age borrows how much\n",
    "plotter.jointplot(x='Age',y='Credit amount',data=df) # Seems as if the elder someone gets the less they borrow"
   ]
  },
  {
   "cell_type": "code",
   "execution_count": null,
   "id": "a5065020",
   "metadata": {},
   "outputs": [],
   "source": []
  },
  {
   "cell_type": "code",
   "execution_count": null,
   "id": "bb2bb5b7",
   "metadata": {},
   "outputs": [],
   "source": []
  },
  {
   "cell_type": "markdown",
   "id": "4c87b4fd",
   "metadata": {},
   "source": [
    "# BUILDING A SUPERVISED LEARNING MODEL FROM SCRATCH ::\n",
    "\n",
    "I have this Idea that since we are not given labels , I could come up with a set of rules to determine if a customer gets a loan or not . The criterion is based off logic ,with conditions  such Age and Purpose coming into play."
   ]
  },
  {
   "cell_type": "code",
   "execution_count": 26,
   "id": "609eee87",
   "metadata": {},
   "outputs": [
    {
     "data": {
      "text/plain": [
       "Index(['Age', 'Sex', 'Job', 'Housing', 'Saving accounts', 'Checking account',\n",
       "       'Credit amount', 'Duration', 'Purpose'],\n",
       "      dtype='object')"
      ]
     },
     "execution_count": 26,
     "metadata": {},
     "output_type": "execute_result"
    }
   ],
   "source": [
    "df.columns # Checking for the columns in our  dataset"
   ]
  },
  {
   "cell_type": "code",
   "execution_count": 27,
   "id": "08bede6e",
   "metadata": {},
   "outputs": [
    {
     "data": {
      "text/plain": [
       "1000"
      ]
     },
     "execution_count": 27,
     "metadata": {},
     "output_type": "execute_result"
    }
   ],
   "source": [
    "len(df)"
   ]
  },
  {
   "cell_type": "code",
   "execution_count": 28,
   "id": "4ebe423b",
   "metadata": {},
   "outputs": [
    {
     "data": {
      "text/plain": [
       "array([67, 22, 49, 45, 53, 35, 53, 35, 61, 28, 25, 24, 22, 60, 28, 32, 53,\n",
       "       25, 44, 31, 48, 44, 48, 44, 26, 36, 39, 42, 34, 63, 36, 27, 30, 57,\n",
       "       33, 25, 31, 37, 37, 24, 30, 26, 44, 24, 58, 35, 39, 23, 39, 28, 29,\n",
       "       30, 25, 31, 57, 26, 52, 31, 23, 23, 27, 50, 61, 25, 26, 48, 29, 22,\n",
       "       37, 25, 30, 46, 51, 41, 40, 66, 34, 51, 39, 22, 44, 47, 24, 58, 52,\n",
       "       29, 27, 47, 30, 28, 56, 54, 33, 20, 54, 58, 61, 34, 36, 36, 41, 24,\n",
       "       24, 35, 26, 39, 39, 32, 30, 35, 31, 23, 28, 25, 35, 47, 30, 27, 23,\n",
       "       36, 25, 41, 24, 63, 27, 30, 40, 30, 34, 29, 24, 29, 27, 47, 21, 38,\n",
       "       27, 66, 35, 44, 27, 30, 27, 22, 23, 30, 39, 51, 28, 46, 42, 38, 24,\n",
       "       29, 36, 20, 48, 45, 38, 34, 36, 30, 36, 70, 36, 32, 33, 20, 25, 31,\n",
       "       33, 26, 34, 33, 26, 53, 42, 52, 31, 65, 28, 30, 40, 50, 36, 31, 74,\n",
       "       68, 20, 33, 54, 34, 36, 29, 21, 34, 28, 27, 36, 40, 52, 27, 26, 21,\n",
       "       38, 38, 43, 26, 21, 55, 33, 45, 50, 66, 51, 39, 31, 23, 24, 64, 26,\n",
       "       23, 30, 32, 30, 27, 27, 53, 22, 22, 26, 51, 35, 25, 42, 30, 23, 61,\n",
       "       35, 39, 29, 51, 24, 27, 35, 25, 52, 35, 26, 22, 39, 46, 24, 35, 24,\n",
       "       27, 35, 29, 23, 57, 27, 55, 36, 57, 32, 37, 36, 38, 45, 25, 32, 37,\n",
       "       36, 28, 34, 32, 26, 49, 32, 29, 23, 50, 49, 63, 37, 35, 26, 31, 49,\n",
       "       48, 26, 28, 44, 56, 46, 26, 20, 45, 43, 32, 54, 42, 37, 49, 44, 33,\n",
       "       24, 33, 24, 22, 40, 25, 26, 25, 29, 31, 38, 48, 32, 27, 28, 32, 34,\n",
       "       28, 36, 39, 49, 34, 31, 28, 75, 30, 24, 24, 23, 44, 23, 24, 28, 31,\n",
       "       24, 26, 25, 33, 37, 43, 23, 23, 34, 32, 23, 29, 38, 28, 46, 23, 49,\n",
       "       26, 28, 23, 61, 37, 36, 21, 25, 36, 27, 22, 42, 40, 36, 33, 23, 63,\n",
       "       60, 37, 34, 36, 57, 52, 39, 38, 25, 26, 26, 25, 21, 40, 27, 27, 30,\n",
       "       19, 39, 31, 31, 32, 55, 46, 46, 43, 39, 28, 27, 27, 43, 22, 43, 27,\n",
       "       26, 28, 20, 35, 42, 40, 35, 35, 33, 23, 31, 33, 20, 30, 47, 34, 25,\n",
       "       21, 29, 46, 20, 55, 74, 29, 36, 33, 25, 25, 23, 37, 65, 26, 39, 30,\n",
       "       29, 41, 30, 41, 34, 35, 55, 61, 30, 29, 34, 35, 31, 29, 36, 35, 27,\n",
       "       32, 37, 36, 34, 38, 34, 63, 29, 32, 26, 35, 22, 23, 28, 36, 33, 26,\n",
       "       24, 25, 39, 44, 23, 26, 57, 30, 44, 47, 52, 62, 35, 26, 26, 42, 27,\n",
       "       38, 39, 20, 29, 40, 32, 28, 27, 42, 49, 38, 24, 27, 36, 34, 28, 45,\n",
       "       26, 32, 26, 20, 54, 37, 40, 23, 43, 36, 44, 24, 53, 23, 26, 30, 31,\n",
       "       42, 31, 41, 32, 28, 41, 26, 25, 33, 75, 37, 42, 45, 23, 60, 31, 34,\n",
       "       61, 43, 37, 32, 24, 35, 23, 45, 34, 27, 67, 22, 28, 29, 27, 31, 49,\n",
       "       24, 29, 37, 37, 23, 36, 34, 41, 31, 23, 38, 26, 22, 27, 24, 27, 33,\n",
       "       27, 27, 30, 49, 26, 33, 52, 20, 36, 21, 47, 60, 58, 42, 36, 20, 40,\n",
       "       32, 23, 36, 31, 32, 45, 30, 34, 28, 23, 22, 74, 50, 33, 45, 22, 48,\n",
       "       29, 22, 22, 48, 27, 37, 21, 49, 27, 32, 38, 22, 65, 35, 41, 29, 36,\n",
       "       64, 28, 44, 23, 19, 25, 47, 28, 21, 34, 26, 27, 38, 40, 33, 32, 27,\n",
       "       32, 26, 38, 40, 50, 37, 45, 42, 35, 22, 41, 37, 28, 41, 23, 23, 50,\n",
       "       35, 50, 27, 34, 27, 43, 47, 27, 31, 42, 24, 41, 26, 33, 24, 64, 26,\n",
       "       56, 37, 33, 47, 31, 34, 27, 30, 35, 31, 25, 25, 29, 44, 28, 50, 29,\n",
       "       38, 24, 40, 29, 46, 47, 41, 32, 35, 24, 25, 25, 37, 32, 35, 46, 25,\n",
       "       27, 63, 40, 32, 31, 31, 34, 24, 24, 66, 21, 41, 47, 25, 59, 36, 33,\n",
       "       21, 44, 28, 37, 29, 23, 35, 45, 26, 32, 23, 41, 22, 30, 28, 23, 37,\n",
       "       26, 33, 49, 23, 23, 25, 55, 32, 74, 39, 31, 35, 59, 24, 24, 30, 27,\n",
       "       40, 31, 31, 28, 63, 26, 25, 36, 52, 66, 25, 37, 25, 38, 67, 25, 60,\n",
       "       31, 23, 60, 35, 40, 38, 50, 27, 39, 41, 27, 51, 32, 22, 51, 22, 54,\n",
       "       35, 54, 48, 24, 35, 24, 24, 26, 65, 55, 26, 26, 28, 24, 54, 46, 54,\n",
       "       62, 24, 43, 26, 27, 24, 41, 47, 35, 30, 33, 36, 47, 38, 44, 23, 29,\n",
       "       42, 25, 48, 21, 23, 63, 46, 29, 28, 23, 50, 47, 35, 68, 28, 59, 57,\n",
       "       33, 43, 35, 32, 45, 33, 40, 28, 29, 26, 27, 28, 35, 32, 25, 20, 27,\n",
       "       42, 37, 24, 40, 46, 26, 24, 29, 40, 36, 28, 27, 36, 38, 48, 36, 65,\n",
       "       43, 53, 34, 23, 34, 40, 43, 46, 38, 34, 29, 31, 28, 35, 33, 42, 43,\n",
       "       44, 42, 40, 36, 20, 24, 27, 46, 33, 34, 25, 25, 28, 31, 32, 32, 68,\n",
       "       33, 39, 28, 37, 22, 30, 55, 46, 21, 39, 58, 43, 24, 22, 30, 42, 23,\n",
       "       30, 28, 30, 42, 46, 45, 31, 31, 42, 46, 30, 30, 38, 43, 31, 40, 24,\n",
       "       28, 26, 29, 57, 49, 37, 45, 30, 30, 47, 29, 35, 22, 26, 23, 54, 29,\n",
       "       40, 22, 43, 29, 36, 33, 57, 64, 42, 47, 25, 49, 33, 28, 26, 30, 25,\n",
       "       33, 64, 29, 48, 37, 34, 23, 30, 50, 31, 40, 38, 23, 27],\n",
       "      dtype=int64)"
      ]
     },
     "execution_count": 28,
     "metadata": {},
     "output_type": "execute_result"
    }
   ],
   "source": [
    "df.Age.values"
   ]
  },
  {
   "cell_type": "code",
   "execution_count": 32,
   "id": "48575d58",
   "metadata": {},
   "outputs": [],
   "source": [
    "# Create a function that returns loan award,I'll name it loan :\n",
    "# loan column will be the label column ,with two values 0 and 1\n",
    "def get_label(df):\n",
    "    loan_award = []\n",
    "    for i in range(len(df)):\n",
    "        for value in df.Age.values:\n",
    "            if value > 60:\n",
    "                loan_award == 1\n",
    "            else :\n",
    "                loan_award == 2\n",
    "        loan_award.append(loan_award)\n",
    "    return loan_award\n",
    "        "
   ]
  },
  {
   "cell_type": "code",
   "execution_count": 33,
   "id": "315a9458",
   "metadata": {},
   "outputs": [],
   "source": [
    "df['loan'] = get_label(df)"
   ]
  },
  {
   "cell_type": "code",
   "execution_count": null,
   "id": "04d87ef1",
   "metadata": {},
   "outputs": [],
   "source": []
  }
 ],
 "metadata": {
  "kernelspec": {
   "display_name": "Python 3 (ipykernel)",
   "language": "python",
   "name": "python3"
  },
  "language_info": {
   "codemirror_mode": {
    "name": "ipython",
    "version": 3
   },
   "file_extension": ".py",
   "mimetype": "text/x-python",
   "name": "python",
   "nbconvert_exporter": "python",
   "pygments_lexer": "ipython3",
   "version": "3.9.13"
  }
 },
 "nbformat": 4,
 "nbformat_minor": 5
}
