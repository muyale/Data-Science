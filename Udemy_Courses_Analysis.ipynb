{
  "nbformat": 4,
  "nbformat_minor": 0,
  "metadata": {
    "colab": {
      "provenance": [],
      "authorship_tag": "ABX9TyPg6BK/wIvbcPjQpPer/the",
      "include_colab_link": true
    },
    "kernelspec": {
      "name": "python3",
      "display_name": "Python 3"
    },
    "language_info": {
      "name": "python"
    }
  },
  "cells": [
    {
      "cell_type": "markdown",
      "metadata": {
        "id": "view-in-github",
        "colab_type": "text"
      },
      "source": [
        "<a href=\"https://colab.research.google.com/github/muyale/Data-Science/blob/main/Udemy_Courses_Analysis.ipynb\" target=\"_parent\"><img src=\"https://colab.research.google.com/assets/colab-badge.svg\" alt=\"Open In Colab\"/></a>"
      ]
    },
    {
      "cell_type": "code",
      "execution_count": 184,
      "metadata": {
        "id": "cIMzyGf_2Z6Y"
      },
      "outputs": [],
      "source": [
        "import pandas as pd\n",
        "import numpy as np\n",
        "import seaborn as sns\n",
        "import matplotlib.pyplot as plt\n"
      ]
    },
    {
      "cell_type": "code",
      "source": [
        "udemy_df = pd.read_csv(\"/content/udemy_courses.csv\")\n",
        "udemy_df.head()\n",
        "udemy_df.drop_duplicates()\n",
        "udemy_df.drop(['published_timestamp'],axis=1,inplace=True)"
      ],
      "metadata": {
        "id": "omJRrNDB27nN"
      },
      "execution_count": 185,
      "outputs": []
    },
    {
      "cell_type": "code",
      "source": [
        "udemy_df.head()"
      ],
      "metadata": {
        "colab": {
          "base_uri": "https://localhost:8080/",
          "height": 527
        },
        "id": "x7i4AkaP8eDk",
        "outputId": "262c1401-83a7-40b5-c61f-b57975a156a1"
      },
      "execution_count": 186,
      "outputs": [
        {
          "output_type": "execute_result",
          "data": {
            "text/plain": [
              "   course_id                                       course_title  \\\n",
              "0    1070968                 Ultimate Investment Banking Course   \n",
              "1    1113822  Complete GST Course & Certification - Grow You...   \n",
              "2    1006314  Financial Modeling for Business Analysts and C...   \n",
              "3    1210588  Beginner to Pro - Financial Analysis in Excel ...   \n",
              "4    1011058       How To Maximize Your Profits Trading Options   \n",
              "\n",
              "                                                 url  is_paid  price  \\\n",
              "0  https://www.udemy.com/ultimate-investment-bank...     True    200   \n",
              "1      https://www.udemy.com/goods-and-services-tax/     True     75   \n",
              "2  https://www.udemy.com/financial-modeling-for-b...     True     45   \n",
              "3  https://www.udemy.com/complete-excel-finance-c...     True     95   \n",
              "4  https://www.udemy.com/how-to-maximize-your-pro...     True    200   \n",
              "\n",
              "   num_subscribers  num_reviews  num_lectures               level  \\\n",
              "0             2147           23            51          All Levels   \n",
              "1             2792          923           274          All Levels   \n",
              "2             2174           74            51  Intermediate Level   \n",
              "3             2451           11            36          All Levels   \n",
              "4             1276           45            26  Intermediate Level   \n",
              "\n",
              "   content_duration           subject  \n",
              "0               1.5  Business Finance  \n",
              "1              39.0  Business Finance  \n",
              "2               2.5  Business Finance  \n",
              "3               3.0  Business Finance  \n",
              "4               2.0  Business Finance  "
            ],
            "text/html": [
              "\n",
              "  <div id=\"df-9bdfa0f6-d4d9-45c9-b3d6-d28ef274a17e\">\n",
              "    <div class=\"colab-df-container\">\n",
              "      <div>\n",
              "<style scoped>\n",
              "    .dataframe tbody tr th:only-of-type {\n",
              "        vertical-align: middle;\n",
              "    }\n",
              "\n",
              "    .dataframe tbody tr th {\n",
              "        vertical-align: top;\n",
              "    }\n",
              "\n",
              "    .dataframe thead th {\n",
              "        text-align: right;\n",
              "    }\n",
              "</style>\n",
              "<table border=\"1\" class=\"dataframe\">\n",
              "  <thead>\n",
              "    <tr style=\"text-align: right;\">\n",
              "      <th></th>\n",
              "      <th>course_id</th>\n",
              "      <th>course_title</th>\n",
              "      <th>url</th>\n",
              "      <th>is_paid</th>\n",
              "      <th>price</th>\n",
              "      <th>num_subscribers</th>\n",
              "      <th>num_reviews</th>\n",
              "      <th>num_lectures</th>\n",
              "      <th>level</th>\n",
              "      <th>content_duration</th>\n",
              "      <th>subject</th>\n",
              "    </tr>\n",
              "  </thead>\n",
              "  <tbody>\n",
              "    <tr>\n",
              "      <th>0</th>\n",
              "      <td>1070968</td>\n",
              "      <td>Ultimate Investment Banking Course</td>\n",
              "      <td>https://www.udemy.com/ultimate-investment-bank...</td>\n",
              "      <td>True</td>\n",
              "      <td>200</td>\n",
              "      <td>2147</td>\n",
              "      <td>23</td>\n",
              "      <td>51</td>\n",
              "      <td>All Levels</td>\n",
              "      <td>1.5</td>\n",
              "      <td>Business Finance</td>\n",
              "    </tr>\n",
              "    <tr>\n",
              "      <th>1</th>\n",
              "      <td>1113822</td>\n",
              "      <td>Complete GST Course &amp; Certification - Grow You...</td>\n",
              "      <td>https://www.udemy.com/goods-and-services-tax/</td>\n",
              "      <td>True</td>\n",
              "      <td>75</td>\n",
              "      <td>2792</td>\n",
              "      <td>923</td>\n",
              "      <td>274</td>\n",
              "      <td>All Levels</td>\n",
              "      <td>39.0</td>\n",
              "      <td>Business Finance</td>\n",
              "    </tr>\n",
              "    <tr>\n",
              "      <th>2</th>\n",
              "      <td>1006314</td>\n",
              "      <td>Financial Modeling for Business Analysts and C...</td>\n",
              "      <td>https://www.udemy.com/financial-modeling-for-b...</td>\n",
              "      <td>True</td>\n",
              "      <td>45</td>\n",
              "      <td>2174</td>\n",
              "      <td>74</td>\n",
              "      <td>51</td>\n",
              "      <td>Intermediate Level</td>\n",
              "      <td>2.5</td>\n",
              "      <td>Business Finance</td>\n",
              "    </tr>\n",
              "    <tr>\n",
              "      <th>3</th>\n",
              "      <td>1210588</td>\n",
              "      <td>Beginner to Pro - Financial Analysis in Excel ...</td>\n",
              "      <td>https://www.udemy.com/complete-excel-finance-c...</td>\n",
              "      <td>True</td>\n",
              "      <td>95</td>\n",
              "      <td>2451</td>\n",
              "      <td>11</td>\n",
              "      <td>36</td>\n",
              "      <td>All Levels</td>\n",
              "      <td>3.0</td>\n",
              "      <td>Business Finance</td>\n",
              "    </tr>\n",
              "    <tr>\n",
              "      <th>4</th>\n",
              "      <td>1011058</td>\n",
              "      <td>How To Maximize Your Profits Trading Options</td>\n",
              "      <td>https://www.udemy.com/how-to-maximize-your-pro...</td>\n",
              "      <td>True</td>\n",
              "      <td>200</td>\n",
              "      <td>1276</td>\n",
              "      <td>45</td>\n",
              "      <td>26</td>\n",
              "      <td>Intermediate Level</td>\n",
              "      <td>2.0</td>\n",
              "      <td>Business Finance</td>\n",
              "    </tr>\n",
              "  </tbody>\n",
              "</table>\n",
              "</div>\n",
              "      <button class=\"colab-df-convert\" onclick=\"convertToInteractive('df-9bdfa0f6-d4d9-45c9-b3d6-d28ef274a17e')\"\n",
              "              title=\"Convert this dataframe to an interactive table.\"\n",
              "              style=\"display:none;\">\n",
              "        \n",
              "  <svg xmlns=\"http://www.w3.org/2000/svg\" height=\"24px\"viewBox=\"0 0 24 24\"\n",
              "       width=\"24px\">\n",
              "    <path d=\"M0 0h24v24H0V0z\" fill=\"none\"/>\n",
              "    <path d=\"M18.56 5.44l.94 2.06.94-2.06 2.06-.94-2.06-.94-.94-2.06-.94 2.06-2.06.94zm-11 1L8.5 8.5l.94-2.06 2.06-.94-2.06-.94L8.5 2.5l-.94 2.06-2.06.94zm10 10l.94 2.06.94-2.06 2.06-.94-2.06-.94-.94-2.06-.94 2.06-2.06.94z\"/><path d=\"M17.41 7.96l-1.37-1.37c-.4-.4-.92-.59-1.43-.59-.52 0-1.04.2-1.43.59L10.3 9.45l-7.72 7.72c-.78.78-.78 2.05 0 2.83L4 21.41c.39.39.9.59 1.41.59.51 0 1.02-.2 1.41-.59l7.78-7.78 2.81-2.81c.8-.78.8-2.07 0-2.86zM5.41 20L4 18.59l7.72-7.72 1.47 1.35L5.41 20z\"/>\n",
              "  </svg>\n",
              "      </button>\n",
              "      \n",
              "  <style>\n",
              "    .colab-df-container {\n",
              "      display:flex;\n",
              "      flex-wrap:wrap;\n",
              "      gap: 12px;\n",
              "    }\n",
              "\n",
              "    .colab-df-convert {\n",
              "      background-color: #E8F0FE;\n",
              "      border: none;\n",
              "      border-radius: 50%;\n",
              "      cursor: pointer;\n",
              "      display: none;\n",
              "      fill: #1967D2;\n",
              "      height: 32px;\n",
              "      padding: 0 0 0 0;\n",
              "      width: 32px;\n",
              "    }\n",
              "\n",
              "    .colab-df-convert:hover {\n",
              "      background-color: #E2EBFA;\n",
              "      box-shadow: 0px 1px 2px rgba(60, 64, 67, 0.3), 0px 1px 3px 1px rgba(60, 64, 67, 0.15);\n",
              "      fill: #174EA6;\n",
              "    }\n",
              "\n",
              "    [theme=dark] .colab-df-convert {\n",
              "      background-color: #3B4455;\n",
              "      fill: #D2E3FC;\n",
              "    }\n",
              "\n",
              "    [theme=dark] .colab-df-convert:hover {\n",
              "      background-color: #434B5C;\n",
              "      box-shadow: 0px 1px 3px 1px rgba(0, 0, 0, 0.15);\n",
              "      filter: drop-shadow(0px 1px 2px rgba(0, 0, 0, 0.3));\n",
              "      fill: #FFFFFF;\n",
              "    }\n",
              "  </style>\n",
              "\n",
              "      <script>\n",
              "        const buttonEl =\n",
              "          document.querySelector('#df-9bdfa0f6-d4d9-45c9-b3d6-d28ef274a17e button.colab-df-convert');\n",
              "        buttonEl.style.display =\n",
              "          google.colab.kernel.accessAllowed ? 'block' : 'none';\n",
              "\n",
              "        async function convertToInteractive(key) {\n",
              "          const element = document.querySelector('#df-9bdfa0f6-d4d9-45c9-b3d6-d28ef274a17e');\n",
              "          const dataTable =\n",
              "            await google.colab.kernel.invokeFunction('convertToInteractive',\n",
              "                                                     [key], {});\n",
              "          if (!dataTable) return;\n",
              "\n",
              "          const docLinkHtml = 'Like what you see? Visit the ' +\n",
              "            '<a target=\"_blank\" href=https://colab.research.google.com/notebooks/data_table.ipynb>data table notebook</a>'\n",
              "            + ' to learn more about interactive tables.';\n",
              "          element.innerHTML = '';\n",
              "          dataTable['output_type'] = 'display_data';\n",
              "          await google.colab.output.renderOutput(dataTable, element);\n",
              "          const docLink = document.createElement('div');\n",
              "          docLink.innerHTML = docLinkHtml;\n",
              "          element.appendChild(docLink);\n",
              "        }\n",
              "      </script>\n",
              "    </div>\n",
              "  </div>\n",
              "  "
            ]
          },
          "metadata": {},
          "execution_count": 186
        }
      ]
    },
    {
      "cell_type": "code",
      "source": [
        "udemy_df.columns\n",
        "udemy_df.isnull().sum()\n",
        "#Our dataset has no null values\n"
      ],
      "metadata": {
        "colab": {
          "base_uri": "https://localhost:8080/"
        },
        "id": "T1qVPSXV3zNb",
        "outputId": "ebac1540-6a37-4b36-c818-bb39c937bdaf"
      },
      "execution_count": 187,
      "outputs": [
        {
          "output_type": "execute_result",
          "data": {
            "text/plain": [
              "course_id           0\n",
              "course_title        0\n",
              "url                 0\n",
              "is_paid             0\n",
              "price               0\n",
              "num_subscribers     0\n",
              "num_reviews         0\n",
              "num_lectures        0\n",
              "level               0\n",
              "content_duration    0\n",
              "subject             0\n",
              "dtype: int64"
            ]
          },
          "metadata": {},
          "execution_count": 187
        }
      ]
    },
    {
      "cell_type": "code",
      "source": [
        "#Most picked subjects in Udemy: to solve this we will use a function\n",
        "def most_common(column,df=udemy_df):\n",
        "  \"\"\"Args :\n",
        "     column(str) :This is the column we are investigating\n",
        "     df(Df): This is the dataframe that we are analyzing\n",
        "     Returns :\n",
        "\n",
        "  \"\"\"\n",
        "  return df[column].value_counts().head(10)\n",
        "\n",
        " "
      ],
      "metadata": {
        "id": "zPMyi02w8-iU"
      },
      "execution_count": 188,
      "outputs": []
    },
    {
      "cell_type": "code",
      "source": [
        "most_common('subject')\n",
        "# Majority chose Web Development subject ,followed by Business Finance"
      ],
      "metadata": {
        "colab": {
          "base_uri": "https://localhost:8080/"
        },
        "id": "WEZTAWTa9VzE",
        "outputId": "dac6df15-11de-442e-af81-9b1c100a8e6d"
      },
      "execution_count": 189,
      "outputs": [
        {
          "output_type": "execute_result",
          "data": {
            "text/plain": [
              "Web Development        1200\n",
              "Business Finance       1195\n",
              "Musical Instruments     680\n",
              "Graphic Design          603\n",
              "Name: subject, dtype: int64"
            ]
          },
          "metadata": {},
          "execution_count": 189
        }
      ]
    },
    {
      "cell_type": "code",
      "source": [
        "# Most common Courses\n",
        "most_common('course_title')\n",
        "#Acoustic Blues Guitar Lessons Dominated "
      ],
      "metadata": {
        "colab": {
          "base_uri": "https://localhost:8080/"
        },
        "id": "cdTTCSPX_B1s",
        "outputId": "943d352a-951f-47d0-ef6c-c5e44e46e85e"
      },
      "execution_count": 190,
      "outputs": [
        {
          "output_type": "execute_result",
          "data": {
            "text/plain": [
              "Acoustic Blues Guitar Lessons                                   3\n",
              "Creating an animated greeting card via Google Slides            3\n",
              "CFA Level 2- Quantitative Methods                               2\n",
              "Essentials of money value: Get a financial Life !               2\n",
              "Drum Lessons For Beginners                                      2\n",
              "MicroStation - Células                                          2\n",
              "Understanding Financial Statements                              2\n",
              "Learn Web Designing & HTML5/CSS3 Essentials in 4-Hours          2\n",
              "The Complete Web Developer Masterclass: Beginner To Advanced    2\n",
              "Introduction to Forex Trading Business For Beginners            2\n",
              "Name: course_title, dtype: int64"
            ]
          },
          "metadata": {},
          "execution_count": 190
        }
      ]
    },
    {
      "cell_type": "code",
      "source": [
        "#Highest and Lowest paid courses\n",
        "udemy_df['price'].describe()\n",
        "#The maximum amount paid was 200 Dollars ,there were free courses"
      ],
      "metadata": {
        "colab": {
          "base_uri": "https://localhost:8080/"
        },
        "id": "XufNg4s1_wX2",
        "outputId": "662d7247-f790-4a3b-9bfc-e73a0ab67807"
      },
      "execution_count": 191,
      "outputs": [
        {
          "output_type": "execute_result",
          "data": {
            "text/plain": [
              "count    3678.000000\n",
              "mean       66.049483\n",
              "std        61.005755\n",
              "min         0.000000\n",
              "25%        20.000000\n",
              "50%        45.000000\n",
              "75%        95.000000\n",
              "max       200.000000\n",
              "Name: price, dtype: float64"
            ]
          },
          "metadata": {},
          "execution_count": 191
        }
      ]
    },
    {
      "cell_type": "code",
      "source": [
        "#Top 10 prices for courses\n",
        "prices = most_common('price')\n",
        "prices\n",
        "#There were 310 free courses,it seems like a majority of course  tutors set their prices at 20 dollars"
      ],
      "metadata": {
        "colab": {
          "base_uri": "https://localhost:8080/"
        },
        "id": "4d1MRn5KALl0",
        "outputId": "b82e5bc1-60d4-416f-e0f6-1c63cf7f2b00"
      },
      "execution_count": 192,
      "outputs": [
        {
          "output_type": "execute_result",
          "data": {
            "text/plain": [
              "20     830\n",
              "50     468\n",
              "0      310\n",
              "200    295\n",
              "40     217\n",
              "30     166\n",
              "25     154\n",
              "95     152\n",
              "100    133\n",
              "195    127\n",
              "Name: price, dtype: int64"
            ]
          },
          "metadata": {},
          "execution_count": 192
        }
      ]
    },
    {
      "cell_type": "code",
      "source": [
        "# How many beginners,all levels and intermediate?\n",
        "most_common('level')\n",
        "# Seems like only a few chose the Expert Level as Compared to the huge number  of beginner courses"
      ],
      "metadata": {
        "colab": {
          "base_uri": "https://localhost:8080/"
        },
        "id": "ETub8seWA3qO",
        "outputId": "bfde518a-814f-4805-b02f-a7cd6add94f1"
      },
      "execution_count": 193,
      "outputs": [
        {
          "output_type": "execute_result",
          "data": {
            "text/plain": [
              "All Levels            1929\n",
              "Beginner Level        1270\n",
              "Intermediate Level     421\n",
              "Expert Level            58\n",
              "Name: level, dtype: int64"
            ]
          },
          "metadata": {},
          "execution_count": 193
        }
      ]
    },
    {
      "cell_type": "code",
      "source": [
        "#Highest Duration\n",
        "most_common('content_duration')\n",
        "# 1 HR COURSES DOMINATED ,Preference of Courses is based on "
      ],
      "metadata": {
        "colab": {
          "base_uri": "https://localhost:8080/"
        },
        "id": "2gvQsRZyBcnj",
        "outputId": "25376bc2-bc28-4158-a320-f6e5ba00dbd0"
      },
      "execution_count": 194,
      "outputs": [
        {
          "output_type": "execute_result",
          "data": {
            "text/plain": [
              "1.0    607\n",
              "1.5    507\n",
              "2.0    419\n",
              "2.5    269\n",
              "3.0    248\n",
              "3.5    182\n",
              "4.0    145\n",
              "4.5    113\n",
              "5.0    108\n",
              "5.5     94\n",
              "Name: content_duration, dtype: int64"
            ]
          },
          "metadata": {},
          "execution_count": 194
        }
      ]
    },
    {
      "cell_type": "code",
      "source": [
        "#Total Amount of money collected by Udemy\n",
        "total_money = udemy_df.groupby('price').sum()\n",
        "#total_money = udemy_df.groupby('price')['num_subscribers'].agg('sum')\n",
        "total_money"
      ],
      "metadata": {
        "colab": {
          "base_uri": "https://localhost:8080/",
          "height": 1000
        },
        "id": "T57XIFu8CsN7",
        "outputId": "76f57696-fc68-457b-bb3a-72d41d7f9e41"
      },
      "execution_count": 195,
      "outputs": [
        {
          "output_type": "execute_result",
          "data": {
            "text/plain": [
              "       course_id  is_paid  num_subscribers  num_reviews  num_lectures  \\\n",
              "price                                                                   \n",
              "0      214348561        0          3575525       132038          6639   \n",
              "20     493951172      830          1320658        27107         20956   \n",
              "25     101446277      154           170861         6003          4213   \n",
              "30     113956768      166           286714        11505          5086   \n",
              "35      75189756      116           116300         3836          3580   \n",
              "40     160744504      217           200217         7306          6845   \n",
              "45      57428291       83            99011         3704          2484   \n",
              "50     283676556      468           717383        26427         20738   \n",
              "55      23592828       35            47561         1374          1018   \n",
              "60      46976264       75           157151         9244          2904   \n",
              "65      24958808       30            61281         2916          1436   \n",
              "70      20634794       26            46791         1454           875   \n",
              "75      51219379       81           410166        13015          3473   \n",
              "80      24567313       29           100207         4052          1421   \n",
              "85      20043796       31            28806         1543          1725   \n",
              "90      14397308       19            41585         1302           757   \n",
              "95     106145639      152           347949         9962          6202   \n",
              "100    101945188      133           410491        14778          6583   \n",
              "105      7308870       11            21613         1213           511   \n",
              "110      6300045        8            37344         5183           852   \n",
              "115     11964064       16            34497         2268           610   \n",
              "120     23997676       37           167452         6874          1775   \n",
              "125     22808612       30            48257         2196          1231   \n",
              "130      2756236        3              964           86            76   \n",
              "135      6003988        8            16909          302           185   \n",
              "140      9087290       10            45169         5127           608   \n",
              "145     19179816       27           124118         6533          2025   \n",
              "150     67026972       88           376202        29611          6897   \n",
              "155       798100        2            12356          526            75   \n",
              "160      3118882        4             8904          546           216   \n",
              "165      4804970        6            13377         1171           324   \n",
              "170      3809582        5            20350          336           262   \n",
              "175     10609924       13           167675        29616           714   \n",
              "180      9360054       17            90366        16839          2745   \n",
              "185      4542898        6            16886         1353           235   \n",
              "190      7343762       10           142439        34075          1935   \n",
              "195     95594038      127           939254        52469          7935   \n",
              "200    234585900      295          1336331       100831         21374   \n",
              "\n",
              "       content_duration  \n",
              "price                    \n",
              "0            685.333333  \n",
              "20          1995.333333  \n",
              "25           408.750000  \n",
              "30           553.966667  \n",
              "35           350.800000  \n",
              "40           659.483333  \n",
              "45           250.766667  \n",
              "50          2230.400000  \n",
              "55            76.866667  \n",
              "60           376.800000  \n",
              "65           185.800000  \n",
              "70            86.000000  \n",
              "75           338.116667  \n",
              "80           116.600000  \n",
              "85           168.783333  \n",
              "90            58.233333  \n",
              "95           602.466667  \n",
              "100          620.500000  \n",
              "105           50.000000  \n",
              "110           72.500000  \n",
              "115           52.500000  \n",
              "120          189.100000  \n",
              "125          138.633333  \n",
              "130            7.033333  \n",
              "135           24.500000  \n",
              "140           50.500000  \n",
              "145          202.000000  \n",
              "150          742.033333  \n",
              "155            6.500000  \n",
              "160           14.500000  \n",
              "165           46.500000  \n",
              "170           21.000000  \n",
              "175           92.000000  \n",
              "180          263.533333  \n",
              "185           29.500000  \n",
              "190          180.500000  \n",
              "195          981.000000  \n",
              "200         2130.800000  "
            ],
            "text/html": [
              "\n",
              "  <div id=\"df-c93a57a0-c7af-49b0-90e8-4758ba49a30c\">\n",
              "    <div class=\"colab-df-container\">\n",
              "      <div>\n",
              "<style scoped>\n",
              "    .dataframe tbody tr th:only-of-type {\n",
              "        vertical-align: middle;\n",
              "    }\n",
              "\n",
              "    .dataframe tbody tr th {\n",
              "        vertical-align: top;\n",
              "    }\n",
              "\n",
              "    .dataframe thead th {\n",
              "        text-align: right;\n",
              "    }\n",
              "</style>\n",
              "<table border=\"1\" class=\"dataframe\">\n",
              "  <thead>\n",
              "    <tr style=\"text-align: right;\">\n",
              "      <th></th>\n",
              "      <th>course_id</th>\n",
              "      <th>is_paid</th>\n",
              "      <th>num_subscribers</th>\n",
              "      <th>num_reviews</th>\n",
              "      <th>num_lectures</th>\n",
              "      <th>content_duration</th>\n",
              "    </tr>\n",
              "    <tr>\n",
              "      <th>price</th>\n",
              "      <th></th>\n",
              "      <th></th>\n",
              "      <th></th>\n",
              "      <th></th>\n",
              "      <th></th>\n",
              "      <th></th>\n",
              "    </tr>\n",
              "  </thead>\n",
              "  <tbody>\n",
              "    <tr>\n",
              "      <th>0</th>\n",
              "      <td>214348561</td>\n",
              "      <td>0</td>\n",
              "      <td>3575525</td>\n",
              "      <td>132038</td>\n",
              "      <td>6639</td>\n",
              "      <td>685.333333</td>\n",
              "    </tr>\n",
              "    <tr>\n",
              "      <th>20</th>\n",
              "      <td>493951172</td>\n",
              "      <td>830</td>\n",
              "      <td>1320658</td>\n",
              "      <td>27107</td>\n",
              "      <td>20956</td>\n",
              "      <td>1995.333333</td>\n",
              "    </tr>\n",
              "    <tr>\n",
              "      <th>25</th>\n",
              "      <td>101446277</td>\n",
              "      <td>154</td>\n",
              "      <td>170861</td>\n",
              "      <td>6003</td>\n",
              "      <td>4213</td>\n",
              "      <td>408.750000</td>\n",
              "    </tr>\n",
              "    <tr>\n",
              "      <th>30</th>\n",
              "      <td>113956768</td>\n",
              "      <td>166</td>\n",
              "      <td>286714</td>\n",
              "      <td>11505</td>\n",
              "      <td>5086</td>\n",
              "      <td>553.966667</td>\n",
              "    </tr>\n",
              "    <tr>\n",
              "      <th>35</th>\n",
              "      <td>75189756</td>\n",
              "      <td>116</td>\n",
              "      <td>116300</td>\n",
              "      <td>3836</td>\n",
              "      <td>3580</td>\n",
              "      <td>350.800000</td>\n",
              "    </tr>\n",
              "    <tr>\n",
              "      <th>40</th>\n",
              "      <td>160744504</td>\n",
              "      <td>217</td>\n",
              "      <td>200217</td>\n",
              "      <td>7306</td>\n",
              "      <td>6845</td>\n",
              "      <td>659.483333</td>\n",
              "    </tr>\n",
              "    <tr>\n",
              "      <th>45</th>\n",
              "      <td>57428291</td>\n",
              "      <td>83</td>\n",
              "      <td>99011</td>\n",
              "      <td>3704</td>\n",
              "      <td>2484</td>\n",
              "      <td>250.766667</td>\n",
              "    </tr>\n",
              "    <tr>\n",
              "      <th>50</th>\n",
              "      <td>283676556</td>\n",
              "      <td>468</td>\n",
              "      <td>717383</td>\n",
              "      <td>26427</td>\n",
              "      <td>20738</td>\n",
              "      <td>2230.400000</td>\n",
              "    </tr>\n",
              "    <tr>\n",
              "      <th>55</th>\n",
              "      <td>23592828</td>\n",
              "      <td>35</td>\n",
              "      <td>47561</td>\n",
              "      <td>1374</td>\n",
              "      <td>1018</td>\n",
              "      <td>76.866667</td>\n",
              "    </tr>\n",
              "    <tr>\n",
              "      <th>60</th>\n",
              "      <td>46976264</td>\n",
              "      <td>75</td>\n",
              "      <td>157151</td>\n",
              "      <td>9244</td>\n",
              "      <td>2904</td>\n",
              "      <td>376.800000</td>\n",
              "    </tr>\n",
              "    <tr>\n",
              "      <th>65</th>\n",
              "      <td>24958808</td>\n",
              "      <td>30</td>\n",
              "      <td>61281</td>\n",
              "      <td>2916</td>\n",
              "      <td>1436</td>\n",
              "      <td>185.800000</td>\n",
              "    </tr>\n",
              "    <tr>\n",
              "      <th>70</th>\n",
              "      <td>20634794</td>\n",
              "      <td>26</td>\n",
              "      <td>46791</td>\n",
              "      <td>1454</td>\n",
              "      <td>875</td>\n",
              "      <td>86.000000</td>\n",
              "    </tr>\n",
              "    <tr>\n",
              "      <th>75</th>\n",
              "      <td>51219379</td>\n",
              "      <td>81</td>\n",
              "      <td>410166</td>\n",
              "      <td>13015</td>\n",
              "      <td>3473</td>\n",
              "      <td>338.116667</td>\n",
              "    </tr>\n",
              "    <tr>\n",
              "      <th>80</th>\n",
              "      <td>24567313</td>\n",
              "      <td>29</td>\n",
              "      <td>100207</td>\n",
              "      <td>4052</td>\n",
              "      <td>1421</td>\n",
              "      <td>116.600000</td>\n",
              "    </tr>\n",
              "    <tr>\n",
              "      <th>85</th>\n",
              "      <td>20043796</td>\n",
              "      <td>31</td>\n",
              "      <td>28806</td>\n",
              "      <td>1543</td>\n",
              "      <td>1725</td>\n",
              "      <td>168.783333</td>\n",
              "    </tr>\n",
              "    <tr>\n",
              "      <th>90</th>\n",
              "      <td>14397308</td>\n",
              "      <td>19</td>\n",
              "      <td>41585</td>\n",
              "      <td>1302</td>\n",
              "      <td>757</td>\n",
              "      <td>58.233333</td>\n",
              "    </tr>\n",
              "    <tr>\n",
              "      <th>95</th>\n",
              "      <td>106145639</td>\n",
              "      <td>152</td>\n",
              "      <td>347949</td>\n",
              "      <td>9962</td>\n",
              "      <td>6202</td>\n",
              "      <td>602.466667</td>\n",
              "    </tr>\n",
              "    <tr>\n",
              "      <th>100</th>\n",
              "      <td>101945188</td>\n",
              "      <td>133</td>\n",
              "      <td>410491</td>\n",
              "      <td>14778</td>\n",
              "      <td>6583</td>\n",
              "      <td>620.500000</td>\n",
              "    </tr>\n",
              "    <tr>\n",
              "      <th>105</th>\n",
              "      <td>7308870</td>\n",
              "      <td>11</td>\n",
              "      <td>21613</td>\n",
              "      <td>1213</td>\n",
              "      <td>511</td>\n",
              "      <td>50.000000</td>\n",
              "    </tr>\n",
              "    <tr>\n",
              "      <th>110</th>\n",
              "      <td>6300045</td>\n",
              "      <td>8</td>\n",
              "      <td>37344</td>\n",
              "      <td>5183</td>\n",
              "      <td>852</td>\n",
              "      <td>72.500000</td>\n",
              "    </tr>\n",
              "    <tr>\n",
              "      <th>115</th>\n",
              "      <td>11964064</td>\n",
              "      <td>16</td>\n",
              "      <td>34497</td>\n",
              "      <td>2268</td>\n",
              "      <td>610</td>\n",
              "      <td>52.500000</td>\n",
              "    </tr>\n",
              "    <tr>\n",
              "      <th>120</th>\n",
              "      <td>23997676</td>\n",
              "      <td>37</td>\n",
              "      <td>167452</td>\n",
              "      <td>6874</td>\n",
              "      <td>1775</td>\n",
              "      <td>189.100000</td>\n",
              "    </tr>\n",
              "    <tr>\n",
              "      <th>125</th>\n",
              "      <td>22808612</td>\n",
              "      <td>30</td>\n",
              "      <td>48257</td>\n",
              "      <td>2196</td>\n",
              "      <td>1231</td>\n",
              "      <td>138.633333</td>\n",
              "    </tr>\n",
              "    <tr>\n",
              "      <th>130</th>\n",
              "      <td>2756236</td>\n",
              "      <td>3</td>\n",
              "      <td>964</td>\n",
              "      <td>86</td>\n",
              "      <td>76</td>\n",
              "      <td>7.033333</td>\n",
              "    </tr>\n",
              "    <tr>\n",
              "      <th>135</th>\n",
              "      <td>6003988</td>\n",
              "      <td>8</td>\n",
              "      <td>16909</td>\n",
              "      <td>302</td>\n",
              "      <td>185</td>\n",
              "      <td>24.500000</td>\n",
              "    </tr>\n",
              "    <tr>\n",
              "      <th>140</th>\n",
              "      <td>9087290</td>\n",
              "      <td>10</td>\n",
              "      <td>45169</td>\n",
              "      <td>5127</td>\n",
              "      <td>608</td>\n",
              "      <td>50.500000</td>\n",
              "    </tr>\n",
              "    <tr>\n",
              "      <th>145</th>\n",
              "      <td>19179816</td>\n",
              "      <td>27</td>\n",
              "      <td>124118</td>\n",
              "      <td>6533</td>\n",
              "      <td>2025</td>\n",
              "      <td>202.000000</td>\n",
              "    </tr>\n",
              "    <tr>\n",
              "      <th>150</th>\n",
              "      <td>67026972</td>\n",
              "      <td>88</td>\n",
              "      <td>376202</td>\n",
              "      <td>29611</td>\n",
              "      <td>6897</td>\n",
              "      <td>742.033333</td>\n",
              "    </tr>\n",
              "    <tr>\n",
              "      <th>155</th>\n",
              "      <td>798100</td>\n",
              "      <td>2</td>\n",
              "      <td>12356</td>\n",
              "      <td>526</td>\n",
              "      <td>75</td>\n",
              "      <td>6.500000</td>\n",
              "    </tr>\n",
              "    <tr>\n",
              "      <th>160</th>\n",
              "      <td>3118882</td>\n",
              "      <td>4</td>\n",
              "      <td>8904</td>\n",
              "      <td>546</td>\n",
              "      <td>216</td>\n",
              "      <td>14.500000</td>\n",
              "    </tr>\n",
              "    <tr>\n",
              "      <th>165</th>\n",
              "      <td>4804970</td>\n",
              "      <td>6</td>\n",
              "      <td>13377</td>\n",
              "      <td>1171</td>\n",
              "      <td>324</td>\n",
              "      <td>46.500000</td>\n",
              "    </tr>\n",
              "    <tr>\n",
              "      <th>170</th>\n",
              "      <td>3809582</td>\n",
              "      <td>5</td>\n",
              "      <td>20350</td>\n",
              "      <td>336</td>\n",
              "      <td>262</td>\n",
              "      <td>21.000000</td>\n",
              "    </tr>\n",
              "    <tr>\n",
              "      <th>175</th>\n",
              "      <td>10609924</td>\n",
              "      <td>13</td>\n",
              "      <td>167675</td>\n",
              "      <td>29616</td>\n",
              "      <td>714</td>\n",
              "      <td>92.000000</td>\n",
              "    </tr>\n",
              "    <tr>\n",
              "      <th>180</th>\n",
              "      <td>9360054</td>\n",
              "      <td>17</td>\n",
              "      <td>90366</td>\n",
              "      <td>16839</td>\n",
              "      <td>2745</td>\n",
              "      <td>263.533333</td>\n",
              "    </tr>\n",
              "    <tr>\n",
              "      <th>185</th>\n",
              "      <td>4542898</td>\n",
              "      <td>6</td>\n",
              "      <td>16886</td>\n",
              "      <td>1353</td>\n",
              "      <td>235</td>\n",
              "      <td>29.500000</td>\n",
              "    </tr>\n",
              "    <tr>\n",
              "      <th>190</th>\n",
              "      <td>7343762</td>\n",
              "      <td>10</td>\n",
              "      <td>142439</td>\n",
              "      <td>34075</td>\n",
              "      <td>1935</td>\n",
              "      <td>180.500000</td>\n",
              "    </tr>\n",
              "    <tr>\n",
              "      <th>195</th>\n",
              "      <td>95594038</td>\n",
              "      <td>127</td>\n",
              "      <td>939254</td>\n",
              "      <td>52469</td>\n",
              "      <td>7935</td>\n",
              "      <td>981.000000</td>\n",
              "    </tr>\n",
              "    <tr>\n",
              "      <th>200</th>\n",
              "      <td>234585900</td>\n",
              "      <td>295</td>\n",
              "      <td>1336331</td>\n",
              "      <td>100831</td>\n",
              "      <td>21374</td>\n",
              "      <td>2130.800000</td>\n",
              "    </tr>\n",
              "  </tbody>\n",
              "</table>\n",
              "</div>\n",
              "      <button class=\"colab-df-convert\" onclick=\"convertToInteractive('df-c93a57a0-c7af-49b0-90e8-4758ba49a30c')\"\n",
              "              title=\"Convert this dataframe to an interactive table.\"\n",
              "              style=\"display:none;\">\n",
              "        \n",
              "  <svg xmlns=\"http://www.w3.org/2000/svg\" height=\"24px\"viewBox=\"0 0 24 24\"\n",
              "       width=\"24px\">\n",
              "    <path d=\"M0 0h24v24H0V0z\" fill=\"none\"/>\n",
              "    <path d=\"M18.56 5.44l.94 2.06.94-2.06 2.06-.94-2.06-.94-.94-2.06-.94 2.06-2.06.94zm-11 1L8.5 8.5l.94-2.06 2.06-.94-2.06-.94L8.5 2.5l-.94 2.06-2.06.94zm10 10l.94 2.06.94-2.06 2.06-.94-2.06-.94-.94-2.06-.94 2.06-2.06.94z\"/><path d=\"M17.41 7.96l-1.37-1.37c-.4-.4-.92-.59-1.43-.59-.52 0-1.04.2-1.43.59L10.3 9.45l-7.72 7.72c-.78.78-.78 2.05 0 2.83L4 21.41c.39.39.9.59 1.41.59.51 0 1.02-.2 1.41-.59l7.78-7.78 2.81-2.81c.8-.78.8-2.07 0-2.86zM5.41 20L4 18.59l7.72-7.72 1.47 1.35L5.41 20z\"/>\n",
              "  </svg>\n",
              "      </button>\n",
              "      \n",
              "  <style>\n",
              "    .colab-df-container {\n",
              "      display:flex;\n",
              "      flex-wrap:wrap;\n",
              "      gap: 12px;\n",
              "    }\n",
              "\n",
              "    .colab-df-convert {\n",
              "      background-color: #E8F0FE;\n",
              "      border: none;\n",
              "      border-radius: 50%;\n",
              "      cursor: pointer;\n",
              "      display: none;\n",
              "      fill: #1967D2;\n",
              "      height: 32px;\n",
              "      padding: 0 0 0 0;\n",
              "      width: 32px;\n",
              "    }\n",
              "\n",
              "    .colab-df-convert:hover {\n",
              "      background-color: #E2EBFA;\n",
              "      box-shadow: 0px 1px 2px rgba(60, 64, 67, 0.3), 0px 1px 3px 1px rgba(60, 64, 67, 0.15);\n",
              "      fill: #174EA6;\n",
              "    }\n",
              "\n",
              "    [theme=dark] .colab-df-convert {\n",
              "      background-color: #3B4455;\n",
              "      fill: #D2E3FC;\n",
              "    }\n",
              "\n",
              "    [theme=dark] .colab-df-convert:hover {\n",
              "      background-color: #434B5C;\n",
              "      box-shadow: 0px 1px 3px 1px rgba(0, 0, 0, 0.15);\n",
              "      filter: drop-shadow(0px 1px 2px rgba(0, 0, 0, 0.3));\n",
              "      fill: #FFFFFF;\n",
              "    }\n",
              "  </style>\n",
              "\n",
              "      <script>\n",
              "        const buttonEl =\n",
              "          document.querySelector('#df-c93a57a0-c7af-49b0-90e8-4758ba49a30c button.colab-df-convert');\n",
              "        buttonEl.style.display =\n",
              "          google.colab.kernel.accessAllowed ? 'block' : 'none';\n",
              "\n",
              "        async function convertToInteractive(key) {\n",
              "          const element = document.querySelector('#df-c93a57a0-c7af-49b0-90e8-4758ba49a30c');\n",
              "          const dataTable =\n",
              "            await google.colab.kernel.invokeFunction('convertToInteractive',\n",
              "                                                     [key], {});\n",
              "          if (!dataTable) return;\n",
              "\n",
              "          const docLinkHtml = 'Like what you see? Visit the ' +\n",
              "            '<a target=\"_blank\" href=https://colab.research.google.com/notebooks/data_table.ipynb>data table notebook</a>'\n",
              "            + ' to learn more about interactive tables.';\n",
              "          element.innerHTML = '';\n",
              "          dataTable['output_type'] = 'display_data';\n",
              "          await google.colab.output.renderOutput(dataTable, element);\n",
              "          const docLink = document.createElement('div');\n",
              "          docLink.innerHTML = docLinkHtml;\n",
              "          element.appendChild(docLink);\n",
              "        }\n",
              "      </script>\n",
              "    </div>\n",
              "  </div>\n",
              "  "
            ]
          },
          "metadata": {},
          "execution_count": 195
        }
      ]
    },
    {
      "cell_type": "markdown",
      "source": [
        "\"\"\"EXPLORATORY DATA ANALYSIS \n",
        "this I will do using the seaborn and matplotlib libraries \"\"\""
      ],
      "metadata": {
        "id": "QdpFx3DgEeM2"
      }
    },
    {
      "cell_type": "code",
      "source": [
        "# Checking for correlation\n",
        "udemy_corr = udemy_df.corr()\n",
        "udemy_corr\n",
        "# price correlated with everything else ,we can create a  LM model to predic future prices"
      ],
      "metadata": {
        "colab": {
          "base_uri": "https://localhost:8080/",
          "height": 269
        },
        "id": "UWVjJZEPE224",
        "outputId": "e034ce4b-985e-499d-e40f-28f28da44cdd"
      },
      "execution_count": 196,
      "outputs": [
        {
          "output_type": "execute_result",
          "data": {
            "text/plain": [
              "                  course_id   is_paid     price  num_subscribers  num_reviews  \\\n",
              "course_id          1.000000 -0.013679  0.142319        -0.167856    -0.058550   \n",
              "is_paid           -0.013679  1.000000  0.328513        -0.266159    -0.087471   \n",
              "price              0.142319  0.328513  1.000000         0.050769     0.113696   \n",
              "num_subscribers   -0.167856 -0.266159  0.050769         1.000000     0.649946   \n",
              "num_reviews       -0.058550 -0.087471  0.113696         0.649946     1.000000   \n",
              "num_lectures      -0.024646  0.112574  0.330160         0.157746     0.243029   \n",
              "content_duration  -0.057223  0.094417  0.293450         0.161839     0.228889   \n",
              "\n",
              "                  num_lectures  content_duration  \n",
              "course_id            -0.024646         -0.057223  \n",
              "is_paid               0.112574          0.094417  \n",
              "price                 0.330160          0.293450  \n",
              "num_subscribers       0.157746          0.161839  \n",
              "num_reviews           0.243029          0.228889  \n",
              "num_lectures          1.000000          0.801647  \n",
              "content_duration      0.801647          1.000000  "
            ],
            "text/html": [
              "\n",
              "  <div id=\"df-d9db4634-ffd0-460e-987f-294e03a010b2\">\n",
              "    <div class=\"colab-df-container\">\n",
              "      <div>\n",
              "<style scoped>\n",
              "    .dataframe tbody tr th:only-of-type {\n",
              "        vertical-align: middle;\n",
              "    }\n",
              "\n",
              "    .dataframe tbody tr th {\n",
              "        vertical-align: top;\n",
              "    }\n",
              "\n",
              "    .dataframe thead th {\n",
              "        text-align: right;\n",
              "    }\n",
              "</style>\n",
              "<table border=\"1\" class=\"dataframe\">\n",
              "  <thead>\n",
              "    <tr style=\"text-align: right;\">\n",
              "      <th></th>\n",
              "      <th>course_id</th>\n",
              "      <th>is_paid</th>\n",
              "      <th>price</th>\n",
              "      <th>num_subscribers</th>\n",
              "      <th>num_reviews</th>\n",
              "      <th>num_lectures</th>\n",
              "      <th>content_duration</th>\n",
              "    </tr>\n",
              "  </thead>\n",
              "  <tbody>\n",
              "    <tr>\n",
              "      <th>course_id</th>\n",
              "      <td>1.000000</td>\n",
              "      <td>-0.013679</td>\n",
              "      <td>0.142319</td>\n",
              "      <td>-0.167856</td>\n",
              "      <td>-0.058550</td>\n",
              "      <td>-0.024646</td>\n",
              "      <td>-0.057223</td>\n",
              "    </tr>\n",
              "    <tr>\n",
              "      <th>is_paid</th>\n",
              "      <td>-0.013679</td>\n",
              "      <td>1.000000</td>\n",
              "      <td>0.328513</td>\n",
              "      <td>-0.266159</td>\n",
              "      <td>-0.087471</td>\n",
              "      <td>0.112574</td>\n",
              "      <td>0.094417</td>\n",
              "    </tr>\n",
              "    <tr>\n",
              "      <th>price</th>\n",
              "      <td>0.142319</td>\n",
              "      <td>0.328513</td>\n",
              "      <td>1.000000</td>\n",
              "      <td>0.050769</td>\n",
              "      <td>0.113696</td>\n",
              "      <td>0.330160</td>\n",
              "      <td>0.293450</td>\n",
              "    </tr>\n",
              "    <tr>\n",
              "      <th>num_subscribers</th>\n",
              "      <td>-0.167856</td>\n",
              "      <td>-0.266159</td>\n",
              "      <td>0.050769</td>\n",
              "      <td>1.000000</td>\n",
              "      <td>0.649946</td>\n",
              "      <td>0.157746</td>\n",
              "      <td>0.161839</td>\n",
              "    </tr>\n",
              "    <tr>\n",
              "      <th>num_reviews</th>\n",
              "      <td>-0.058550</td>\n",
              "      <td>-0.087471</td>\n",
              "      <td>0.113696</td>\n",
              "      <td>0.649946</td>\n",
              "      <td>1.000000</td>\n",
              "      <td>0.243029</td>\n",
              "      <td>0.228889</td>\n",
              "    </tr>\n",
              "    <tr>\n",
              "      <th>num_lectures</th>\n",
              "      <td>-0.024646</td>\n",
              "      <td>0.112574</td>\n",
              "      <td>0.330160</td>\n",
              "      <td>0.157746</td>\n",
              "      <td>0.243029</td>\n",
              "      <td>1.000000</td>\n",
              "      <td>0.801647</td>\n",
              "    </tr>\n",
              "    <tr>\n",
              "      <th>content_duration</th>\n",
              "      <td>-0.057223</td>\n",
              "      <td>0.094417</td>\n",
              "      <td>0.293450</td>\n",
              "      <td>0.161839</td>\n",
              "      <td>0.228889</td>\n",
              "      <td>0.801647</td>\n",
              "      <td>1.000000</td>\n",
              "    </tr>\n",
              "  </tbody>\n",
              "</table>\n",
              "</div>\n",
              "      <button class=\"colab-df-convert\" onclick=\"convertToInteractive('df-d9db4634-ffd0-460e-987f-294e03a010b2')\"\n",
              "              title=\"Convert this dataframe to an interactive table.\"\n",
              "              style=\"display:none;\">\n",
              "        \n",
              "  <svg xmlns=\"http://www.w3.org/2000/svg\" height=\"24px\"viewBox=\"0 0 24 24\"\n",
              "       width=\"24px\">\n",
              "    <path d=\"M0 0h24v24H0V0z\" fill=\"none\"/>\n",
              "    <path d=\"M18.56 5.44l.94 2.06.94-2.06 2.06-.94-2.06-.94-.94-2.06-.94 2.06-2.06.94zm-11 1L8.5 8.5l.94-2.06 2.06-.94-2.06-.94L8.5 2.5l-.94 2.06-2.06.94zm10 10l.94 2.06.94-2.06 2.06-.94-2.06-.94-.94-2.06-.94 2.06-2.06.94z\"/><path d=\"M17.41 7.96l-1.37-1.37c-.4-.4-.92-.59-1.43-.59-.52 0-1.04.2-1.43.59L10.3 9.45l-7.72 7.72c-.78.78-.78 2.05 0 2.83L4 21.41c.39.39.9.59 1.41.59.51 0 1.02-.2 1.41-.59l7.78-7.78 2.81-2.81c.8-.78.8-2.07 0-2.86zM5.41 20L4 18.59l7.72-7.72 1.47 1.35L5.41 20z\"/>\n",
              "  </svg>\n",
              "      </button>\n",
              "      \n",
              "  <style>\n",
              "    .colab-df-container {\n",
              "      display:flex;\n",
              "      flex-wrap:wrap;\n",
              "      gap: 12px;\n",
              "    }\n",
              "\n",
              "    .colab-df-convert {\n",
              "      background-color: #E8F0FE;\n",
              "      border: none;\n",
              "      border-radius: 50%;\n",
              "      cursor: pointer;\n",
              "      display: none;\n",
              "      fill: #1967D2;\n",
              "      height: 32px;\n",
              "      padding: 0 0 0 0;\n",
              "      width: 32px;\n",
              "    }\n",
              "\n",
              "    .colab-df-convert:hover {\n",
              "      background-color: #E2EBFA;\n",
              "      box-shadow: 0px 1px 2px rgba(60, 64, 67, 0.3), 0px 1px 3px 1px rgba(60, 64, 67, 0.15);\n",
              "      fill: #174EA6;\n",
              "    }\n",
              "\n",
              "    [theme=dark] .colab-df-convert {\n",
              "      background-color: #3B4455;\n",
              "      fill: #D2E3FC;\n",
              "    }\n",
              "\n",
              "    [theme=dark] .colab-df-convert:hover {\n",
              "      background-color: #434B5C;\n",
              "      box-shadow: 0px 1px 3px 1px rgba(0, 0, 0, 0.15);\n",
              "      filter: drop-shadow(0px 1px 2px rgba(0, 0, 0, 0.3));\n",
              "      fill: #FFFFFF;\n",
              "    }\n",
              "  </style>\n",
              "\n",
              "      <script>\n",
              "        const buttonEl =\n",
              "          document.querySelector('#df-d9db4634-ffd0-460e-987f-294e03a010b2 button.colab-df-convert');\n",
              "        buttonEl.style.display =\n",
              "          google.colab.kernel.accessAllowed ? 'block' : 'none';\n",
              "\n",
              "        async function convertToInteractive(key) {\n",
              "          const element = document.querySelector('#df-d9db4634-ffd0-460e-987f-294e03a010b2');\n",
              "          const dataTable =\n",
              "            await google.colab.kernel.invokeFunction('convertToInteractive',\n",
              "                                                     [key], {});\n",
              "          if (!dataTable) return;\n",
              "\n",
              "          const docLinkHtml = 'Like what you see? Visit the ' +\n",
              "            '<a target=\"_blank\" href=https://colab.research.google.com/notebooks/data_table.ipynb>data table notebook</a>'\n",
              "            + ' to learn more about interactive tables.';\n",
              "          element.innerHTML = '';\n",
              "          dataTable['output_type'] = 'display_data';\n",
              "          await google.colab.output.renderOutput(dataTable, element);\n",
              "          const docLink = document.createElement('div');\n",
              "          docLink.innerHTML = docLinkHtml;\n",
              "          element.appendChild(docLink);\n",
              "        }\n",
              "      </script>\n",
              "    </div>\n",
              "  </div>\n",
              "  "
            ]
          },
          "metadata": {},
          "execution_count": 196
        }
      ]
    },
    {
      "cell_type": "code",
      "source": [
        "sns.heatmap(udemy_corr)"
      ],
      "metadata": {
        "colab": {
          "base_uri": "https://localhost:8080/",
          "height": 362
        },
        "id": "3BSAgjFYFTyU",
        "outputId": "20b63977-f40f-46d2-d5ef-ee5fb18e936c"
      },
      "execution_count": 197,
      "outputs": [
        {
          "output_type": "execute_result",
          "data": {
            "text/plain": [
              "<matplotlib.axes._subplots.AxesSubplot at 0x7fa0afa0c4f0>"
            ]
          },
          "metadata": {},
          "execution_count": 197
        },
        {
          "output_type": "display_data",
          "data": {
            "text/plain": [
              "<Figure size 432x288 with 2 Axes>"
            ],
            "image/png": "[encoded data removed]"
          },
          "metadata": {
            "needs_background": "light"
          }
        }
      ]
    },
    {
      "cell_type": "code",
      "source": [
        "subject = most_common('subject')\n",
        "plt.title('THE FIVE MOST COMMON SUBJECTS')\n",
        "plt.xlabel('Subjects')\n",
        "plt.ylabel('Total_Subscriptions')\n",
        "subject.plot(figsize=(15,5),legend=True)"
      ],
      "metadata": {
        "colab": {
          "base_uri": "https://localhost:8080/",
          "height": 367
        },
        "id": "0pv-ZllGHE9u",
        "outputId": "e55d016e-7bce-4308-f554-0accbaaca4f5"
      },
      "execution_count": 198,
      "outputs": [
        {
          "output_type": "execute_result",
          "data": {
            "text/plain": [
              "<matplotlib.axes._subplots.AxesSubplot at 0x7fa0af73c400>"
            ]
          },
          "metadata": {},
          "execution_count": 198
        },
        {
          "output_type": "display_data",
          "data": {
            "text/plain": [
              "<Figure size 1080x360 with 1 Axes>"
            ],
            "image/png": "[encoded data removed]"
          },
          "metadata": {
            "needs_background": "light"
          }
        }
      ]
    },
    {
      "cell_type": "code",
      "source": [
        "subject = most_common('course_title')\n",
        "plt.title('THE FIVE MOST COMMON COURSES')\n",
        "plt.xlabel('co')\n",
        "plt.ylabel('Total_Subscriptions')\n",
        "subject.plot(figsize=(15,5),legend=True)"
      ],
      "metadata": {
        "colab": {
          "base_uri": "https://localhost:8080/",
          "height": 367
        },
        "id": "p59GbjmzJTlg",
        "outputId": "bc07f55a-4b8f-4cf6-9a3c-9c2a21c5ca90"
      },
      "execution_count": 199,
      "outputs": [
        {
          "output_type": "execute_result",
          "data": {
            "text/plain": [
              "<matplotlib.axes._subplots.AxesSubplot at 0x7fa0af696340>"
            ]
          },
          "metadata": {},
          "execution_count": 199
        },
        {
          "output_type": "display_data",
          "data": {
            "text/plain": [
              "<Figure size 1080x360 with 1 Axes>"
            ],
            "image/png": "[encoded data removed]"
          },
          "metadata": {
            "needs_background": "light"
          }
        }
      ]
    },
    {
      "cell_type": "code",
      "source": [
        "from IPython.core.prefilter import PrefilterChecker\n",
        "PrefilterChecker = most_common('price')\n",
        "plt.title('THE FIVE MOST COMMON PRICES')\n",
        "plt.xlabel('prices')\n",
        "plt.ylabel('Total_Subscriptions')\n",
        "sns.histplot(x=udemy_df['price'] )"
      ],
      "metadata": {
        "colab": {
          "base_uri": "https://localhost:8080/",
          "height": 312
        },
        "id": "1ZMj2gsCUqad",
        "outputId": "20512ec3-5839-4fee-ac72-0ac504d6ce4c"
      },
      "execution_count": 200,
      "outputs": [
        {
          "output_type": "execute_result",
          "data": {
            "text/plain": [
              "<matplotlib.axes._subplots.AxesSubplot at 0x7fa0af663910>"
            ]
          },
          "metadata": {},
          "execution_count": 200
        },
        {
          "output_type": "display_data",
          "data": {
            "text/plain": [
              "<Figure size 432x288 with 1 Axes>"
            ],
            "image/png": "[encoded data removed]"
          },
          "metadata": {
            "needs_background": "light"
          }
        }
      ]
    },
    {
      "cell_type": "code",
      "source": [
        "# How were the courses distributed in time\n",
        "subject = most_common('content_duration')\n",
        "plt.title('The course duration')\n",
        "plt.xlabel('content_duration')\n",
        "plt.ylabel('Total_Subscriptions')\n",
        "subject.plot(figsize=(15,5),legend=True)\n",
        "#The longer the duration the less the subscription"
      ],
      "metadata": {
        "colab": {
          "base_uri": "https://localhost:8080/",
          "height": 368
        },
        "id": "g_VHef0XIQjx",
        "outputId": "e37904f7-32b2-4e06-dd81-e737cb050ddd"
      },
      "execution_count": 201,
      "outputs": [
        {
          "output_type": "execute_result",
          "data": {
            "text/plain": [
              "<matplotlib.axes._subplots.AxesSubplot at 0x7fa0af588520>"
            ]
          },
          "metadata": {},
          "execution_count": 201
        },
        {
          "output_type": "display_data",
          "data": {
            "text/plain": [
              "<Figure size 1080x360 with 1 Axes>"
            ],
            "image/png": "[encoded data removed]"
          },
          "metadata": {
            "needs_background": "light"
          }
        }
      ]
    },
    {
      "cell_type": "code",
      "source": [
        "duration = most_common('content_duration')\n",
        "plt.title('The course duration')\n",
        "plt.xlabel('content_duration')\n",
        "plt.ylabel('Total_Subscriptions')\n",
        "sns.histplot(x=udemy_df['content_duration'])\n"
      ],
      "metadata": {
        "colab": {
          "base_uri": "https://localhost:8080/",
          "height": 313
        },
        "id": "01k6TsMXXCVs",
        "outputId": "0fd99566-c32b-48ed-ffbd-991a0e39b855"
      },
      "execution_count": 202,
      "outputs": [
        {
          "output_type": "execute_result",
          "data": {
            "text/plain": [
              "<matplotlib.axes._subplots.AxesSubplot at 0x7fa0af55d220>"
            ]
          },
          "metadata": {},
          "execution_count": 202
        },
        {
          "output_type": "display_data",
          "data": {
            "text/plain": [
              "<Figure size 432x288 with 1 Axes>"
            ],
            "image/png": "[encoded data removed]"
          },
          "metadata": {
            "needs_background": "light"
          }
        }
      ]
    },
    {
      "cell_type": "code",
      "source": [
        "sns.pairplot(data=udemy_corr)\n",
        "plt.title('A PAIRPLOT FOR MY FEATURES')\n",
        "# For all the numeric features I created a pairplot "
      ],
      "metadata": {
        "colab": {
          "base_uri": "https://localhost:8080/",
          "height": 1000
        },
        "id": "3dERYnIzXiDL",
        "outputId": "dbbbb2ec-0599-4348-d2cd-984e21717492"
      },
      "execution_count": 203,
      "outputs": [
        {
          "output_type": "execute_result",
          "data": {
            "text/plain": [
              "Text(0.5, 1.0, 'A PAIRPLOT FOR MY FEATURES')"
            ]
          },
          "metadata": {},
          "execution_count": 203
        },
        {
          "output_type": "display_data",
          "data": {
            "text/plain": [
              "<Figure size 1260x1260 with 56 Axes>"
            ],
            "image/png": "[encoded data removed]"
          },
          "metadata": {
            "needs_background": "light"
          }
        }
      ]
    },
    {
      "cell_type": "code",
      "source": [
        "#Total Amount of money collected by Udemy\n",
        "total_money = udemy_df.groupby('price')\n",
        "total_money = udemy_df.groupby('price')['content_duration'].agg('count')\n",
        "sns.histplot(total_money)\n",
        "\n"
      ],
      "metadata": {
        "colab": {
          "base_uri": "https://localhost:8080/",
          "height": 297
        },
        "id": "oSlVtxU-Yi5u",
        "outputId": "a8b7bb65-f904-4250-9306-d08feabbb538"
      },
      "execution_count": 204,
      "outputs": [
        {
          "output_type": "execute_result",
          "data": {
            "text/plain": [
              "<matplotlib.axes._subplots.AxesSubplot at 0x7fa0b0d0dd30>"
            ]
          },
          "metadata": {},
          "execution_count": 204
        },
        {
          "output_type": "display_data",
          "data": {
            "text/plain": [
              "<Figure size 432x288 with 1 Axes>"
            ],
            "image/png": "[encoded data removed]"
          },
          "metadata": {
            "needs_background": "light"
          }
        }
      ]
    },
    {
      "cell_type": "code",
      "source": [
        "def final_plot(column):\n",
        "  \"\"\"Args: \n",
        "  column(str):The column that we seek to investigate how it generated revenue\n",
        "   I used  groupby from pandas and count function to total all occurences\"\"\"\n",
        "  total_money = udemy_df.groupby('price')[column].agg('count')\n",
        "  plt.title('How Money was generated by'+ \"\"+ column)\n",
        "  plt.ylabel('No of Subscription')\n",
        "  plt.xlabel('The {}'.format(column))\n",
        "  sns.histplot(total_money)"
      ],
      "metadata": {
        "id": "5PJ8w624bTJz"
      },
      "execution_count": 205,
      "outputs": []
    },
    {
      "cell_type": "code",
      "source": [
        "final_plot(column='num_subscribers')"
      ],
      "metadata": {
        "colab": {
          "base_uri": "https://localhost:8080/",
          "height": 296
        },
        "id": "dX0t5GR7bVhN",
        "outputId": "f53bbe89-e3bb-451b-97e9-651f3b41b012"
      },
      "execution_count": 206,
      "outputs": [
        {
          "output_type": "display_data",
          "data": {
            "text/plain": [
              "<Figure size 432x288 with 1 Axes>"
            ],
            "image/png": "[encoded data removed]"
          },
          "metadata": {
            "needs_background": "light"
          }
        }
      ]
    },
    {
      "cell_type": "code",
      "source": [
        "udemy_df.columns"
      ],
      "metadata": {
        "colab": {
          "base_uri": "https://localhost:8080/"
        },
        "id": "D3uB0A_Ffi_E",
        "outputId": "5c1efe4a-3c90-4561-a0e9-a19c32f8314d"
      },
      "execution_count": 207,
      "outputs": [
        {
          "output_type": "execute_result",
          "data": {
            "text/plain": [
              "Index(['course_id', 'course_title', 'url', 'is_paid', 'price',\n",
              "       'num_subscribers', 'num_reviews', 'num_lectures', 'level',\n",
              "       'content_duration', 'subject'],\n",
              "      dtype='object')"
            ]
          },
          "metadata": {},
          "execution_count": 207
        }
      ]
    },
    {
      "cell_type": "code",
      "source": [
        "udemy_df['is_paid'].value_counts()\n",
        "# there are only two values ,true and false\n"
      ],
      "metadata": {
        "colab": {
          "base_uri": "https://localhost:8080/"
        },
        "id": "NlerbEHqfpBI",
        "outputId": "dde4b1bf-8b12-4f67-abef-04b6612ad34a"
      },
      "execution_count": 208,
      "outputs": [
        {
          "output_type": "execute_result",
          "data": {
            "text/plain": [
              "True     3368\n",
              "False     310\n",
              "Name: is_paid, dtype: int64"
            ]
          },
          "metadata": {},
          "execution_count": 208
        }
      ]
    },
    {
      "cell_type": "code",
      "source": [
        "final_plot(column='num_lectures')\n",
        "#The more the number of lectures ,the less the subscriptions"
      ],
      "metadata": {
        "colab": {
          "base_uri": "https://localhost:8080/",
          "height": 296
        },
        "id": "araP2p2SdPzk",
        "outputId": "5f8b783e-fdeb-4826-d074-0a9108255953"
      },
      "execution_count": 209,
      "outputs": [
        {
          "output_type": "display_data",
          "data": {
            "text/plain": [
              "<Figure size 432x288 with 1 Axes>"
            ],
            "image/png": "[encoded data removed]"
          },
          "metadata": {
            "needs_background": "light"
          }
        }
      ]
    },
    {
      "cell_type": "code",
      "source": [
        "\n",
        "udemy_df.columns\n",
        "udemy_df.drop(['course_title'],axis=1,inplace=True)"
      ],
      "metadata": {
        "id": "h7tdSgybrnLw"
      },
      "execution_count": 218,
      "outputs": []
    },
    {
      "cell_type": "code",
      "source": [
        "X = udemy_df.drop(['price'],axis = 1)\n",
        "y = udemy_df['price']"
      ],
      "metadata": {
        "id": "-i9jPQPtsJ6r"
      },
      "execution_count": 220,
      "outputs": []
    },
    {
      "cell_type": "code",
      "source": [
        "from sklearn.model_selection import train_test_split\n",
        "X_train,X_test,y_train,y_test = train_test_split(X,y,test_size=0.2,random_state=42)"
      ],
      "metadata": {
        "id": "lUGPDKuvs_0-"
      },
      "execution_count": 221,
      "outputs": []
    },
    {
      "cell_type": "code",
      "source": [
        "from sklearn.linear_model import LinearRegression\n",
        "lin_model = LinearRegression()\n",
        "lin_model.fit(X_train,y_train)\n",
        "predictions = lin_model.predict(X_test)\n",
        "plt.scatter(y_test,predictions)"
      ],
      "metadata": {
        "colab": {
          "base_uri": "https://localhost:8080/",
          "height": 283
        },
        "id": "vPlOlZf8tZMT",
        "outputId": "f4303789-1a56-4254-c884-1e8f66271e79"
      },
      "execution_count": 222,
      "outputs": [
        {
          "output_type": "execute_result",
          "data": {
            "text/plain": [
              "<matplotlib.collections.PathCollection at 0x7fa0b46eb940>"
            ]
          },
          "metadata": {},
          "execution_count": 222
        },
        {
          "output_type": "display_data",
          "data": {
            "text/plain": [
              "<Figure size 432x288 with 1 Axes>"
            ],
            "image/png": "[encoded data removed]"
          },
          "metadata": {
            "needs_background": "light"
          }
        }
      ]
    },
    {
      "cell_type": "code",
      "source": [
        "\n",
        "# USING REGRESSION EVALUATION METRICS\n",
        "from sklearn.metrics import  mean_squared_error,mean_absolute_error\n",
        "from sklearn.metrics import  mean_squared_log_error\n",
        "print(f\"The Mean squared error is |{mean_squared_error(y_test,predictions)}\")\n",
        "print(f\"The Mean absolute error is |{mean_absolute_error(y_test,predictions)}\")\n",
        "print(f\"The Mean Loq Squared error is |{ mean_squared_log_error(y_test,predictions)}\")"
      ],
      "metadata": {
        "id": "dPUnaZKfuSKK"
      },
      "execution_count": null,
      "outputs": []
    }
  ]
}