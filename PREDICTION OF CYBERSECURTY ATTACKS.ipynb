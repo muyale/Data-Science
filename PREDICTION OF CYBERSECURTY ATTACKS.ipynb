{
 "cells": [
  {
   "cell_type": "code",
   "execution_count": 1,
   "id": "c208f5e5",
   "metadata": {},
   "outputs": [],
   "source": [
    "import pandas as pd\n",
    "import numpy as np\n",
    "import seaborn as sns\n",
    "import matplotlib.pyplot as plt\n",
    "from sklearn.preprocessing import LabelEncoder\n",
    "from sklearn.model_selection import train_test_split,GridSearchCV,RepeatedStratifiedKFold,cross_val_score\n",
    "from sklearn.ensemble import AdaBoostClassifier,RandomForestClassifier\n",
    "from sklearn.svm import SVC,LinearSVC\n",
    "from sklearn.naive_bayes import GaussianNB\n",
    "from sklearn.tree import DecisionTreeClassifier\n",
    "from sklearn.metrics import classification_report\n",
    "from sklearn.pipeline import make_pipeline\n",
    "from sklearn.neighbors import KNeighborsClassifier\n",
    "from matplotlib import pyplot\n",
    "from numpy import mean,std\n",
    "from sklearn.linear_model import LogisticRegression\n",
    "from sklearn.preprocessing import StandardScaler"
   ]
  },
  {
   "cell_type": "code",
   "execution_count": 2,
   "id": "9fb95c0d",
   "metadata": {},
   "outputs": [],
   "source": [
    "df = pd.read_excel(\"C:\\\\Datasets\\\\cybersec\\\\XSS Attack Dataset with 461 entries.xlsx\")"
   ]
  },
  {
   "cell_type": "code",
   "execution_count": 3,
   "id": "133aa33d",
   "metadata": {},
   "outputs": [
    {
     "data": {
      "text/html": [
       "<div>\n",
       "<style scoped>\n",
       "    .dataframe tbody tr th:only-of-type {\n",
       "        vertical-align: middle;\n",
       "    }\n",
       "\n",
       "    .dataframe tbody tr th {\n",
       "        vertical-align: top;\n",
       "    }\n",
       "\n",
       "    .dataframe thead th {\n",
       "        text-align: right;\n",
       "    }\n",
       "</style>\n",
       "<table border=\"1\" class=\"dataframe\">\n",
       "  <thead>\n",
       "    <tr style=\"text-align: right;\">\n",
       "      <th></th>\n",
       "      <th>App Names</th>\n",
       "      <th>Permissions</th>\n",
       "      <th>API Name</th>\n",
       "      <th>Website Name</th>\n",
       "      <th>IP</th>\n",
       "      <th>Location</th>\n",
       "      <th>Label</th>\n",
       "    </tr>\n",
       "  </thead>\n",
       "  <tbody>\n",
       "    <tr>\n",
       "      <th>0</th>\n",
       "      <td>XSSDetector</td>\n",
       "      <td>INTERNET,READ_CONTACTS,ACCESS_FINE_LOCATION,AC...</td>\n",
       "      <td>getDeviceId</td>\n",
       "      <td>http://www.5riversmarketing.com/</td>\n",
       "      <td>104.243.40.3</td>\n",
       "      <td>USA - Florida</td>\n",
       "      <td>Yes</td>\n",
       "    </tr>\n",
       "    <tr>\n",
       "      <th>1</th>\n",
       "      <td>Attackers 2</td>\n",
       "      <td>INTERNET,READ_CONTACTS,ACCESS_FINE_LOCATION,AC...</td>\n",
       "      <td>getSimSerialNumber</td>\n",
       "      <td>http://www.5riversmarketing.com/</td>\n",
       "      <td>104.243.40.3</td>\n",
       "      <td>USA - Florida</td>\n",
       "      <td>Yes</td>\n",
       "    </tr>\n",
       "    <tr>\n",
       "      <th>2</th>\n",
       "      <td>Attackers 3</td>\n",
       "      <td>INTERNET,ACCESS_FINE_LOCATION,ACCESS_COARSE_LO...</td>\n",
       "      <td>Not Sensitive</td>\n",
       "      <td>http://www.5riversmarketing.com/</td>\n",
       "      <td>104.243.40.3</td>\n",
       "      <td>USA - Florida</td>\n",
       "      <td>No</td>\n",
       "    </tr>\n",
       "    <tr>\n",
       "      <th>3</th>\n",
       "      <td>Attackers 4</td>\n",
       "      <td>INTERNET,READ_PHONE_STATE,SEND_SMS</td>\n",
       "      <td>Not Sensitive</td>\n",
       "      <td>http://demo2.5riversmarketing.com/</td>\n",
       "      <td>104.243.40.3</td>\n",
       "      <td>USA - Florida</td>\n",
       "      <td>No</td>\n",
       "    </tr>\n",
       "    <tr>\n",
       "      <th>4</th>\n",
       "      <td>Attackers 5</td>\n",
       "      <td>INTERNET,READ_CONTACTS,READ_PHONE_STATE</td>\n",
       "      <td>Not Sensitive</td>\n",
       "      <td>http://www.5riversmarketing.com/</td>\n",
       "      <td>104.243.40.3</td>\n",
       "      <td>USA - Florida</td>\n",
       "      <td>No</td>\n",
       "    </tr>\n",
       "  </tbody>\n",
       "</table>\n",
       "</div>"
      ],
      "text/plain": [
       "     App Names                                        Permissions  \\\n",
       "0  XSSDetector  INTERNET,READ_CONTACTS,ACCESS_FINE_LOCATION,AC...   \n",
       "1  Attackers 2  INTERNET,READ_CONTACTS,ACCESS_FINE_LOCATION,AC...   \n",
       "2  Attackers 3  INTERNET,ACCESS_FINE_LOCATION,ACCESS_COARSE_LO...   \n",
       "3  Attackers 4                 INTERNET,READ_PHONE_STATE,SEND_SMS   \n",
       "4  Attackers 5            INTERNET,READ_CONTACTS,READ_PHONE_STATE   \n",
       "\n",
       "             API Name                        Website Name            IP  \\\n",
       "0         getDeviceId    http://www.5riversmarketing.com/  104.243.40.3   \n",
       "1  getSimSerialNumber    http://www.5riversmarketing.com/  104.243.40.3   \n",
       "2       Not Sensitive    http://www.5riversmarketing.com/  104.243.40.3   \n",
       "3       Not Sensitive  http://demo2.5riversmarketing.com/  104.243.40.3   \n",
       "4       Not Sensitive    http://www.5riversmarketing.com/  104.243.40.3   \n",
       "\n",
       "        Location Label  \n",
       "0  USA - Florida   Yes  \n",
       "1  USA - Florida   Yes  \n",
       "2  USA - Florida    No  \n",
       "3  USA - Florida    No  \n",
       "4  USA - Florida    No  "
      ]
     },
     "execution_count": 3,
     "metadata": {},
     "output_type": "execute_result"
    }
   ],
   "source": [
    "df.head()"
   ]
  },
  {
   "cell_type": "code",
   "execution_count": 4,
   "id": "c5d22579",
   "metadata": {},
   "outputs": [
    {
     "data": {
      "text/plain": [
       "App Names       0\n",
       "Permissions     0\n",
       "API Name        0\n",
       "Website Name    0\n",
       "IP              0\n",
       "Location        0\n",
       "Label           0\n",
       "dtype: int64"
      ]
     },
     "execution_count": 4,
     "metadata": {},
     "output_type": "execute_result"
    }
   ],
   "source": [
    "df.isnull().sum()"
   ]
  },
  {
   "cell_type": "code",
   "execution_count": 5,
   "id": "e49f5bf1",
   "metadata": {},
   "outputs": [
    {
     "data": {
      "text/plain": [
       "(460, 7)"
      ]
     },
     "execution_count": 5,
     "metadata": {},
     "output_type": "execute_result"
    }
   ],
   "source": [
    "df.shape"
   ]
  },
  {
   "cell_type": "code",
   "execution_count": 6,
   "id": "89423bbf",
   "metadata": {},
   "outputs": [],
   "source": [
    "def how_many_unique(column,df =df):\n",
    "    # This function returns all the unique values in a column\n",
    "    # Also it lists the most frequent columns\n",
    "    print(f\"The total number of unique_values in {column}is {df[column].nunique()}\")\n",
    "    print(\"************************************************************************\")\n",
    "    print(f\"The most frequently appearing elements are {df[column].value_counts().head(10)}\")"
   ]
  },
  {
   "cell_type": "code",
   "execution_count": 7,
   "id": "6283c0fc",
   "metadata": {},
   "outputs": [
    {
     "name": "stdout",
     "output_type": "stream",
     "text": [
      "The total number of unique_values in App Namesis 460\n",
      "************************************************************************\n",
      "The most frequently appearing elements are XSSDetector             1\n",
      "Pussy Puzzle            1\n",
      "Og Mandino Scrolls      1\n",
      "Kinder Puzzlespiele     1\n",
      "Navaratri Navarang      1\n",
      "Akbar-Birbal Tales      1\n",
      "TouhouCirnoAlarm        1\n",
      "fünfzehn Gebete         1\n",
      "SudokuGame              1\n",
      "Marble Blast Crusher    1\n",
      "Name: App Names, dtype: int64\n",
      "The total number of unique_values in Permissionsis 27\n",
      "************************************************************************\n",
      "The most frequently appearing elements are BLUETOOTH,BLUETOOTH_ADMIN,BROADCAST_STICKY,CHANGE_NETWORK_STATE,CHANGE_WIFI_MULTICAST_STATE,CHANGE_WIFI_STATE                                                                     45\n",
      "ACCESS_LOCATION_EXTRA_COMMANDS,ACCESS_NETWORK_STATE,ACCESS_NOTIFICATION_POLICY,ACCESS_WIFI_STATE                                                                                  45\n",
      "ACCESS_LOCATION_EXTRA_COMMANDS,ACCESS_NETWORK_STATE,BLUETOOTH,BLUETOOTH_ADMIN                                                                                                     30\n",
      "RECEIVE_BOOT_COMPLETED,REORDER_TASKS,REQUEST_COMPANION_RUN_IN_BACKGROUND,REQUEST_COMPANION_USE_DATA_IN_BACKGROUND,REQUEST_DELETE_PACKAGES,REQUEST_IGNORE_BATTERY_OPTIMIZATIONS    27\n",
      "REQUEST_INSTALL_PACKAGES,SET_ALARM,SET_WALLPAPER                                                                                                                                  27\n",
      "NFC,READ_SYNC_SETTINGS,READ_SYNC_STATS                                                                                                                                            27\n",
      "KILL_BACKGROUND_PROCESSES,MANAGE_OWN_CALLS,MODIFY_AUDIO_SETTINGS                                                                                                                  27\n",
      "DISABLE_KEYGUARD,EXPAND_STATUS_BAR,GET_PACKAGE_SIZE,INSTALL_SHORTCUT,INTERNET                                                                                                     27\n",
      "SET_WALLPAPER_HINTS,TRANSMIT_IR,USE_FINGERPRINT,VIBRATE                                                                                                                           27\n",
      "WRITE_SYNC_SETTINGS,READ_CALENDAR,WRITE_CALENDAR,READ_CONTACTS                                                                                                                    27\n",
      "Name: Permissions, dtype: int64\n",
      "The total number of unique_values in API Nameis 39\n",
      "************************************************************************\n",
      "The most frequently appearing elements are Not Sensitive               230\n",
      "getSubscriberId               9\n",
      "getCellLocation               9\n",
      "getPhoneType                  9\n",
      "getLastKnownLocation          9\n",
      "sendMultipartTextMessage      9\n",
      "peekAuthToken                 8\n",
      "sendTextMessage               8\n",
      "getAllBookmarks               8\n",
      "getUngzippedContent           7\n",
      "Name: API Name, dtype: int64\n",
      "The total number of unique_values in Website Nameis 446\n",
      "************************************************************************\n",
      "The most frequently appearing elements are http://demo2.5riversmarketing.com/    8\n",
      "http://www.5riversmarketing.com/      6\n",
      "https://www.att.com/                  2\n",
      "https://bgp.he.net/                   2\n",
      "http://www.ackuntics.org/             1\n",
      "http://www.gungra.com/                1\n",
      "http://www.gnerps.org/                1\n",
      "http://www.gnetie.org/                1\n",
      "http://www.gnoreg.org/                1\n",
      "http://www.goalummin.net/             1\n",
      "Name: Website Name, dtype: int64\n",
      "The total number of unique_values in IPis 447\n",
      "************************************************************************\n",
      "The most frequently appearing elements are 104.243.40.3      14\n",
      "221.12.237.17      1\n",
      "76.88.82.52        1\n",
      "93.187.111.9       1\n",
      "21.45.224.163      1\n",
      "0.123.187.94       1\n",
      "202.68.206.221     1\n",
      "75.176.44.232      1\n",
      "123.130.169.7      1\n",
      "134.89.160.192     1\n",
      "Name: IP, dtype: int64\n",
      "The total number of unique_values in Locationis 163\n",
      "************************************************************************\n",
      "The most frequently appearing elements are United States    29\n",
      "Azerbaijan       14\n",
      "USA - Florida    14\n",
      "Brazil            6\n",
      "Japan             5\n",
      "France            4\n",
      "Uganda            4\n",
      "Ukraine           4\n",
      "Bhutan            4\n",
      "Bermuda           4\n",
      "Name: Location, dtype: int64\n",
      "The total number of unique_values in Labelis 2\n",
      "************************************************************************\n",
      "The most frequently appearing elements are Yes    230\n",
      "No     230\n",
      "Name: Label, dtype: int64\n"
     ]
    }
   ],
   "source": [
    "for column in df.columns:\n",
    "    how_many_unique(column)"
   ]
  },
  {
   "cell_type": "code",
   "execution_count": 8,
   "id": "7618e9b4",
   "metadata": {},
   "outputs": [
    {
     "data": {
      "text/plain": [
       "App Names       object\n",
       "Permissions     object\n",
       "API Name        object\n",
       "Website Name    object\n",
       "IP              object\n",
       "Location        object\n",
       "Label           object\n",
       "dtype: object"
      ]
     },
     "execution_count": 8,
     "metadata": {},
     "output_type": "execute_result"
    }
   ],
   "source": [
    "# To know the datatypes for all our columns\n",
    "df.dtypes"
   ]
  },
  {
   "cell_type": "code",
   "execution_count": 9,
   "id": "a01c4598",
   "metadata": {},
   "outputs": [
    {
     "name": "stdout",
     "output_type": "stream",
     "text": [
      "The total number of unique_values in App Namesis 460\n",
      "************************************************************************\n",
      "The most frequently appearing elements are XSSDetector             1\n",
      "Pussy Puzzle            1\n",
      "Og Mandino Scrolls      1\n",
      "Kinder Puzzlespiele     1\n",
      "Navaratri Navarang      1\n",
      "Akbar-Birbal Tales      1\n",
      "TouhouCirnoAlarm        1\n",
      "fünfzehn Gebete         1\n",
      "SudokuGame              1\n",
      "Marble Blast Crusher    1\n",
      "Name: App Names, dtype: int64\n"
     ]
    }
   ],
   "source": [
    "how_many_unique('App Names')"
   ]
  },
  {
   "cell_type": "code",
   "execution_count": 10,
   "id": "fcda8004",
   "metadata": {},
   "outputs": [
    {
     "name": "stdout",
     "output_type": "stream",
     "text": [
      "The total number of unique_values in Locationis 163\n",
      "************************************************************************\n",
      "The most frequently appearing elements are United States    29\n",
      "Azerbaijan       14\n",
      "USA - Florida    14\n",
      "Brazil            6\n",
      "Japan             5\n",
      "France            4\n",
      "Uganda            4\n",
      "Ukraine           4\n",
      "Bhutan            4\n",
      "Bermuda           4\n",
      "Name: Location, dtype: int64\n"
     ]
    }
   ],
   "source": [
    "how_many_unique('Location')"
   ]
  },
  {
   "cell_type": "code",
   "execution_count": 11,
   "id": "096dbcbe",
   "metadata": {},
   "outputs": [
    {
     "name": "stdout",
     "output_type": "stream",
     "text": [
      "The total number of unique_values in Labelis 2\n",
      "************************************************************************\n",
      "The most frequently appearing elements are Yes    230\n",
      "No     230\n",
      "Name: Label, dtype: int64\n"
     ]
    }
   ],
   "source": [
    "how_many_unique('Label')"
   ]
  },
  {
   "cell_type": "markdown",
   "id": "8a766dc7",
   "metadata": {},
   "source": [
    "# DATA EXPLORATION"
   ]
  },
  {
   "cell_type": "code",
   "execution_count": 12,
   "id": "f08ceb8f",
   "metadata": {},
   "outputs": [
    {
     "data": {
      "image/png": "[encoded data removed]",
      "text/plain": [
       "<Figure size 2000x800 with 1 Axes>"
      ]
     },
     "metadata": {},
     "output_type": "display_data"
    }
   ],
   "source": [
    "#How many hacks or no hacks\n",
    "fig = plt.figure(figsize=(20,8))\n",
    "sns.countplot(data=df,x='Label')\n",
    "plt.title('A countplot showing all the cyberattacks or none cyberattacks')\n",
    "plt.show()"
   ]
  },
  {
   "cell_type": "code",
   "execution_count": 13,
   "id": "af9516b9",
   "metadata": {},
   "outputs": [],
   "source": [
    "#df.hist(figsize=(15,8),color='black')\n",
    "#plt.title('General Histogram Plot')\n",
    "#plt.show()"
   ]
  },
  {
   "cell_type": "code",
   "execution_count": 14,
   "id": "8929534f",
   "metadata": {},
   "outputs": [
    {
     "data": {
      "text/plain": [
       "Index(['App Names', 'Permissions', 'API Name', 'Website Name', 'IP',\n",
       "       'Location', 'Label'],\n",
       "      dtype='object')"
      ]
     },
     "execution_count": 14,
     "metadata": {},
     "output_type": "execute_result"
    }
   ],
   "source": [
    "df.columns"
   ]
  },
  {
   "cell_type": "code",
   "execution_count": 15,
   "id": "c85b533b",
   "metadata": {},
   "outputs": [
    {
     "name": "stdout",
     "output_type": "stream",
     "text": [
      "The total number of unique_values in API Nameis 39\n",
      "************************************************************************\n",
      "The most frequently appearing elements are Not Sensitive               230\n",
      "getSubscriberId               9\n",
      "getCellLocation               9\n",
      "getPhoneType                  9\n",
      "getLastKnownLocation          9\n",
      "sendMultipartTextMessage      9\n",
      "peekAuthToken                 8\n",
      "sendTextMessage               8\n",
      "getAllBookmarks               8\n",
      "getUngzippedContent           7\n",
      "Name: API Name, dtype: int64\n"
     ]
    }
   ],
   "source": [
    "how_many_unique('API Name')"
   ]
  },
  {
   "cell_type": "code",
   "execution_count": 16,
   "id": "d45c05f7",
   "metadata": {},
   "outputs": [
    {
     "data": {
      "text/plain": [
       "Index(['App Names', 'Permissions', 'API Name', 'Website Name', 'IP',\n",
       "       'Location', 'Label'],\n",
       "      dtype='object')"
      ]
     },
     "execution_count": 16,
     "metadata": {},
     "output_type": "execute_result"
    }
   ],
   "source": [
    "df.columns"
   ]
  },
  {
   "cell_type": "code",
   "execution_count": 17,
   "id": "1a27e09e",
   "metadata": {},
   "outputs": [],
   "source": [
    "\n",
    "lbl_encoder ={}\n",
    "\"\"\"for column in df.columns:\n",
    "    lbl_encoder = LabelEncoder()\n",
    "    df[column] = lbl_encoder.fit_transform(df[column].values)\"\"\"\n",
    "\n",
    "for column in df.columns:\n",
    "    if df[column].dtype=='object': \n",
    "        lbl = LabelEncoder()\n",
    "        lbl.fit(list(df[column].values))\n",
    "        df[column] = lbl.transform(df[column].values)\n",
    "\n",
    "    "
   ]
  },
  {
   "cell_type": "code",
   "execution_count": 18,
   "id": "5afe403f",
   "metadata": {},
   "outputs": [
    {
     "data": {
      "text/plain": [
       "Index(['App Names', 'Permissions', 'API Name', 'Website Name', 'IP',\n",
       "       'Location', 'Label'],\n",
       "      dtype='object')"
      ]
     },
     "execution_count": 18,
     "metadata": {},
     "output_type": "execute_result"
    }
   ],
   "source": [
    "df.columns"
   ]
  },
  {
   "cell_type": "code",
   "execution_count": 19,
   "id": "1122ad08",
   "metadata": {},
   "outputs": [
    {
     "data": {
      "text/html": [
       "<div>\n",
       "<style scoped>\n",
       "    .dataframe tbody tr th:only-of-type {\n",
       "        vertical-align: middle;\n",
       "    }\n",
       "\n",
       "    .dataframe tbody tr th {\n",
       "        vertical-align: top;\n",
       "    }\n",
       "\n",
       "    .dataframe thead th {\n",
       "        text-align: right;\n",
       "    }\n",
       "</style>\n",
       "<table border=\"1\" class=\"dataframe\">\n",
       "  <thead>\n",
       "    <tr style=\"text-align: right;\">\n",
       "      <th></th>\n",
       "      <th>App Names</th>\n",
       "      <th>Permissions</th>\n",
       "      <th>API Name</th>\n",
       "      <th>Website Name</th>\n",
       "      <th>IP</th>\n",
       "      <th>Location</th>\n",
       "      <th>Label</th>\n",
       "    </tr>\n",
       "  </thead>\n",
       "  <tbody>\n",
       "    <tr>\n",
       "      <th>0</th>\n",
       "      <td>435</td>\n",
       "      <td>12</td>\n",
       "      <td>16</td>\n",
       "      <td>3</td>\n",
       "      <td>21</td>\n",
       "      <td>148</td>\n",
       "      <td>1</td>\n",
       "    </tr>\n",
       "    <tr>\n",
       "      <th>1</th>\n",
       "      <td>48</td>\n",
       "      <td>12</td>\n",
       "      <td>27</td>\n",
       "      <td>3</td>\n",
       "      <td>21</td>\n",
       "      <td>148</td>\n",
       "      <td>1</td>\n",
       "    </tr>\n",
       "    <tr>\n",
       "      <th>2</th>\n",
       "      <td>49</td>\n",
       "      <td>9</td>\n",
       "      <td>2</td>\n",
       "      <td>3</td>\n",
       "      <td>21</td>\n",
       "      <td>148</td>\n",
       "      <td>0</td>\n",
       "    </tr>\n",
       "    <tr>\n",
       "      <th>3</th>\n",
       "      <td>50</td>\n",
       "      <td>16</td>\n",
       "      <td>2</td>\n",
       "      <td>0</td>\n",
       "      <td>21</td>\n",
       "      <td>148</td>\n",
       "      <td>0</td>\n",
       "    </tr>\n",
       "    <tr>\n",
       "      <th>4</th>\n",
       "      <td>51</td>\n",
       "      <td>13</td>\n",
       "      <td>2</td>\n",
       "      <td>3</td>\n",
       "      <td>21</td>\n",
       "      <td>148</td>\n",
       "      <td>0</td>\n",
       "    </tr>\n",
       "  </tbody>\n",
       "</table>\n",
       "</div>"
      ],
      "text/plain": [
       "   App Names  Permissions  API Name  Website Name  IP  Location  Label\n",
       "0        435           12        16             3  21       148      1\n",
       "1         48           12        27             3  21       148      1\n",
       "2         49            9         2             3  21       148      0\n",
       "3         50           16         2             0  21       148      0\n",
       "4         51           13         2             3  21       148      0"
      ]
     },
     "execution_count": 19,
     "metadata": {},
     "output_type": "execute_result"
    }
   ],
   "source": [
    "df.head()"
   ]
  },
  {
   "cell_type": "code",
   "execution_count": 20,
   "id": "d0cedccf",
   "metadata": {},
   "outputs": [
    {
     "data": {
      "text/html": [
       "<div>\n",
       "<style scoped>\n",
       "    .dataframe tbody tr th:only-of-type {\n",
       "        vertical-align: middle;\n",
       "    }\n",
       "\n",
       "    .dataframe tbody tr th {\n",
       "        vertical-align: top;\n",
       "    }\n",
       "\n",
       "    .dataframe thead th {\n",
       "        text-align: right;\n",
       "    }\n",
       "</style>\n",
       "<table border=\"1\" class=\"dataframe\">\n",
       "  <thead>\n",
       "    <tr style=\"text-align: right;\">\n",
       "      <th></th>\n",
       "      <th>App Names</th>\n",
       "      <th>Permissions</th>\n",
       "      <th>API Name</th>\n",
       "      <th>Website Name</th>\n",
       "      <th>IP</th>\n",
       "      <th>Location</th>\n",
       "      <th>Label</th>\n",
       "    </tr>\n",
       "  </thead>\n",
       "  <tbody>\n",
       "    <tr>\n",
       "      <th>App Names</th>\n",
       "      <td>1.000000</td>\n",
       "      <td>0.023961</td>\n",
       "      <td>0.097236</td>\n",
       "      <td>0.017836</td>\n",
       "      <td>0.048948</td>\n",
       "      <td>0.046738</td>\n",
       "      <td>0.075896</td>\n",
       "    </tr>\n",
       "    <tr>\n",
       "      <th>Permissions</th>\n",
       "      <td>0.023961</td>\n",
       "      <td>1.000000</td>\n",
       "      <td>0.045226</td>\n",
       "      <td>0.012127</td>\n",
       "      <td>0.035366</td>\n",
       "      <td>0.024879</td>\n",
       "      <td>0.034151</td>\n",
       "    </tr>\n",
       "    <tr>\n",
       "      <th>API Name</th>\n",
       "      <td>0.097236</td>\n",
       "      <td>0.045226</td>\n",
       "      <td>1.000000</td>\n",
       "      <td>0.016415</td>\n",
       "      <td>0.060349</td>\n",
       "      <td>0.024126</td>\n",
       "      <td>0.777282</td>\n",
       "    </tr>\n",
       "    <tr>\n",
       "      <th>Website Name</th>\n",
       "      <td>0.017836</td>\n",
       "      <td>0.012127</td>\n",
       "      <td>0.016415</td>\n",
       "      <td>1.000000</td>\n",
       "      <td>0.216228</td>\n",
       "      <td>0.129913</td>\n",
       "      <td>0.029288</td>\n",
       "    </tr>\n",
       "    <tr>\n",
       "      <th>IP</th>\n",
       "      <td>0.048948</td>\n",
       "      <td>0.035366</td>\n",
       "      <td>0.060349</td>\n",
       "      <td>0.216228</td>\n",
       "      <td>1.000000</td>\n",
       "      <td>0.180090</td>\n",
       "      <td>0.015536</td>\n",
       "    </tr>\n",
       "    <tr>\n",
       "      <th>Location</th>\n",
       "      <td>0.046738</td>\n",
       "      <td>0.024879</td>\n",
       "      <td>0.024126</td>\n",
       "      <td>0.129913</td>\n",
       "      <td>0.180090</td>\n",
       "      <td>1.000000</td>\n",
       "      <td>0.020264</td>\n",
       "    </tr>\n",
       "    <tr>\n",
       "      <th>Label</th>\n",
       "      <td>0.075896</td>\n",
       "      <td>0.034151</td>\n",
       "      <td>0.777282</td>\n",
       "      <td>0.029288</td>\n",
       "      <td>0.015536</td>\n",
       "      <td>0.020264</td>\n",
       "      <td>1.000000</td>\n",
       "    </tr>\n",
       "  </tbody>\n",
       "</table>\n",
       "</div>"
      ],
      "text/plain": [
       "              App Names  Permissions  API Name  Website Name        IP  \\\n",
       "App Names      1.000000     0.023961  0.097236      0.017836  0.048948   \n",
       "Permissions    0.023961     1.000000  0.045226      0.012127  0.035366   \n",
       "API Name       0.097236     0.045226  1.000000      0.016415  0.060349   \n",
       "Website Name   0.017836     0.012127  0.016415      1.000000  0.216228   \n",
       "IP             0.048948     0.035366  0.060349      0.216228  1.000000   \n",
       "Location       0.046738     0.024879  0.024126      0.129913  0.180090   \n",
       "Label          0.075896     0.034151  0.777282      0.029288  0.015536   \n",
       "\n",
       "              Location     Label  \n",
       "App Names     0.046738  0.075896  \n",
       "Permissions   0.024879  0.034151  \n",
       "API Name      0.024126  0.777282  \n",
       "Website Name  0.129913  0.029288  \n",
       "IP            0.180090  0.015536  \n",
       "Location      1.000000  0.020264  \n",
       "Label         0.020264  1.000000  "
      ]
     },
     "execution_count": 20,
     "metadata": {},
     "output_type": "execute_result"
    }
   ],
   "source": [
    "df.corr().abs()"
   ]
  },
  {
   "cell_type": "code",
   "execution_count": 21,
   "id": "4ba91a87",
   "metadata": {},
   "outputs": [
    {
     "data": {
      "text/plain": [
       "App Names       int32\n",
       "Permissions     int32\n",
       "API Name        int32\n",
       "Website Name    int32\n",
       "IP              int32\n",
       "Location        int32\n",
       "Label           int32\n",
       "dtype: object"
      ]
     },
     "execution_count": 21,
     "metadata": {},
     "output_type": "execute_result"
    }
   ],
   "source": [
    "df.dtypes"
   ]
  },
  {
   "cell_type": "markdown",
   "id": "3c5f6ff0",
   "metadata": {},
   "source": [
    "# MACHINE LEARNING "
   ]
  },
  {
   "cell_type": "code",
   "execution_count": 30,
   "id": "84c2663f",
   "metadata": {},
   "outputs": [],
   "source": [
    "# I will first make a pipeline using SKLEARN ,then create a model dictionary which we will later access for evaluation\n",
    "# Using Stratifed Kfold validation I will then evaluate our models\n",
    "\n",
    "def get_models():\n",
    "    models = dict()\n",
    "    models['lr'] = make_pipeline(StandardScaler(),LogisticRegression())\n",
    "    models['knn'] = make_pipeline(StandardScaler(),KNeighborsClassifier())\n",
    "    #models['rfr'] = RandomForestClassifier()\n",
    "    models['dtr'] = DecisionTreeClassifier()\n",
    "    models['svm'] =make_pipeline(StandardScaler(),SVC())\n",
    "    #models['ada'] = make_pipeline(StandardScaler(),AdaBoostClassifier())\n",
    "    models['nB'] = make_pipeline(StandardScaler(),GaussianNB())\n",
    "    return models\n",
    "X = df.drop(['Label'],axis=1)\n",
    "y = df['Label']\n",
    "X_train,X_test,y_train,y_test = train_test_split(X,y,test_size=0.3,shuffle=True)"
   ]
  },
  {
   "cell_type": "code",
   "execution_count": 31,
   "id": "3a8cb7f0",
   "metadata": {},
   "outputs": [],
   "source": [
    "def evaluate(model,X,y):\n",
    "    cv = RepeatedStratifiedKFold(n_splits=10,n_repeats = 3)\n",
    "    scores = cross_val_score(model,X,y,scoring='accuracy',cv=cv,n_jobs=-1,error_score='raise')"
   ]
  },
  {
   "cell_type": "code",
   "execution_count": 32,
   "id": "df172647",
   "metadata": {},
   "outputs": [],
   "source": [
    "models = get_models()\n",
    "# evaluate the models and store results\n",
    "results, names = list(), list()\n",
    "for name, model in models.items():\n",
    "\tscores = evaluate(model, X, y)\n",
    "\tresults.append(scores)\n",
    "\tnames.append(name)\n",
    "try:\n",
    "    print('>%s %.3f (%.3f)' % (name, mean(scores), std(scores)))\n",
    "except :\n",
    "        TypeError"
   ]
  },
  {
   "cell_type": "raw",
   "id": "e725918c",
   "metadata": {},
   "source": [
    "models = get_models()\n",
    "results,names = list(),list()\n",
    "for name ,model in models.items():\n",
    "    scores = evaluate(model,X,y)\n",
    "    #print(f\"The mean scores are {scores}\")\n",
    "    results.append(scores)\n",
    "    names.append(names)\n",
    "    print(f\"For this model |{name}The mean was |{np.mean(scores)}the standard deviation was |{np.std(scores)}\")"
   ]
  },
  {
   "cell_type": "code",
   "execution_count": 33,
   "id": "db74df61",
   "metadata": {},
   "outputs": [],
   "source": [
    "#pyplot.boxplot(results,labels=names,showmeans=True)"
   ]
  },
  {
   "cell_type": "code",
   "execution_count": 34,
   "id": "2ce39ce6",
   "metadata": {},
   "outputs": [],
   "source": [
    "from sklearn.naive_bayes import MultinomialNB"
   ]
  },
  {
   "cell_type": "code",
   "execution_count": 35,
   "id": "ff635e2b",
   "metadata": {},
   "outputs": [
    {
     "name": "stdout",
     "output_type": "stream",
     "text": [
      "Classification Report :              precision    recall  f1-score   support\n",
      "\n",
      "           0       0.72      0.68      0.70        68\n",
      "           1       0.70      0.74      0.72        70\n",
      "\n",
      "    accuracy                           0.71       138\n",
      "   macro avg       0.71      0.71      0.71       138\n",
      "weighted avg       0.71      0.71      0.71       138\n",
      "\n"
     ]
    }
   ],
   "source": [
    "nb = MultinomialNB()\n",
    "nb.fit(X_train,y_train)\n",
    "predictions = nb.predict(X_test)\n",
    "print(f\"Classification Report :{classification_report(y_test,predictions)}\")"
   ]
  },
  {
   "cell_type": "code",
   "execution_count": 37,
   "id": "56dea6db",
   "metadata": {},
   "outputs": [
    {
     "name": "stdout",
     "output_type": "stream",
     "text": [
      "Classification Report :              precision    recall  f1-score   support\n",
      "\n",
      "           0       0.96      1.00      0.98        68\n",
      "           1       1.00      0.96      0.98        70\n",
      "\n",
      "    accuracy                           0.98       138\n",
      "   macro avg       0.98      0.98      0.98       138\n",
      "weighted avg       0.98      0.98      0.98       138\n",
      "\n"
     ]
    }
   ],
   "source": [
    "log_reg = LogisticRegression()\n",
    "log_reg.fit(X_train,y_train)\n",
    "log_predictions = log_reg.predict(X_test)\n",
    "print(f\"Classification Report :{classification_report(y_test,log_predictions)}\")"
   ]
  },
  {
   "cell_type": "code",
   "execution_count": 39,
   "id": "6230ea0c",
   "metadata": {},
   "outputs": [
    {
     "name": "stdout",
     "output_type": "stream",
     "text": [
      "Classification report               precision    recall  f1-score   support\n",
      "\n",
      "           0       0.89      1.00      0.94        68\n",
      "           1       1.00      0.89      0.94        70\n",
      "\n",
      "    accuracy                           0.94       138\n",
      "   macro avg       0.95      0.94      0.94       138\n",
      "weighted avg       0.95      0.94      0.94       138\n",
      "\n"
     ]
    },
    {
     "name": "stderr",
     "output_type": "stream",
     "text": [
      "C:\\Users\\EDGAR MUYALE DAVIES\\anaconda3\\Anaconda\\lib\\site-packages\\sklearn\\svm\\_base.py:1206: ConvergenceWarning: Liblinear failed to converge, increase the number of iterations.\n",
      "  warnings.warn(\n"
     ]
    }
   ],
   "source": [
    "svc = LinearSVC()\n",
    "svc.fit(X_train,y_train)\n",
    "sv_predictions = svc.predict(X_test)\n",
    "print(f\"Classification report {classification_report(y_test,sv_predictions)}\")"
   ]
  },
  {
   "cell_type": "code",
   "execution_count": 56,
   "id": "9dd1479c",
   "metadata": {},
   "outputs": [],
   "source": [
    "my_models = {}\n",
    "my_models['mnb'] = MultinomialNB()\n",
    "my_models['log']= LogisticRegression()\n",
    "my_models['lsv'] = LinearSVC()\n"
   ]
  },
  {
   "cell_type": "code",
   "execution_count": 57,
   "id": "16655f30",
   "metadata": {},
   "outputs": [
    {
     "data": {
      "text/plain": [
       "dict_keys(['mnb', 'log', 'lsv'])"
      ]
     },
     "execution_count": 57,
     "metadata": {},
     "output_type": "execute_result"
    }
   ],
   "source": [
    "my_models.keys()"
   ]
  },
  {
   "cell_type": "code",
   "execution_count": null,
   "id": "4c026cad",
   "metadata": {},
   "outputs": [],
   "source": []
  },
  {
   "cell_type": "code",
   "execution_count": null,
   "id": "c6cad6e9",
   "metadata": {},
   "outputs": [],
   "source": []
  }
 ],
 "metadata": {
  "kernelspec": {
   "display_name": "Python 3 (ipykernel)",
   "language": "python",
   "name": "python3"
  },
  "language_info": {
   "codemirror_mode": {
    "name": "ipython",
    "version": 3
   },
   "file_extension": ".py",
   "mimetype": "text/x-python",
   "name": "python",
   "nbconvert_exporter": "python",
   "pygments_lexer": "ipython3",
   "version": "3.9.13"
  }
 },
 "nbformat": 4,
 "nbformat_minor": 5
}
