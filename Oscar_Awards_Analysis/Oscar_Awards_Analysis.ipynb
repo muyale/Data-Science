{
 "cells": [
  {
   "cell_type": "code",
   "execution_count": 3,
   "id": "86a7a6f1",
   "metadata": {},
   "outputs": [
    {
     "name": "stderr",
     "output_type": "stream",
     "text": [
      "UsageError: Line magic function `%matplotib` not found.\n"
     ]
    }
   ],
   "source": [
    "import pandas as pd\n",
    "import numpy  as np\n",
    "import seaborn as sns\n",
    "import matplotlib.pyplot as plt\n",
    "%matplotib inline"
   ]
  },
  {
   "cell_type": "code",
   "execution_count": 4,
   "id": "dbd9e9c7",
   "metadata": {},
   "outputs": [
    {
     "data": {
      "text/html": [
       "<div>\n",
       "<style scoped>\n",
       "    .dataframe tbody tr th:only-of-type {\n",
       "        vertical-align: middle;\n",
       "    }\n",
       "\n",
       "    .dataframe tbody tr th {\n",
       "        vertical-align: top;\n",
       "    }\n",
       "\n",
       "    .dataframe thead th {\n",
       "        text-align: right;\n",
       "    }\n",
       "</style>\n",
       "<table border=\"1\" class=\"dataframe\">\n",
       "  <thead>\n",
       "    <tr style=\"text-align: right;\">\n",
       "      <th></th>\n",
       "      <th>year_film</th>\n",
       "      <th>year_ceremony</th>\n",
       "      <th>ceremony</th>\n",
       "      <th>category</th>\n",
       "      <th>name</th>\n",
       "      <th>film</th>\n",
       "      <th>winner</th>\n",
       "    </tr>\n",
       "  </thead>\n",
       "  <tbody>\n",
       "    <tr>\n",
       "      <th>0</th>\n",
       "      <td>1927</td>\n",
       "      <td>1928</td>\n",
       "      <td>1</td>\n",
       "      <td>ACTOR</td>\n",
       "      <td>Richard Barthelmess</td>\n",
       "      <td>The Noose</td>\n",
       "      <td>False</td>\n",
       "    </tr>\n",
       "    <tr>\n",
       "      <th>1</th>\n",
       "      <td>1927</td>\n",
       "      <td>1928</td>\n",
       "      <td>1</td>\n",
       "      <td>ACTOR</td>\n",
       "      <td>Emil Jannings</td>\n",
       "      <td>The Last Command</td>\n",
       "      <td>True</td>\n",
       "    </tr>\n",
       "    <tr>\n",
       "      <th>2</th>\n",
       "      <td>1927</td>\n",
       "      <td>1928</td>\n",
       "      <td>1</td>\n",
       "      <td>ACTRESS</td>\n",
       "      <td>Louise Dresser</td>\n",
       "      <td>A Ship Comes In</td>\n",
       "      <td>False</td>\n",
       "    </tr>\n",
       "    <tr>\n",
       "      <th>3</th>\n",
       "      <td>1927</td>\n",
       "      <td>1928</td>\n",
       "      <td>1</td>\n",
       "      <td>ACTRESS</td>\n",
       "      <td>Janet Gaynor</td>\n",
       "      <td>7th Heaven</td>\n",
       "      <td>True</td>\n",
       "    </tr>\n",
       "    <tr>\n",
       "      <th>4</th>\n",
       "      <td>1927</td>\n",
       "      <td>1928</td>\n",
       "      <td>1</td>\n",
       "      <td>ACTRESS</td>\n",
       "      <td>Gloria Swanson</td>\n",
       "      <td>Sadie Thompson</td>\n",
       "      <td>False</td>\n",
       "    </tr>\n",
       "  </tbody>\n",
       "</table>\n",
       "</div>"
      ],
      "text/plain": [
       "   year_film  year_ceremony  ceremony category                 name  \\\n",
       "0       1927           1928         1    ACTOR  Richard Barthelmess   \n",
       "1       1927           1928         1    ACTOR        Emil Jannings   \n",
       "2       1927           1928         1  ACTRESS       Louise Dresser   \n",
       "3       1927           1928         1  ACTRESS         Janet Gaynor   \n",
       "4       1927           1928         1  ACTRESS       Gloria Swanson   \n",
       "\n",
       "               film  winner  \n",
       "0         The Noose   False  \n",
       "1  The Last Command    True  \n",
       "2   A Ship Comes In   False  \n",
       "3        7th Heaven    True  \n",
       "4    Sadie Thompson   False  "
      ]
     },
     "execution_count": 4,
     "metadata": {},
     "output_type": "execute_result"
    }
   ],
   "source": [
    "df = pd.read_csv(\"C:\\\\Datasets\\\\oscars\\\\the_oscar_award.csv\")\n",
    "df.head()"
   ]
  },
  {
   "cell_type": "code",
   "execution_count": 5,
   "id": "95c8d625",
   "metadata": {},
   "outputs": [
    {
     "data": {
      "text/plain": [
       "year_film          0\n",
       "year_ceremony      0\n",
       "ceremony           0\n",
       "category           0\n",
       "name               0\n",
       "film             304\n",
       "winner             0\n",
       "dtype: int64"
      ]
     },
     "execution_count": 5,
     "metadata": {},
     "output_type": "execute_result"
    }
   ],
   "source": [
    "df.isnull().sum()"
   ]
  },
  {
   "cell_type": "code",
   "execution_count": 6,
   "id": "7736036d",
   "metadata": {},
   "outputs": [],
   "source": [
    "df['film']=df['film'].fillna('Undefined')"
   ]
  },
  {
   "cell_type": "code",
   "execution_count": 7,
   "id": "67479e79",
   "metadata": {},
   "outputs": [
    {
     "data": {
      "text/plain": [
       "(10395, 7)"
      ]
     },
     "execution_count": 7,
     "metadata": {},
     "output_type": "execute_result"
    }
   ],
   "source": [
    "df.shape"
   ]
  },
  {
   "cell_type": "code",
   "execution_count": 8,
   "id": "022b2f44",
   "metadata": {},
   "outputs": [],
   "source": [
    "# Who has appeared shortlisted for the oscar award\n",
    "def most_appearing(column,df=df):\n",
    "    print(df[column].value_counts().head(10))"
   ]
  },
  {
   "cell_type": "code",
   "execution_count": 9,
   "id": "576b7a16",
   "metadata": {},
   "outputs": [
    {
     "name": "stdout",
     "output_type": "stream",
     "text": [
      "Metro-Goldwyn-Mayer      64\n",
      "Walt Disney, Producer    59\n",
      "John Williams            44\n",
      "Warner Bros.             43\n",
      "France                   37\n",
      "Alfred Newman            34\n",
      "Italy                    27\n",
      "Paramount                25\n",
      "Edith Head               22\n",
      "RKO Radio                22\n",
      "Name: name, dtype: int64\n"
     ]
    }
   ],
   "source": [
    "most_appearing(\"name\")"
   ]
  },
  {
   "cell_type": "code",
   "execution_count": 19,
   "id": "a9b3dda2",
   "metadata": {},
   "outputs": [
    {
     "data": {
      "text/plain": [
       "Text(0.5, 1.0, 'Most Appearing Nominations for the oscars')"
      ]
     },
     "execution_count": 19,
     "metadata": {},
     "output_type": "execute_result"
    },
    {
     "data": {
      "image/png": "[encoded data removed]",
      "text/plain": [
       "<Figure size 640x480 with 1 Axes>"
      ]
     },
     "metadata": {},
     "output_type": "display_data"
    }
   ],
   "source": [
    "listed = [64,59,44,43,37,34,27,25,22,22]\n",
    "labels = ('MGM','Walt-Disney','John_Williams','Warner Bros','France','Alfred Newman','Italy','Paramount','Edith Head','Rko radio')\n",
    "plt.pie(x=listed,labels=labels)\n",
    "plt.title('Most Appearing Nominations for the oscars')"
   ]
  },
  {
   "cell_type": "code",
   "execution_count": 20,
   "id": "4b59f24d",
   "metadata": {},
   "outputs": [
    {
     "data": {
      "text/html": [
       "<div>\n",
       "<style scoped>\n",
       "    .dataframe tbody tr th:only-of-type {\n",
       "        vertical-align: middle;\n",
       "    }\n",
       "\n",
       "    .dataframe tbody tr th {\n",
       "        vertical-align: top;\n",
       "    }\n",
       "\n",
       "    .dataframe thead th {\n",
       "        text-align: right;\n",
       "    }\n",
       "</style>\n",
       "<table border=\"1\" class=\"dataframe\">\n",
       "  <thead>\n",
       "    <tr style=\"text-align: right;\">\n",
       "      <th></th>\n",
       "      <th>year_film</th>\n",
       "      <th>year_ceremony</th>\n",
       "      <th>ceremony</th>\n",
       "      <th>category</th>\n",
       "      <th>name</th>\n",
       "      <th>film</th>\n",
       "      <th>winner</th>\n",
       "    </tr>\n",
       "  </thead>\n",
       "  <tbody>\n",
       "    <tr>\n",
       "      <th>0</th>\n",
       "      <td>1927</td>\n",
       "      <td>1928</td>\n",
       "      <td>1</td>\n",
       "      <td>ACTOR</td>\n",
       "      <td>Richard Barthelmess</td>\n",
       "      <td>The Noose</td>\n",
       "      <td>False</td>\n",
       "    </tr>\n",
       "    <tr>\n",
       "      <th>1</th>\n",
       "      <td>1927</td>\n",
       "      <td>1928</td>\n",
       "      <td>1</td>\n",
       "      <td>ACTOR</td>\n",
       "      <td>Emil Jannings</td>\n",
       "      <td>The Last Command</td>\n",
       "      <td>True</td>\n",
       "    </tr>\n",
       "    <tr>\n",
       "      <th>2</th>\n",
       "      <td>1927</td>\n",
       "      <td>1928</td>\n",
       "      <td>1</td>\n",
       "      <td>ACTRESS</td>\n",
       "      <td>Louise Dresser</td>\n",
       "      <td>A Ship Comes In</td>\n",
       "      <td>False</td>\n",
       "    </tr>\n",
       "    <tr>\n",
       "      <th>3</th>\n",
       "      <td>1927</td>\n",
       "      <td>1928</td>\n",
       "      <td>1</td>\n",
       "      <td>ACTRESS</td>\n",
       "      <td>Janet Gaynor</td>\n",
       "      <td>7th Heaven</td>\n",
       "      <td>True</td>\n",
       "    </tr>\n",
       "    <tr>\n",
       "      <th>4</th>\n",
       "      <td>1927</td>\n",
       "      <td>1928</td>\n",
       "      <td>1</td>\n",
       "      <td>ACTRESS</td>\n",
       "      <td>Gloria Swanson</td>\n",
       "      <td>Sadie Thompson</td>\n",
       "      <td>False</td>\n",
       "    </tr>\n",
       "  </tbody>\n",
       "</table>\n",
       "</div>"
      ],
      "text/plain": [
       "   year_film  year_ceremony  ceremony category                 name  \\\n",
       "0       1927           1928         1    ACTOR  Richard Barthelmess   \n",
       "1       1927           1928         1    ACTOR        Emil Jannings   \n",
       "2       1927           1928         1  ACTRESS       Louise Dresser   \n",
       "3       1927           1928         1  ACTRESS         Janet Gaynor   \n",
       "4       1927           1928         1  ACTRESS       Gloria Swanson   \n",
       "\n",
       "               film  winner  \n",
       "0         The Noose   False  \n",
       "1  The Last Command    True  \n",
       "2   A Ship Comes In   False  \n",
       "3        7th Heaven    True  \n",
       "4    Sadie Thompson   False  "
      ]
     },
     "execution_count": 20,
     "metadata": {},
     "output_type": "execute_result"
    }
   ],
   "source": [
    "df.head()"
   ]
  },
  {
   "cell_type": "code",
   "execution_count": 35,
   "id": "4446f13e",
   "metadata": {},
   "outputs": [
    {
     "data": {
      "text/plain": [
       "False    8038\n",
       "True     2357\n",
       "Name: winner, dtype: int64"
      ]
     },
     "execution_count": 35,
     "metadata": {},
     "output_type": "execute_result"
    }
   ],
   "source": [
    "df.winner.value_counts().head()"
   ]
  },
  {
   "cell_type": "code",
   "execution_count": 46,
   "id": "d61f547d",
   "metadata": {},
   "outputs": [],
   "source": [
    "df.drop(['year_film'],axis=1,inplace=True)"
   ]
  },
  {
   "cell_type": "code",
   "execution_count": 47,
   "id": "a6a37abf",
   "metadata": {},
   "outputs": [
    {
     "data": {
      "text/plain": [
       "year_ceremony  ceremony  category  name          film            winner\n",
       "1928           1         ACTRESS   Janet Gaynor  7th Heaven      True      1\n",
       "1938           10        ACTRESS   Janet Gaynor  A Star Is Born  False     1\n",
       "dtype: int64"
      ]
     },
     "execution_count": 47,
     "metadata": {},
     "output_type": "execute_result"
    }
   ],
   "source": [
    "df[df['name']=='Janet Gaynor'].value_counts()"
   ]
  },
  {
   "cell_type": "code",
   "execution_count": 72,
   "id": "4be83fca",
   "metadata": {},
   "outputs": [],
   "source": [
    "def actor_nomination_status(name,actor,df=df):\n",
    "    \"\"\"This function takes in an actor/actress name  and checks for nomination and if they won\n",
    "    Args: \n",
    "    name(str): this is the column of all the actor/actress\n",
    "    actor: This is the actor we intend to study\n",
    "    \n",
    "    \"\"\"\n",
    "    print(df[df[name]==actor].value_counts().head(10))"
   ]
  },
  {
   "cell_type": "code",
   "execution_count": 73,
   "id": "2cc6f20b",
   "metadata": {},
   "outputs": [
    {
     "name": "stdout",
     "output_type": "stream",
     "text": [
      "year_ceremony  ceremony  category  name            film            winner\n",
      "1928           1         ACTRESS   Gloria Swanson  Sadie Thompson  False     1\n",
      "1930           3         ACTRESS   Gloria Swanson  The Trespasser  False     1\n",
      "1951           23        ACTRESS   Gloria Swanson  Sunset Blvd.    False     1\n",
      "dtype: int64\n"
     ]
    }
   ],
   "source": [
    "actor_nomination_status('name','Gloria Swanson')"
   ]
  },
  {
   "cell_type": "code",
   "execution_count": 77,
   "id": "ba22d0b0",
   "metadata": {},
   "outputs": [
    {
     "name": "stdout",
     "output_type": "stream",
     "text": [
      "year_ceremony  ceremony  category  name           film              winner\n",
      "1928           1         ACTOR     Emil Jannings  The Last Command  True      1\n",
      "dtype: int64\n"
     ]
    }
   ],
   "source": [
    "actor_nomination_status('name','Emil Jannings')"
   ]
  },
  {
   "cell_type": "code",
   "execution_count": 79,
   "id": "d33771da",
   "metadata": {},
   "outputs": [
    {
     "name": "stdout",
     "output_type": "stream",
     "text": [
      "year_ceremony  ceremony  category                    name       film                                 winner\n",
      "1996           68        ACTOR IN A SUPPORTING ROLE  Brad Pitt  12 Monkeys                           False     1\n",
      "2009           81        ACTOR IN A LEADING ROLE     Brad Pitt  The Curious Case of Benjamin Button  False     1\n",
      "2012           84        ACTOR IN A LEADING ROLE     Brad Pitt  Moneyball                            False     1\n",
      "2020           92        ACTOR IN A SUPPORTING ROLE  Brad Pitt  Once upon a Time...in Hollywood      True      1\n",
      "dtype: int64\n"
     ]
    }
   ],
   "source": [
    "actor_nomination_status('name','Brad Pitt')\n",
    "# Checking on Brad Pit career\n",
    "#He won in 1996,and 2020 ,everytime he was  in a supporting role"
   ]
  },
  {
   "cell_type": "code",
   "execution_count": 81,
   "id": "56f8d4d6",
   "metadata": {},
   "outputs": [
    {
     "name": "stdout",
     "output_type": "stream",
     "text": [
      "year_ceremony  ceremony  category                      name         film      winner\n",
      "2009           81        ACTRESS IN A SUPPORTING ROLE  Viola Davis  Doubt     False     1\n",
      "2012           84        ACTRESS IN A LEADING ROLE     Viola Davis  The Help  False     1\n",
      "2017           89        ACTRESS IN A SUPPORTING ROLE  Viola Davis  Fences    True      1\n",
      "dtype: int64\n"
     ]
    }
   ],
   "source": [
    "# Viola Davis\n",
    "actor_nomination_status('name','Viola Davis')\n",
    "#sHE WON IN 2017 in the film Fences and she had a Supporting Role"
   ]
  },
  {
   "cell_type": "code",
   "execution_count": 85,
   "id": "74530b69",
   "metadata": {},
   "outputs": [
    {
     "name": "stdout",
     "output_type": "stream",
     "text": [
      "year_ceremony  ceremony  category                      name        film                                             winner\n",
      "2015           87        ACTRESS IN A SUPPORTING ROLE  Emma Stone  Birdman or (The Unexpected Virtue of Ignorance)  False     1\n",
      "2017           89        ACTRESS IN A LEADING ROLE     Emma Stone  La La Land                                       True      1\n",
      "2019           91        ACTRESS IN A SUPPORTING ROLE  Emma Stone  The Favourite                                    False     1\n",
      "dtype: int64\n"
     ]
    }
   ],
   "source": [
    "actor_nomination_status('name','Emma Stone')\n",
    "# She won in 2017 in her film Lala Land ,this time as a leading role"
   ]
  },
  {
   "cell_type": "code",
   "execution_count": 90,
   "id": "0b985b06",
   "metadata": {},
   "outputs": [
    {
     "name": "stdout",
     "output_type": "stream",
     "text": [
      "year_ceremony  ceremony  category                    name            film                      winner\n",
      "1988           60        ACTOR IN A SUPPORTING ROLE  Morgan Freeman  Street Smart              False     1\n",
      "1990           62        ACTOR IN A LEADING ROLE     Morgan Freeman  Driving Miss Daisy        False     1\n",
      "1995           67        ACTOR IN A LEADING ROLE     Morgan Freeman  The Shawshank Redemption  False     1\n",
      "2005           77        ACTOR IN A SUPPORTING ROLE  Morgan Freeman  Million Dollar Baby       True      1\n",
      "2010           82        ACTOR IN A LEADING ROLE     Morgan Freeman  Invictus                  False     1\n",
      "dtype: int64\n"
     ]
    }
   ],
   "source": [
    "actor_nomination_status('name','Morgan Freeman')\n",
    "# Freeman has been nominated 5 times,won once in 2010 in film Invictus"
   ]
  },
  {
   "cell_type": "code",
   "execution_count": 100,
   "id": "62eaa82d",
   "metadata": {},
   "outputs": [
    {
     "name": "stdout",
     "output_type": "stream",
     "text": [
      "year_ceremony  ceremony  category                    name            film                     winner\n",
      "2013           85        ACTOR IN A LEADING ROLE     Bradley Cooper  Silver Linings Playbook  False     1\n",
      "2014           86        ACTOR IN A SUPPORTING ROLE  Bradley Cooper  American Hustle          False     1\n",
      "2015           87        ACTOR IN A LEADING ROLE     Bradley Cooper  American Sniper          False     1\n",
      "2019           91        ACTOR IN A LEADING ROLE     Bradley Cooper  A Star Is Born           False     1\n",
      "dtype: int64\n"
     ]
    }
   ],
   "source": [
    "actor_nomination_status('name','Bradley Cooper')\n",
    "#He has never won an oscar despite being nominated 4 times"
   ]
  },
  {
   "cell_type": "code",
   "execution_count": 101,
   "id": "259275f7",
   "metadata": {},
   "outputs": [
    {
     "name": "stdout",
     "output_type": "stream",
     "text": [
      "year_ceremony  ceremony  category                      name               film                     winner\n",
      "2011           83        ACTRESS IN A LEADING ROLE     Jennifer Lawrence  Winter's Bone            False     1\n",
      "2013           85        ACTRESS IN A LEADING ROLE     Jennifer Lawrence  Silver Linings Playbook  True      1\n",
      "2014           86        ACTRESS IN A SUPPORTING ROLE  Jennifer Lawrence  American Hustle          False     1\n",
      "2016           88        ACTRESS IN A LEADING ROLE     Jennifer Lawrence  Joy                      False     1\n",
      "dtype: int64\n"
     ]
    }
   ],
   "source": [
    "actor_nomination_status('name','Jennifer Lawrence')\n",
    "#SHE  HAS WON 1 OSCAR IN 2011"
   ]
  },
  {
   "cell_type": "code",
   "execution_count": 102,
   "id": "23cdbe4f",
   "metadata": {},
   "outputs": [
    {
     "data": {
      "text/plain": [
       "False    176\n",
       "True      44\n",
       "Name: winner, dtype: int64"
      ]
     },
     "execution_count": 102,
     "metadata": {},
     "output_type": "execute_result"
    }
   ],
   "source": [
    "df[df['category']=='ACTRESS IN A LEADING ROLE']['winner'].value_counts()"
   ]
  },
  {
   "cell_type": "code",
   "execution_count": 107,
   "id": "29a804ce",
   "metadata": {},
   "outputs": [
    {
     "data": {
      "text/plain": [
       "False    336\n",
       "True      84\n",
       "Name: winner, dtype: int64"
      ]
     },
     "execution_count": 107,
     "metadata": {},
     "output_type": "execute_result"
    }
   ],
   "source": [
    "df[df['category']=='ACTRESS IN A SUPPORTING ROLE']['winner'].value_counts()"
   ]
  },
  {
   "cell_type": "code",
   "execution_count": 104,
   "id": "e5fea4dd",
   "metadata": {},
   "outputs": [
    {
     "data": {
      "text/plain": [
       "False    176\n",
       "True      44\n",
       "Name: winner, dtype: int64"
      ]
     },
     "execution_count": 104,
     "metadata": {},
     "output_type": "execute_result"
    }
   ],
   "source": [
    "df[df['category']=='ACTOR IN A LEADING ROLE']['winner'].value_counts()"
   ]
  },
  {
   "cell_type": "code",
   "execution_count": 135,
   "id": "ff7f8ee0",
   "metadata": {},
   "outputs": [
    {
     "data": {
      "text/plain": [
       "False    336\n",
       "True      84\n",
       "Name: winner, dtype: int64"
      ]
     },
     "execution_count": 135,
     "metadata": {},
     "output_type": "execute_result"
    }
   ],
   "source": [
    "df[df['category']=='ACTOR IN A SUPPORTING ROLE']['winner'].value_counts()"
   ]
  },
  {
   "cell_type": "code",
   "execution_count": 143,
   "id": "79cefa75",
   "metadata": {},
   "outputs": [],
   "source": [
    "def cross_analysis(category,major_category,winner,df=df):\n",
    "    print(df[df[category]== major_category][winner].value_counts())"
   ]
  },
  {
   "cell_type": "code",
   "execution_count": 145,
   "id": "a97f5d41",
   "metadata": {},
   "outputs": [
    {
     "name": "stdout",
     "output_type": "stream",
     "text": [
      "False    358\n",
      "True      91\n",
      "Name: winner, dtype: int64\n"
     ]
    }
   ],
   "source": [
    "cross_analysis('category','DIRECTING','winner')"
   ]
  },
  {
   "cell_type": "code",
   "execution_count": 146,
   "id": "f5b40bb4",
   "metadata": {},
   "outputs": [
    {
     "name": "stdout",
     "output_type": "stream",
     "text": [
      "False    258\n",
      "True      77\n",
      "Name: winner, dtype: int64\n"
     ]
    }
   ],
   "source": [
    "cross_analysis('category','DOCUMENTARY (Feature)','winner')"
   ]
  },
  {
   "cell_type": "code",
   "execution_count": 147,
   "id": "81e67670",
   "metadata": {},
   "outputs": [
    {
     "name": "stdout",
     "output_type": "stream",
     "text": [
      "False    344\n",
      "True      86\n",
      "Name: winner, dtype: int64\n"
     ]
    }
   ],
   "source": [
    "cross_analysis('category','FILM EDITING','winner')"
   ]
  },
  {
   "cell_type": "code",
   "execution_count": 158,
   "id": "f328a643",
   "metadata": {},
   "outputs": [
    {
     "name": "stderr",
     "output_type": "stream",
     "text": [
      "C:\\Users\\EDGAR MUYALE DAVIES\\anaconda3\\Anaconda\\lib\\site-packages\\seaborn\\_decorators.py:36: FutureWarning: Pass the following variables as keyword args: x, y. From version 0.12, the only valid positional argument will be `data`, and passing other arguments without an explicit keyword will result in an error or misinterpretation.\n",
      "  warnings.warn(\n"
     ]
    },
    {
     "data": {
      "text/plain": [
       "Text(0.5, 1.0, 'Oscar Winners by Categories')"
      ]
     },
     "execution_count": 158,
     "metadata": {},
     "output_type": "execute_result"
    },
    {
     "data": {
      "image/png": "[encoded data removed]",
      "text/plain": [
       "<Figure size 2000x800 with 1 Axes>"
      ]
     },
     "metadata": {},
     "output_type": "display_data"
    }
   ],
   "source": [
    "\"\"\"According  to the data if you are a supporting role ,you are most likely to win an oscar as compared\n",
    " To being in a Leading Role, directors have won the most ,then film editors  and documentaries\n",
    " \"\"\"\n",
    "fig=plt.figure(figsize=(20,8))\n",
    "plt.subplot(2,2,1)\n",
    "x = ['Directing','Film Editors','Documentaries','Actors in Leading Role','Actresses  Leading ','Actors Supporting ',\n",
    "    'Actresses Supporting ']\n",
    "y = [91,86,77,44,44,84,84]\n",
    "sns.barplot(x,y)\n",
    "plt.xlabel('Categories')\n",
    "plt.ylabel('Number of Winners')\n",
    "plt.title('Oscar Winners by Categories')\n"
   ]
  },
  {
   "cell_type": "code",
   "execution_count": 113,
   "id": "3ab4c0d7",
   "metadata": {},
   "outputs": [
    {
     "data": {
      "text/plain": [
       "DIRECTING                       449\n",
       "FILM EDITING                    430\n",
       "ACTRESS IN A SUPPORTING ROLE    420\n",
       "ACTOR IN A SUPPORTING ROLE      420\n",
       "DOCUMENTARY (Short Subject)     368\n",
       "DOCUMENTARY (Feature)           335\n",
       "BEST PICTURE                    333\n",
       "CINEMATOGRAPHY                  318\n",
       "FOREIGN LANGUAGE FILM           315\n",
       "ART DIRECTION                   307\n",
       "COSTUME DESIGN                  275\n",
       "MUSIC (Original Score)          250\n",
       "ACTRESS                         236\n",
       "ACTOR                           232\n",
       "SOUND                           225\n",
       "ACTRESS IN A LEADING ROLE       220\n",
       "ACTOR IN A LEADING ROLE         220\n",
       "MUSIC (Original Song)           215\n",
       "MUSIC (Song)                    215\n",
       "SHORT FILM (Live Action)        206\n",
       "Name: category, dtype: int64"
      ]
     },
     "execution_count": 113,
     "metadata": {},
     "output_type": "execute_result"
    }
   ],
   "source": [
    "df['category'].value_counts().head(20)"
   ]
  },
  {
   "cell_type": "code",
   "execution_count": 118,
   "id": "db7be1a6",
   "metadata": {},
   "outputs": [
    {
     "data": {
      "text/plain": [
       "<AxesSubplot:xlabel='category', ylabel='count'>"
      ]
     },
     "execution_count": 118,
     "metadata": {},
     "output_type": "execute_result"
    },
    {
     "data": {
      "image/png": "[encoded data removed]",
      "text/plain": [
       "<Figure size 2000x800 with 1 Axes>"
      ]
     },
     "metadata": {},
     "output_type": "display_data"
    }
   ],
   "source": [
    "plt.figure(figsize=(20,8))\n",
    "sns.countplot(x=df['category'])"
   ]
  },
  {
   "cell_type": "code",
   "execution_count": 111,
   "id": "6afc1885",
   "metadata": {},
   "outputs": [
    {
     "data": {
      "text/plain": [
       "Text(0.5, 1.0, ' Oscar Winners and Loser in Numbers ')"
      ]
     },
     "execution_count": 111,
     "metadata": {},
     "output_type": "execute_result"
    },
    {
     "data": {
      "image/png": "[encoded data removed]",
      "text/plain": [
       "<Figure size 640x480 with 1 Axes>"
      ]
     },
     "metadata": {},
     "output_type": "display_data"
    }
   ],
   "source": [
    "sns.countplot(x='winner',data=df)\n",
    "plt.title(' Oscar Winners and Loser in Numbers ')"
   ]
  },
  {
   "cell_type": "code",
   "execution_count": null,
   "id": "ade04dc5",
   "metadata": {},
   "outputs": [],
   "source": []
  }
 ],
 "metadata": {
  "kernelspec": {
   "display_name": "Python 3 (ipykernel)",
   "language": "python",
   "name": "python3"
  },
  "language_info": {
   "codemirror_mode": {
    "name": "ipython",
    "version": 3
   },
   "file_extension": ".py",
   "mimetype": "text/x-python",
   "name": "python",
   "nbconvert_exporter": "python",
   "pygments_lexer": "ipython3",
   "version": "3.9.13"
  }
 },
 "nbformat": 4,
 "nbformat_minor": 5
}
