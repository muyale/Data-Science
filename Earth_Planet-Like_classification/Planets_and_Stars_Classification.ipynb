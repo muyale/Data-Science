{
 "cells": [
  {
   "cell_type": "code",
   "execution_count": 1,
   "id": "fb07584a",
   "metadata": {},
   "outputs": [],
   "source": [
    "import pandas as pd\n",
    "import numpy as np\n",
    "import seaborn as sns\n",
    "import matplotlib.pyplot as plt"
   ]
  },
  {
   "cell_type": "code",
   "execution_count": 2,
   "id": "b7dd0555",
   "metadata": {},
   "outputs": [],
   "source": [
    "stars_df = pd.read_csv(\"C:\\Datasets\\planets_and_stars\\cleaned.csv\")\n",
    "planet_df = pd.read_csv(\"C:\\Datasets\\planets_and_stars\\oec.csv\")\n",
    "planet_raw_df =  pd.read_csv(\"C:\\Datasets\\planets_and_stars\\oec_1.csv\")"
   ]
  },
  {
   "cell_type": "code",
   "execution_count": 3,
   "id": "a993d4ae",
   "metadata": {},
   "outputs": [],
   "source": [
    "stars_df['Mass'] = stars_df['Mass'].fillna('0')"
   ]
  },
  {
   "cell_type": "code",
   "execution_count": 4,
   "id": "6039793a",
   "metadata": {},
   "outputs": [
    {
     "data": {
      "text/html": [
       "<div>\n",
       "<style scoped>\n",
       "    .dataframe tbody tr th:only-of-type {\n",
       "        vertical-align: middle;\n",
       "    }\n",
       "\n",
       "    .dataframe tbody tr th {\n",
       "        vertical-align: top;\n",
       "    }\n",
       "\n",
       "    .dataframe thead th {\n",
       "        text-align: right;\n",
       "    }\n",
       "</style>\n",
       "<table border=\"1\" class=\"dataframe\">\n",
       "  <thead>\n",
       "    <tr style=\"text-align: right;\">\n",
       "      <th></th>\n",
       "      <th>PlanetIdentifier</th>\n",
       "      <th>TypeFlag</th>\n",
       "      <th>PlanetaryMassJpt</th>\n",
       "      <th>RadiusJpt</th>\n",
       "      <th>PeriodDays</th>\n",
       "      <th>SemiMajorAxisAU</th>\n",
       "      <th>Eccentricity</th>\n",
       "      <th>PeriastronDeg</th>\n",
       "      <th>LongitudeDeg</th>\n",
       "      <th>AscendingNodeDeg</th>\n",
       "      <th>...</th>\n",
       "      <th>DiscoveryYear</th>\n",
       "      <th>LastUpdated</th>\n",
       "      <th>RightAscension</th>\n",
       "      <th>Declination</th>\n",
       "      <th>DistFromSunParsec</th>\n",
       "      <th>HostStarMassSlrMass</th>\n",
       "      <th>HostStarRadiusSlrRad</th>\n",
       "      <th>HostStarMetallicity</th>\n",
       "      <th>HostStarTempK</th>\n",
       "      <th>HostStarAgeGyr</th>\n",
       "    </tr>\n",
       "  </thead>\n",
       "  <tbody>\n",
       "  </tbody>\n",
       "</table>\n",
       "<p>0 rows × 24 columns</p>\n",
       "</div>"
      ],
      "text/plain": [
       "Empty DataFrame\n",
       "Columns: [PlanetIdentifier, TypeFlag, PlanetaryMassJpt, RadiusJpt, PeriodDays, SemiMajorAxisAU, Eccentricity, PeriastronDeg, LongitudeDeg, AscendingNodeDeg, InclinationDeg, SurfaceTempK, AgeGyr, DiscoveryMethod, DiscoveryYear, LastUpdated, RightAscension, Declination, DistFromSunParsec, HostStarMassSlrMass, HostStarRadiusSlrRad, HostStarMetallicity, HostStarTempK, HostStarAgeGyr]\n",
       "Index: []\n",
       "\n",
       "[0 rows x 24 columns]"
      ]
     },
     "execution_count": 4,
     "metadata": {},
     "output_type": "execute_result"
    }
   ],
   "source": [
    "planet_df.dropna()"
   ]
  },
  {
   "cell_type": "code",
   "execution_count": 5,
   "id": "307fadb5",
   "metadata": {},
   "outputs": [
    {
     "data": {
      "text/plain": [
       "(3426, 24)"
      ]
     },
     "execution_count": 5,
     "metadata": {},
     "output_type": "execute_result"
    }
   ],
   "source": [
    "planet_df.shape"
   ]
  },
  {
   "cell_type": "code",
   "execution_count": 6,
   "id": "4d902b95",
   "metadata": {},
   "outputs": [
    {
     "data": {
      "text/plain": [
       "PlanetIdentifier           0\n",
       "TypeFlag                   0\n",
       "PlanetaryMassJpt        2271\n",
       "RadiusJpt                810\n",
       "PeriodDays                99\n",
       "SemiMajorAxisAU         2178\n",
       "Eccentricity            2476\n",
       "PeriastronDeg           3256\n",
       "LongitudeDeg            3541\n",
       "AscendingNodeDeg        3538\n",
       "InclinationDeg          2919\n",
       "SurfaceTempK            2843\n",
       "AgeGyr                  3582\n",
       "DiscoveryMethod           63\n",
       "DiscoveryYear             10\n",
       "LastUpdated                8\n",
       "RightAscension            10\n",
       "Declination               10\n",
       "DistFromSunParsec       1451\n",
       "HostStarMassSlrMass      168\n",
       "HostStarRadiusSlrRad     321\n",
       "HostStarMetallicity     1075\n",
       "HostStarTempK            129\n",
       "HostStarAgeGyr          3067\n",
       "ListsPlanetIsOn            0\n",
       "dtype: int64"
      ]
     },
     "execution_count": 6,
     "metadata": {},
     "output_type": "execute_result"
    }
   ],
   "source": [
    "planet_raw_df.isnull().sum()"
   ]
  },
  {
   "cell_type": "code",
   "execution_count": 7,
   "id": "de7f420b",
   "metadata": {},
   "outputs": [
    {
     "data": {
      "text/html": [
       "<div>\n",
       "<style scoped>\n",
       "    .dataframe tbody tr th:only-of-type {\n",
       "        vertical-align: middle;\n",
       "    }\n",
       "\n",
       "    .dataframe tbody tr th {\n",
       "        vertical-align: top;\n",
       "    }\n",
       "\n",
       "    .dataframe thead th {\n",
       "        text-align: right;\n",
       "    }\n",
       "</style>\n",
       "<table border=\"1\" class=\"dataframe\">\n",
       "  <thead>\n",
       "    <tr style=\"text-align: right;\">\n",
       "      <th></th>\n",
       "      <th>PlanetIdentifier</th>\n",
       "      <th>TypeFlag</th>\n",
       "      <th>PlanetaryMassJpt</th>\n",
       "      <th>RadiusJpt</th>\n",
       "      <th>PeriodDays</th>\n",
       "      <th>SemiMajorAxisAU</th>\n",
       "      <th>Eccentricity</th>\n",
       "      <th>PeriastronDeg</th>\n",
       "      <th>LongitudeDeg</th>\n",
       "      <th>AscendingNodeDeg</th>\n",
       "      <th>...</th>\n",
       "      <th>LastUpdated</th>\n",
       "      <th>RightAscension</th>\n",
       "      <th>Declination</th>\n",
       "      <th>DistFromSunParsec</th>\n",
       "      <th>HostStarMassSlrMass</th>\n",
       "      <th>HostStarRadiusSlrRad</th>\n",
       "      <th>HostStarMetallicity</th>\n",
       "      <th>HostStarTempK</th>\n",
       "      <th>HostStarAgeGyr</th>\n",
       "      <th>ListsPlanetIsOn</th>\n",
       "    </tr>\n",
       "  </thead>\n",
       "  <tbody>\n",
       "  </tbody>\n",
       "</table>\n",
       "<p>0 rows × 25 columns</p>\n",
       "</div>"
      ],
      "text/plain": [
       "Empty DataFrame\n",
       "Columns: [PlanetIdentifier, TypeFlag, PlanetaryMassJpt, RadiusJpt, PeriodDays, SemiMajorAxisAU, Eccentricity, PeriastronDeg, LongitudeDeg, AscendingNodeDeg, InclinationDeg, SurfaceTempK, AgeGyr, DiscoveryMethod, DiscoveryYear, LastUpdated, RightAscension, Declination, DistFromSunParsec, HostStarMassSlrMass, HostStarRadiusSlrRad, HostStarMetallicity, HostStarTempK, HostStarAgeGyr, ListsPlanetIsOn]\n",
       "Index: []\n",
       "\n",
       "[0 rows x 25 columns]"
      ]
     },
     "execution_count": 7,
     "metadata": {},
     "output_type": "execute_result"
    }
   ],
   "source": [
    "planet_raw_df.dropna()"
   ]
  },
  {
   "cell_type": "code",
   "execution_count": 8,
   "id": "bb8f24d1",
   "metadata": {},
   "outputs": [
    {
     "data": {
      "text/plain": [
       "PlanetIdentifier           0\n",
       "TypeFlag                   0\n",
       "PlanetaryMassJpt        2271\n",
       "RadiusJpt                810\n",
       "PeriodDays                99\n",
       "SemiMajorAxisAU         2178\n",
       "Eccentricity            2476\n",
       "PeriastronDeg           3256\n",
       "LongitudeDeg            3541\n",
       "AscendingNodeDeg        3538\n",
       "InclinationDeg          2919\n",
       "SurfaceTempK            2843\n",
       "AgeGyr                  3582\n",
       "DiscoveryMethod           63\n",
       "DiscoveryYear             10\n",
       "LastUpdated                8\n",
       "RightAscension            10\n",
       "Declination               10\n",
       "DistFromSunParsec       1451\n",
       "HostStarMassSlrMass      168\n",
       "HostStarRadiusSlrRad     321\n",
       "HostStarMetallicity     1075\n",
       "HostStarTempK            129\n",
       "HostStarAgeGyr          3067\n",
       "ListsPlanetIsOn            0\n",
       "dtype: int64"
      ]
     },
     "execution_count": 8,
     "metadata": {},
     "output_type": "execute_result"
    }
   ],
   "source": [
    "planet_raw_df.isnull().sum()"
   ]
  },
  {
   "cell_type": "code",
   "execution_count": 9,
   "id": "6c5df9e8",
   "metadata": {},
   "outputs": [
    {
     "data": {
      "text/plain": [
       "(3584, 25)"
      ]
     },
     "execution_count": 9,
     "metadata": {},
     "output_type": "execute_result"
    }
   ],
   "source": [
    "planet_raw_df.shape"
   ]
  },
  {
   "cell_type": "markdown",
   "id": "4e487400",
   "metadata": {},
   "source": [
    "# Astro Analysis "
   ]
  },
  {
   "cell_type": "code",
   "execution_count": 10,
   "id": "8e2b5dd1",
   "metadata": {},
   "outputs": [
    {
     "data": {
      "text/plain": [
       "Index(['Unnamed: 0', 'Star_name', 'Distance', 'Mass', 'Radius', 'Luminosity'], dtype='object')"
      ]
     },
     "execution_count": 10,
     "metadata": {},
     "output_type": "execute_result"
    }
   ],
   "source": [
    "stars_df.columns"
   ]
  },
  {
   "cell_type": "code",
   "execution_count": 11,
   "id": "45ec2529",
   "metadata": {},
   "outputs": [],
   "source": [
    "stars_df.drop(['Unnamed: 0'],axis=1,inplace=True)"
   ]
  },
  {
   "cell_type": "code",
   "execution_count": 12,
   "id": "35702b46",
   "metadata": {},
   "outputs": [
    {
     "name": "stdout",
     "output_type": "stream",
     "text": [
      "Star_name\n",
      "254\n",
      "Distance\n",
      "247\n",
      "Mass\n",
      "190\n",
      "Radius\n",
      "164\n",
      "Luminosity\n",
      "147\n"
     ]
    }
   ],
   "source": [
    "for column in stars_df.columns:\n",
    "    print (column)\n",
    "    print (stars_df[column].nunique())"
   ]
  },
  {
   "cell_type": "code",
   "execution_count": 13,
   "id": "434585f5",
   "metadata": {},
   "outputs": [
    {
     "data": {
      "text/plain": [
       "Sun    1\n",
       "101    1\n",
       "85     1\n",
       "86     1\n",
       "87     1\n",
       "88     1\n",
       "89     1\n",
       "90     1\n",
       "91     1\n",
       "92     1\n",
       "Name: Star_name, dtype: int64"
      ]
     },
     "execution_count": 13,
     "metadata": {},
     "output_type": "execute_result"
    }
   ],
   "source": [
    "stars_df.Star_name.value_counts().head(10)\n",
    "# there are all unique entries"
   ]
  },
  {
   "cell_type": "code",
   "execution_count": 14,
   "id": "8aeeeda8",
   "metadata": {},
   "outputs": [],
   "source": [
    "# Correlation ,does distance depend on mass and viceversa?\n",
    "star_corr = stars_df.corr()"
   ]
  },
  {
   "cell_type": "code",
   "execution_count": 15,
   "id": "0af8d913",
   "metadata": {},
   "outputs": [],
   "source": [
    "stars_df = stars_df.sort_values(by ='Luminosity',ascending=True)"
   ]
  },
  {
   "cell_type": "code",
   "execution_count": 16,
   "id": "19d06d0c",
   "metadata": {},
   "outputs": [
    {
     "data": {
      "text/html": [
       "<div>\n",
       "<style scoped>\n",
       "    .dataframe tbody tr th:only-of-type {\n",
       "        vertical-align: middle;\n",
       "    }\n",
       "\n",
       "    .dataframe tbody tr th {\n",
       "        vertical-align: top;\n",
       "    }\n",
       "\n",
       "    .dataframe thead th {\n",
       "        text-align: right;\n",
       "    }\n",
       "</style>\n",
       "<table border=\"1\" class=\"dataframe\">\n",
       "  <thead>\n",
       "    <tr style=\"text-align: right;\">\n",
       "      <th></th>\n",
       "      <th>Star_name</th>\n",
       "      <th>Distance</th>\n",
       "      <th>Mass</th>\n",
       "      <th>Radius</th>\n",
       "      <th>Luminosity</th>\n",
       "    </tr>\n",
       "  </thead>\n",
       "  <tbody>\n",
       "    <tr>\n",
       "      <th>93</th>\n",
       "      <td>2MASS J0523-1403</td>\n",
       "      <td>040.3</td>\n",
       "      <td>0.07</td>\n",
       "      <td>0.086</td>\n",
       "      <td>0.00013</td>\n",
       "    </tr>\n",
       "    <tr>\n",
       "      <th>90</th>\n",
       "      <td>VB 10</td>\n",
       "      <td>018.72</td>\n",
       "      <td>0.075</td>\n",
       "      <td>0.10</td>\n",
       "      <td>0.0004</td>\n",
       "    </tr>\n",
       "    <tr>\n",
       "      <th>92</th>\n",
       "      <td>TRAPPIST-1</td>\n",
       "      <td>039.6</td>\n",
       "      <td>0.089</td>\n",
       "      <td>0.12</td>\n",
       "      <td>0.0005</td>\n",
       "    </tr>\n",
       "    <tr>\n",
       "      <th>81</th>\n",
       "      <td>Proxima Centauri</td>\n",
       "      <td>04.25</td>\n",
       "      <td>0.12</td>\n",
       "      <td>0.15</td>\n",
       "      <td>0.0017</td>\n",
       "    </tr>\n",
       "    <tr>\n",
       "      <th>88</th>\n",
       "      <td>Gliese 1214</td>\n",
       "      <td>047.5</td>\n",
       "      <td>0.16</td>\n",
       "      <td>0.21</td>\n",
       "      <td>0.0033</td>\n",
       "    </tr>\n",
       "    <tr>\n",
       "      <th>79</th>\n",
       "      <td>Barnard's Star</td>\n",
       "      <td>05.98</td>\n",
       "      <td>0.14</td>\n",
       "      <td>0.20</td>\n",
       "      <td>0.0035</td>\n",
       "    </tr>\n",
       "    <tr>\n",
       "      <th>71</th>\n",
       "      <td>Lacaille 8760</td>\n",
       "      <td>012.87</td>\n",
       "      <td>0.6</td>\n",
       "      <td>0.51</td>\n",
       "      <td>0.072</td>\n",
       "    </tr>\n",
       "    <tr>\n",
       "      <th>253</th>\n",
       "      <td>284</td>\n",
       "      <td>WISE 1405+5534</td>\n",
       "      <td>25.3</td>\n",
       "      <td>0.028637640000000002</td>\n",
       "      <td>0.08837618</td>\n",
       "    </tr>\n",
       "    <tr>\n",
       "      <th>209</th>\n",
       "      <td>143</td>\n",
       "      <td>2MASS 1503+2525</td>\n",
       "      <td>20.7</td>\n",
       "      <td>0.042001872</td>\n",
       "      <td>0.09659721999999998</td>\n",
       "    </tr>\n",
       "    <tr>\n",
       "      <th>243</th>\n",
       "      <td>181</td>\n",
       "      <td>2MASS J22282889-4310262</td>\n",
       "      <td>35.0</td>\n",
       "      <td>0.040092696000000004</td>\n",
       "      <td>0.09659721999999998</td>\n",
       "    </tr>\n",
       "  </tbody>\n",
       "</table>\n",
       "</div>"
      ],
      "text/plain": [
       "            Star_name                 Distance   Mass                Radius  \\\n",
       "93   2MASS J0523-1403                    040.3   0.07                 0.086   \n",
       "90              VB 10                   018.72  0.075                  0.10   \n",
       "92         TRAPPIST-1                    039.6  0.089                  0.12   \n",
       "81   Proxima Centauri                    04.25   0.12                  0.15   \n",
       "88        Gliese 1214                    047.5   0.16                  0.21   \n",
       "79     Barnard's Star                    05.98   0.14                  0.20   \n",
       "71      Lacaille 8760                   012.87    0.6                  0.51   \n",
       "253               284           WISE 1405+5534   25.3  0.028637640000000002   \n",
       "209               143          2MASS 1503+2525   20.7           0.042001872   \n",
       "243               181  2MASS J22282889-4310262   35.0  0.040092696000000004   \n",
       "\n",
       "              Luminosity  \n",
       "93               0.00013  \n",
       "90                0.0004  \n",
       "92                0.0005  \n",
       "81                0.0017  \n",
       "88                0.0033  \n",
       "79                0.0035  \n",
       "71                 0.072  \n",
       "253           0.08837618  \n",
       "209  0.09659721999999998  \n",
       "243  0.09659721999999998  "
      ]
     },
     "execution_count": 16,
     "metadata": {},
     "output_type": "execute_result"
    }
   ],
   "source": [
    "stars_df.head(10)"
   ]
  },
  {
   "cell_type": "code",
   "execution_count": 17,
   "id": "893035c6",
   "metadata": {},
   "outputs": [],
   "source": [
    "stars = np.where(stars_df['Luminosity']==1)"
   ]
  },
  {
   "cell_type": "code",
   "execution_count": 18,
   "id": "940b2b89",
   "metadata": {},
   "outputs": [
    {
     "data": {
      "text/html": [
       "<div>\n",
       "<style scoped>\n",
       "    .dataframe tbody tr th:only-of-type {\n",
       "        vertical-align: middle;\n",
       "    }\n",
       "\n",
       "    .dataframe tbody tr th {\n",
       "        vertical-align: top;\n",
       "    }\n",
       "\n",
       "    .dataframe thead th {\n",
       "        text-align: right;\n",
       "    }\n",
       "</style>\n",
       "<table border=\"1\" class=\"dataframe\">\n",
       "  <thead>\n",
       "    <tr style=\"text-align: right;\">\n",
       "      <th></th>\n",
       "      <th>Star_name</th>\n",
       "      <th>Distance</th>\n",
       "      <th>Mass</th>\n",
       "      <th>Radius</th>\n",
       "      <th>Luminosity</th>\n",
       "    </tr>\n",
       "  </thead>\n",
       "  <tbody>\n",
       "    <tr>\n",
       "      <th>36</th>\n",
       "      <td>Wezen</td>\n",
       "      <td>1,600</td>\n",
       "      <td>17</td>\n",
       "      <td>200</td>\n",
       "      <td>82,000</td>\n",
       "    </tr>\n",
       "    <tr>\n",
       "      <th>25</th>\n",
       "      <td>Gacrux</td>\n",
       "      <td>0088</td>\n",
       "      <td>1.5</td>\n",
       "      <td>84</td>\n",
       "      <td>820</td>\n",
       "    </tr>\n",
       "    <tr>\n",
       "      <th>95</th>\n",
       "      <td>Icarus</td>\n",
       "      <td>014,400,000,000</td>\n",
       "      <td>33</td>\n",
       "      <td>?</td>\n",
       "      <td>850,000</td>\n",
       "    </tr>\n",
       "    <tr>\n",
       "      <th>78</th>\n",
       "      <td>UY Scuti</td>\n",
       "      <td>05,100</td>\n",
       "      <td>7â€“10</td>\n",
       "      <td>755</td>\n",
       "      <td>86,300 - 87,100</td>\n",
       "    </tr>\n",
       "    <tr>\n",
       "      <th>69</th>\n",
       "      <td>Mira</td>\n",
       "      <td>0300</td>\n",
       "      <td>1.2</td>\n",
       "      <td>370</td>\n",
       "      <td>9,000</td>\n",
       "    </tr>\n",
       "    <tr>\n",
       "      <th>26</th>\n",
       "      <td>Bellatrix</td>\n",
       "      <td>0240</td>\n",
       "      <td>8.6</td>\n",
       "      <td>5.8</td>\n",
       "      <td>9,200</td>\n",
       "    </tr>\n",
       "    <tr>\n",
       "      <th>45</th>\n",
       "      <td>Alsephina[2]</td>\n",
       "      <td>0080</td>\n",
       "      <td>2.4</td>\n",
       "      <td>2.9</td>\n",
       "      <td>90</td>\n",
       "    </tr>\n",
       "    <tr>\n",
       "      <th>77</th>\n",
       "      <td>S Doradus</td>\n",
       "      <td>0169,000</td>\n",
       "      <td>24</td>\n",
       "      <td>380</td>\n",
       "      <td>910,000</td>\n",
       "    </tr>\n",
       "    <tr>\n",
       "      <th>80</th>\n",
       "      <td>Luhman 16</td>\n",
       "      <td>06.52</td>\n",
       "      <td>0.04</td>\n",
       "      <td>?</td>\n",
       "      <td>?</td>\n",
       "    </tr>\n",
       "    <tr>\n",
       "      <th>94</th>\n",
       "      <td>WISE 0855âˆ’0714</td>\n",
       "      <td>07.27</td>\n",
       "      <td>0.003</td>\n",
       "      <td>?</td>\n",
       "      <td>?</td>\n",
       "    </tr>\n",
       "  </tbody>\n",
       "</table>\n",
       "</div>"
      ],
      "text/plain": [
       "           Star_name         Distance    Mass Radius       Luminosity\n",
       "36             Wezen            1,600      17    200           82,000\n",
       "25            Gacrux             0088     1.5     84              820\n",
       "95            Icarus  014,400,000,000      33      ?          850,000\n",
       "78          UY Scuti           05,100  7â€“10    755  86,300 - 87,100\n",
       "69              Mira             0300     1.2    370            9,000\n",
       "26         Bellatrix             0240     8.6    5.8            9,200\n",
       "45      Alsephina[2]             0080     2.4    2.9               90\n",
       "77         S Doradus         0169,000      24    380          910,000\n",
       "80         Luhman 16            06.52    0.04      ?                ?\n",
       "94  WISE 0855âˆ’0714            07.27   0.003      ?                ?"
      ]
     },
     "execution_count": 18,
     "metadata": {},
     "output_type": "execute_result"
    }
   ],
   "source": [
    "stars_df.tail(10)"
   ]
  },
  {
   "cell_type": "code",
   "execution_count": 19,
   "id": "92d622f1",
   "metadata": {},
   "outputs": [
    {
     "data": {
      "text/plain": [
       "numpy.ndarray"
      ]
     },
     "execution_count": 19,
     "metadata": {},
     "output_type": "execute_result"
    }
   ],
   "source": [
    "# Analyse the 10 closest stars to Earth\n",
    "type(stars_df['Distance'].values)"
   ]
  },
  {
   "cell_type": "markdown",
   "id": "43b4e2b8",
   "metadata": {},
   "source": [
    "# Planets "
   ]
  },
  {
   "cell_type": "code",
   "execution_count": 20,
   "id": "a9937c4b",
   "metadata": {},
   "outputs": [
    {
     "data": {
      "text/plain": [
       "Index(['PlanetIdentifier', 'TypeFlag', 'PlanetaryMassJpt', 'RadiusJpt',\n",
       "       'PeriodDays', 'SemiMajorAxisAU', 'Eccentricity', 'PeriastronDeg',\n",
       "       'LongitudeDeg', 'AscendingNodeDeg', 'InclinationDeg', 'SurfaceTempK',\n",
       "       'AgeGyr', 'DiscoveryMethod', 'DiscoveryYear', 'LastUpdated',\n",
       "       'RightAscension', 'Declination', 'DistFromSunParsec',\n",
       "       'HostStarMassSlrMass', 'HostStarRadiusSlrRad', 'HostStarMetallicity',\n",
       "       'HostStarTempK', 'HostStarAgeGyr', 'ListsPlanetIsOn'],\n",
       "      dtype='object')"
      ]
     },
     "execution_count": 20,
     "metadata": {},
     "output_type": "execute_result"
    }
   ],
   "source": [
    "planet_raw_df.columns"
   ]
  },
  {
   "cell_type": "code",
   "execution_count": 21,
   "id": "f9a7d1e6",
   "metadata": {},
   "outputs": [
    {
     "data": {
      "text/plain": [
       "'There are a total of 3584 planets of which  3486 are confirmed planets and 98 are controversial'"
      ]
     },
     "execution_count": 21,
     "metadata": {},
     "output_type": "execute_result"
    }
   ],
   "source": [
    "# Lets explore how many confirmed planets are there\n",
    "#len(planet_raw_df['ListsPlanetIsOn'])\n",
    "planet_raw_df['ListsPlanetIsOn'].value_counts().head(20)\n",
    "\"\"\"There are a total of 3584 planets of which  3486 are confirmed planets and 98 are controversial\"\"\""
   ]
  },
  {
   "cell_type": "code",
   "execution_count": 22,
   "id": "b846e14e",
   "metadata": {},
   "outputs": [
    {
     "data": {
      "text/plain": [
       "3486"
      ]
     },
     "execution_count": 22,
     "metadata": {},
     "output_type": "execute_result"
    }
   ],
   "source": [
    "len(planet_raw_df['ListsPlanetIsOn']) - 98"
   ]
  },
  {
   "cell_type": "markdown",
   "id": "bb7ea5af",
   "metadata": {},
   "source": [
    "# Confirmed planets "
   ]
  },
  {
   "cell_type": "code",
   "execution_count": 23,
   "id": "72ce6573",
   "metadata": {},
   "outputs": [
    {
     "data": {
      "text/plain": [
       "290.7689358170256"
      ]
     },
     "execution_count": 23,
     "metadata": {},
     "output_type": "execute_result"
    }
   ],
   "source": [
    "# Confirmed planets \n",
    "planet_raw_df[planet_raw_df['ListsPlanetIsOn']=='Confirmed planets']['PeriodDays'].mean()\n"
   ]
  },
  {
   "cell_type": "code",
   "execution_count": 24,
   "id": "1c29fe47",
   "metadata": {},
   "outputs": [],
   "source": [
    "def planets_checking_criterion(column,identifier,perioddays,discoveryyear,df=stars_df):\n",
    "    print(f\"The average rotating time for planets in|{column } is {planet_raw_df[planet_raw_df[column]==identifier][perioddays].mean()}\")\n",
    "    print('==================================================================================================================')\n",
    "    print(f\"The year of discovery for all |{identifier } is {planet_raw_df[planet_raw_df[column]==identifier][discoveryyear].value_counts().head(10)}\")"
   ]
  },
  {
   "cell_type": "code",
   "execution_count": 25,
   "id": "6214b6a4",
   "metadata": {},
   "outputs": [
    {
     "name": "stdout",
     "output_type": "stream",
     "text": [
      "The average rotating time for planets in|ListsPlanetIsOn is 290.7689358170256\n",
      "==================================================================================================================\n",
      "The year of discovery for all |Confirmed planets is 2016.0    1408\n",
      "2014.0     885\n",
      "2011.0     168\n",
      "2015.0     158\n",
      "2013.0     114\n",
      "2010.0     103\n",
      "2012.0      97\n",
      "2009.0      72\n",
      "2008.0      57\n",
      "2007.0      52\n",
      "Name: DiscoveryYear, dtype: int64\n"
     ]
    }
   ],
   "source": [
    "planets_checking_criterion('ListsPlanetIsOn','Confirmed planets','PeriodDays','DiscoveryYear')\n",
    "# Most confirmed planets were discovered in 2016 and one was discovered in 1995"
   ]
  },
  {
   "cell_type": "markdown",
   "id": "439c84fe",
   "metadata": {},
   "source": [
    "# Confirmed planets in binary systems -S type"
   ]
  },
  {
   "cell_type": "code",
   "execution_count": 26,
   "id": "ed8d6d1a",
   "metadata": {},
   "outputs": [
    {
     "data": {
      "text/plain": [
       "2217.422477106732"
      ]
     },
     "execution_count": 26,
     "metadata": {},
     "output_type": "execute_result"
    }
   ],
   "source": [
    "planet_raw_df[planet_raw_df['ListsPlanetIsOn']=='Confirmed planets, Planets in binary systems, S-type']['PeriodDays'].mean()\n"
   ]
  },
  {
   "cell_type": "code",
   "execution_count": 27,
   "id": "8860d465",
   "metadata": {},
   "outputs": [
    {
     "name": "stdout",
     "output_type": "stream",
     "text": [
      "The average rotating time for planets in|ListsPlanetIsOn is 2217.422477106732\n",
      "==================================================================================================================\n",
      "The year of discovery for all |Confirmed planets, Planets in binary systems, S-type is 2015.0    19\n",
      "2014.0    14\n",
      "2011.0    11\n",
      "2010.0     9\n",
      "2000.0     8\n",
      "2005.0     7\n",
      "2012.0     7\n",
      "2002.0     6\n",
      "2008.0     6\n",
      "2004.0     5\n",
      "Name: DiscoveryYear, dtype: int64\n"
     ]
    }
   ],
   "source": [
    "planets_checking_criterion('ListsPlanetIsOn','Confirmed planets, Planets in binary systems, S-type','PeriodDays','DiscoveryYear')\n",
    "#Most of them were discovered in 2015,the average rotating time is 2217 days "
   ]
  },
  {
   "cell_type": "markdown",
   "id": "8ed71196",
   "metadata": {},
   "source": [
    "# Controversial planets"
   ]
  },
  {
   "cell_type": "code",
   "execution_count": 28,
   "id": "1856877d",
   "metadata": {},
   "outputs": [
    {
     "name": "stdout",
     "output_type": "stream",
     "text": [
      "The average rotating time for planets in|ListsPlanetIsOn is 641.4867403621872\n",
      "==================================================================================================================\n",
      "The year of discovery for all |Controversial is 2014.0    16\n",
      "2012.0    14\n",
      "2013.0    11\n",
      "2015.0    10\n",
      "2010.0     3\n",
      "2007.0     3\n",
      "2017.0     2\n",
      "2009.0     2\n",
      "2011.0     2\n",
      "2003.0     1\n",
      "Name: DiscoveryYear, dtype: int64\n"
     ]
    }
   ],
   "source": [
    "# CONTROVERSIAL PLANETS\n",
    "planets_checking_criterion('ListsPlanetIsOn','Controversial','PeriodDays','DiscoveryYear')\n",
    "#641 days thats really sus"
   ]
  },
  {
   "cell_type": "markdown",
   "id": "ade44840",
   "metadata": {},
   "source": [
    "# Analysis of Host Stars ,Generally,By Confirmed planets,By Controversial planets"
   ]
  },
  {
   "cell_type": "code",
   "execution_count": 29,
   "id": "487f40da",
   "metadata": {},
   "outputs": [
    {
     "data": {
      "text/plain": [
       "Index(['PlanetIdentifier', 'TypeFlag', 'PlanetaryMassJpt', 'RadiusJpt',\n",
       "       'PeriodDays', 'SemiMajorAxisAU', 'Eccentricity', 'PeriastronDeg',\n",
       "       'LongitudeDeg', 'AscendingNodeDeg', 'InclinationDeg', 'SurfaceTempK',\n",
       "       'AgeGyr', 'DiscoveryMethod', 'DiscoveryYear', 'LastUpdated',\n",
       "       'RightAscension', 'Declination', 'DistFromSunParsec',\n",
       "       'HostStarMassSlrMass', 'HostStarRadiusSlrRad', 'HostStarMetallicity',\n",
       "       'HostStarTempK', 'HostStarAgeGyr', 'ListsPlanetIsOn'],\n",
       "      dtype='object')"
      ]
     },
     "execution_count": 29,
     "metadata": {},
     "output_type": "execute_result"
    }
   ],
   "source": [
    "planet_raw_df.columns"
   ]
  },
  {
   "cell_type": "code",
   "execution_count": 30,
   "id": "f747c865",
   "metadata": {},
   "outputs": [
    {
     "data": {
      "text/plain": [
       "Text(0.5, 1.0, 'How Hosts star  Radius  is distributed')"
      ]
     },
     "execution_count": 30,
     "metadata": {},
     "output_type": "execute_result"
    },
    {
     "data": {
      "image/png": "[encoded data removed]",
      "text/plain": [
       "<Figure size 2000x800 with 4 Axes>"
      ]
     },
     "metadata": {},
     "output_type": "display_data"
    }
   ],
   "source": [
    "fig = plt.figure(figsize=(20,8))\n",
    "fig.suptitle('General Analysis of the Host Stars')\n",
    "plt.subplot(2,2,1)\n",
    "sns.histplot(x= planet_raw_df['HostStarTempK'])\n",
    "plt.title('How Hosts star temperature is distributed')\n",
    "plt.subplot(2,2,2)\n",
    "sns.histplot(x= planet_raw_df['HostStarAgeGyr'])\n",
    "plt.title('How Hosts star Age is distributed')\n",
    "plt.subplot(2,2,3)\n",
    "sns.histplot(x= planet_raw_df['HostStarMassSlrMass'])\n",
    "plt.title('How Hosts star  mass  is distributed')\n",
    "plt.subplot(2,2,4)\n",
    "sns.histplot(x= planet_raw_df['HostStarRadiusSlrRad'])\n",
    "plt.title('How Hosts star  Radius  is distributed')\n",
    "# Most host stars have a temp of 7000k, 1 year,mass of 1 and radius of 3 or 4"
   ]
  },
  {
   "cell_type": "code",
   "execution_count": 31,
   "id": "c357a370",
   "metadata": {},
   "outputs": [
    {
     "data": {
      "text/plain": [
       "Text(0.5, 1.0, 'How Hosts star  Radius  is distributed')"
      ]
     },
     "execution_count": 31,
     "metadata": {},
     "output_type": "execute_result"
    },
    {
     "data": {
      "image/png": "[encoded data removed]",
      "text/plain": [
       "<Figure size 2000x800 with 4 Axes>"
      ]
     },
     "metadata": {},
     "output_type": "display_data"
    }
   ],
   "source": [
    "fig = plt.figure(figsize=(20,8))\n",
    "fig.suptitle('General Analysis of the Host Stars of Confirmed Planets')\n",
    "plt.subplot(2,2,1)\n",
    "sns.histplot(x= planet_raw_df[planet_raw_df['ListsPlanetIsOn']=='Confirmed planets']['HostStarTempK'])\n",
    "plt.title('How Hosts star temperature is distributed')\n",
    "plt.subplot(2,2,2)\n",
    "sns.histplot(x= planet_raw_df[planet_raw_df['ListsPlanetIsOn']=='Confirmed planets']['HostStarAgeGyr'])\n",
    "plt.title('How Hosts star Age is distributed')\n",
    "plt.subplot(2,2,3)\n",
    "sns.histplot(x= planet_raw_df[planet_raw_df['ListsPlanetIsOn']=='Confirmed planets']['HostStarMassSlrMass'])\n",
    "plt.title('How Hosts star  mass  is distributed')\n",
    "plt.subplot(2,2,4)\n",
    "sns.histplot(x= planet_raw_df[planet_raw_df['ListsPlanetIsOn']=='Confirmed planets']['HostStarRadiusSlrRad'])\n",
    "plt.title('How Hosts star  Radius  is distributed')"
   ]
  },
  {
   "cell_type": "code",
   "execution_count": 32,
   "id": "51ee96e5",
   "metadata": {},
   "outputs": [
    {
     "ename": "SyntaxError",
     "evalue": "invalid syntax (3435960979.py, line 1)",
     "output_type": "error",
     "traceback": [
      "\u001b[1;36m  File \u001b[1;32m\"C:\\Users\\EDGAR MUYALE DAVIES\\AppData\\Local\\Temp\\ipykernel_12868\\3435960979.py\"\u001b[1;36m, line \u001b[1;32m1\u001b[0m\n\u001b[1;33m    Confirmed planets, Planets in binary systems, S-type\u001b[0m\n\u001b[1;37m              ^\u001b[0m\n\u001b[1;31mSyntaxError\u001b[0m\u001b[1;31m:\u001b[0m invalid syntax\n"
     ]
    }
   ],
   "source": [
    "Confirmed planets, Planets in binary systems, S-type"
   ]
  },
  {
   "cell_type": "code",
   "execution_count": 33,
   "id": "8f1766f3",
   "metadata": {},
   "outputs": [
    {
     "data": {
      "text/plain": [
       "Text(0.5, 1.0, 'How Hosts star  Radius  is distributed')"
      ]
     },
     "execution_count": 33,
     "metadata": {},
     "output_type": "execute_result"
    },
    {
     "data": {
      "image/png": "[encoded data removed]",
      "text/plain": [
       "<Figure size 2000x800 with 4 Axes>"
      ]
     },
     "metadata": {},
     "output_type": "display_data"
    }
   ],
   "source": [
    "fig = plt.figure(figsize=(20,8))\n",
    "fig.suptitle('General Analysis of the Host Stars of Confirmed Planets in Binary system')\n",
    "plt.subplot(2,2,1)\n",
    "sns.histplot(x= planet_raw_df[planet_raw_df['ListsPlanetIsOn']=='Confirmed planets, Planets in binary systems, S-type']['HostStarTempK'])\n",
    "plt.title('How Hosts star temperature is distributed')\n",
    "plt.subplot(2,2,2)\n",
    "sns.histplot(x= planet_raw_df[planet_raw_df['ListsPlanetIsOn']=='Confirmed planets, Planets in binary systems, S-type']['HostStarAgeGyr'])\n",
    "plt.title('How Hosts star Age is distributed')\n",
    "plt.subplot(2,2,3)\n",
    "sns.histplot(x= planet_raw_df[planet_raw_df['ListsPlanetIsOn']=='Confirmed planets, Planets in binary systems, S-type']['HostStarMassSlrMass'])\n",
    "plt.title('How Hosts star  mass  is distributed')\n",
    "plt.subplot(2,2,4)\n",
    "sns.histplot(x= planet_raw_df[planet_raw_df['ListsPlanetIsOn']=='Confirmed planets, Planets in binary systems, S-type']['HostStarRadiusSlrRad'])\n",
    "plt.title('How Hosts star  Radius  is distributed')"
   ]
  },
  {
   "cell_type": "code",
   "execution_count": null,
   "id": "d73475f1",
   "metadata": {},
   "outputs": [],
   "source": [
    "#Controversial planets"
   ]
  },
  {
   "cell_type": "code",
   "execution_count": 34,
   "id": "f4198562",
   "metadata": {},
   "outputs": [
    {
     "data": {
      "text/plain": [
       "Text(0.5, 1.0, 'How Hosts star  Radius  is distributed')"
      ]
     },
     "execution_count": 34,
     "metadata": {},
     "output_type": "execute_result"
    },
    {
     "data": {
      "image/png": "[encoded data removed]",
      "text/plain": [
       "<Figure size 2000x800 with 4 Axes>"
      ]
     },
     "metadata": {},
     "output_type": "display_data"
    }
   ],
   "source": [
    "fig = plt.figure(figsize=(20,8))\n",
    "fig.suptitle('General Analysis of the Host Stars of Controversial Planets')\n",
    "plt.subplot(2,2,1)\n",
    "sns.histplot(x= planet_raw_df[planet_raw_df['ListsPlanetIsOn']=='Controversial']['HostStarTempK'])\n",
    "plt.title('How Hosts star temperature is distributed')\n",
    "plt.subplot(2,2,2)\n",
    "sns.histplot(x= planet_raw_df[planet_raw_df['ListsPlanetIsOn']=='Controversial']['HostStarAgeGyr'])\n",
    "plt.title('How Hosts star Age is distributed')\n",
    "plt.subplot(2,2,3)\n",
    "sns.histplot(x= planet_raw_df[planet_raw_df['ListsPlanetIsOn']=='Controversial']['HostStarMassSlrMass'])\n",
    "plt.title('How Hosts star  mass  is distributed')\n",
    "plt.subplot(2,2,4)\n",
    "sns.histplot(x= planet_raw_df[planet_raw_df['ListsPlanetIsOn']=='Controversial']['HostStarRadiusSlrRad'])\n",
    "plt.title('How Hosts star  Radius  is distributed')"
   ]
  },
  {
   "cell_type": "code",
   "execution_count": 36,
   "id": "3c115c93",
   "metadata": {},
   "outputs": [
    {
     "data": {
      "text/html": [
       "<div>\n",
       "<style scoped>\n",
       "    .dataframe tbody tr th:only-of-type {\n",
       "        vertical-align: middle;\n",
       "    }\n",
       "\n",
       "    .dataframe tbody tr th {\n",
       "        vertical-align: top;\n",
       "    }\n",
       "\n",
       "    .dataframe thead th {\n",
       "        text-align: right;\n",
       "    }\n",
       "</style>\n",
       "<table border=\"1\" class=\"dataframe\">\n",
       "  <thead>\n",
       "    <tr style=\"text-align: right;\">\n",
       "      <th></th>\n",
       "      <th>PlanetIdentifier</th>\n",
       "      <th>TypeFlag</th>\n",
       "      <th>PlanetaryMassJpt</th>\n",
       "      <th>RadiusJpt</th>\n",
       "      <th>PeriodDays</th>\n",
       "      <th>SemiMajorAxisAU</th>\n",
       "      <th>Eccentricity</th>\n",
       "      <th>PeriastronDeg</th>\n",
       "      <th>LongitudeDeg</th>\n",
       "      <th>AscendingNodeDeg</th>\n",
       "      <th>...</th>\n",
       "      <th>LastUpdated</th>\n",
       "      <th>RightAscension</th>\n",
       "      <th>Declination</th>\n",
       "      <th>DistFromSunParsec</th>\n",
       "      <th>HostStarMassSlrMass</th>\n",
       "      <th>HostStarRadiusSlrRad</th>\n",
       "      <th>HostStarMetallicity</th>\n",
       "      <th>HostStarTempK</th>\n",
       "      <th>HostStarAgeGyr</th>\n",
       "      <th>ListsPlanetIsOn</th>\n",
       "    </tr>\n",
       "  </thead>\n",
       "  <tbody>\n",
       "    <tr>\n",
       "      <th>0</th>\n",
       "      <td>HD 143761 b</td>\n",
       "      <td>0</td>\n",
       "      <td>1.0450</td>\n",
       "      <td>NaN</td>\n",
       "      <td>39.845800</td>\n",
       "      <td>0.2196</td>\n",
       "      <td>0.037</td>\n",
       "      <td>270.6</td>\n",
       "      <td>NaN</td>\n",
       "      <td>NaN</td>\n",
       "      <td>...</td>\n",
       "      <td>16/07/11</td>\n",
       "      <td>16 01 03</td>\n",
       "      <td>+33 18 13</td>\n",
       "      <td>17.236</td>\n",
       "      <td>0.889</td>\n",
       "      <td>1.362</td>\n",
       "      <td>-0.31</td>\n",
       "      <td>5627.0</td>\n",
       "      <td>NaN</td>\n",
       "      <td>Confirmed planets</td>\n",
       "    </tr>\n",
       "    <tr>\n",
       "      <th>1</th>\n",
       "      <td>HD 143761 c</td>\n",
       "      <td>0</td>\n",
       "      <td>0.0790</td>\n",
       "      <td>NaN</td>\n",
       "      <td>102.540000</td>\n",
       "      <td>0.4123</td>\n",
       "      <td>0.050</td>\n",
       "      <td>190.0</td>\n",
       "      <td>NaN</td>\n",
       "      <td>NaN</td>\n",
       "      <td>...</td>\n",
       "      <td>16/07/11</td>\n",
       "      <td>16 01 03</td>\n",
       "      <td>+33 18 13</td>\n",
       "      <td>17.236</td>\n",
       "      <td>0.889</td>\n",
       "      <td>1.362</td>\n",
       "      <td>-0.31</td>\n",
       "      <td>5627.0</td>\n",
       "      <td>NaN</td>\n",
       "      <td>Confirmed planets</td>\n",
       "    </tr>\n",
       "    <tr>\n",
       "      <th>2</th>\n",
       "      <td>KOI-1843.03</td>\n",
       "      <td>0</td>\n",
       "      <td>0.0014</td>\n",
       "      <td>0.054</td>\n",
       "      <td>0.176891</td>\n",
       "      <td>0.0048</td>\n",
       "      <td>NaN</td>\n",
       "      <td>NaN</td>\n",
       "      <td>NaN</td>\n",
       "      <td>NaN</td>\n",
       "      <td>...</td>\n",
       "      <td>13/07/15</td>\n",
       "      <td>19 00 03.14</td>\n",
       "      <td>+40 13 14.7</td>\n",
       "      <td>NaN</td>\n",
       "      <td>0.460</td>\n",
       "      <td>0.450</td>\n",
       "      <td>0.00</td>\n",
       "      <td>3584.0</td>\n",
       "      <td>NaN</td>\n",
       "      <td>Controversial</td>\n",
       "    </tr>\n",
       "    <tr>\n",
       "      <th>3</th>\n",
       "      <td>KOI-1843.01</td>\n",
       "      <td>0</td>\n",
       "      <td>NaN</td>\n",
       "      <td>0.114</td>\n",
       "      <td>4.194525</td>\n",
       "      <td>0.0390</td>\n",
       "      <td>NaN</td>\n",
       "      <td>NaN</td>\n",
       "      <td>NaN</td>\n",
       "      <td>NaN</td>\n",
       "      <td>...</td>\n",
       "      <td>NaN</td>\n",
       "      <td>19 00 03.14</td>\n",
       "      <td>+40 13 14.7</td>\n",
       "      <td>NaN</td>\n",
       "      <td>0.460</td>\n",
       "      <td>0.450</td>\n",
       "      <td>0.00</td>\n",
       "      <td>3584.0</td>\n",
       "      <td>NaN</td>\n",
       "      <td>Controversial</td>\n",
       "    </tr>\n",
       "    <tr>\n",
       "      <th>4</th>\n",
       "      <td>KOI-1843.02</td>\n",
       "      <td>0</td>\n",
       "      <td>NaN</td>\n",
       "      <td>0.071</td>\n",
       "      <td>6.356006</td>\n",
       "      <td>0.0520</td>\n",
       "      <td>NaN</td>\n",
       "      <td>NaN</td>\n",
       "      <td>NaN</td>\n",
       "      <td>NaN</td>\n",
       "      <td>...</td>\n",
       "      <td>NaN</td>\n",
       "      <td>19 00 03.14</td>\n",
       "      <td>+40 13 14.7</td>\n",
       "      <td>NaN</td>\n",
       "      <td>0.460</td>\n",
       "      <td>0.450</td>\n",
       "      <td>0.00</td>\n",
       "      <td>3584.0</td>\n",
       "      <td>NaN</td>\n",
       "      <td>Controversial</td>\n",
       "    </tr>\n",
       "  </tbody>\n",
       "</table>\n",
       "<p>5 rows × 25 columns</p>\n",
       "</div>"
      ],
      "text/plain": [
       "  PlanetIdentifier  TypeFlag  PlanetaryMassJpt  RadiusJpt  PeriodDays  \\\n",
       "0      HD 143761 b         0            1.0450        NaN   39.845800   \n",
       "1      HD 143761 c         0            0.0790        NaN  102.540000   \n",
       "2      KOI-1843.03         0            0.0014      0.054    0.176891   \n",
       "3      KOI-1843.01         0               NaN      0.114    4.194525   \n",
       "4      KOI-1843.02         0               NaN      0.071    6.356006   \n",
       "\n",
       "   SemiMajorAxisAU  Eccentricity  PeriastronDeg  LongitudeDeg  \\\n",
       "0           0.2196         0.037          270.6           NaN   \n",
       "1           0.4123         0.050          190.0           NaN   \n",
       "2           0.0048           NaN            NaN           NaN   \n",
       "3           0.0390           NaN            NaN           NaN   \n",
       "4           0.0520           NaN            NaN           NaN   \n",
       "\n",
       "   AscendingNodeDeg  ...  LastUpdated  RightAscension  Declination  \\\n",
       "0               NaN  ...     16/07/11        16 01 03    +33 18 13   \n",
       "1               NaN  ...     16/07/11        16 01 03    +33 18 13   \n",
       "2               NaN  ...     13/07/15     19 00 03.14  +40 13 14.7   \n",
       "3               NaN  ...          NaN     19 00 03.14  +40 13 14.7   \n",
       "4               NaN  ...          NaN     19 00 03.14  +40 13 14.7   \n",
       "\n",
       "  DistFromSunParsec  HostStarMassSlrMass HostStarRadiusSlrRad  \\\n",
       "0            17.236                0.889                1.362   \n",
       "1            17.236                0.889                1.362   \n",
       "2               NaN                0.460                0.450   \n",
       "3               NaN                0.460                0.450   \n",
       "4               NaN                0.460                0.450   \n",
       "\n",
       "  HostStarMetallicity HostStarTempK  HostStarAgeGyr    ListsPlanetIsOn  \n",
       "0               -0.31        5627.0             NaN  Confirmed planets  \n",
       "1               -0.31        5627.0             NaN  Confirmed planets  \n",
       "2                0.00        3584.0             NaN      Controversial  \n",
       "3                0.00        3584.0             NaN      Controversial  \n",
       "4                0.00        3584.0             NaN      Controversial  \n",
       "\n",
       "[5 rows x 25 columns]"
      ]
     },
     "execution_count": 36,
     "metadata": {},
     "output_type": "execute_result"
    }
   ],
   "source": [
    "planet_raw_df.head()"
   ]
  },
  {
   "cell_type": "code",
   "execution_count": 65,
   "id": "e03b3b5f",
   "metadata": {},
   "outputs": [],
   "source": [
    "# Sample out earth like planets\n",
    "earth_mass =planet_raw_df[planet_raw_df['PlanetIdentifier']=='Earth']['PlanetaryMassJpt']\n",
    "earth_radius = planet_raw_df[planet_raw_df['PlanetIdentifier']=='Earth']['RadiusJpt']"
   ]
  },
  {
   "cell_type": "code",
   "execution_count": 57,
   "id": "d579312c",
   "metadata": {},
   "outputs": [
    {
     "data": {
      "text/plain": [
       "410    0.09113\n",
       "Name: RadiusJpt, dtype: float64"
      ]
     },
     "execution_count": 57,
     "metadata": {},
     "output_type": "execute_result"
    }
   ],
   "source": [
    "planet_raw_df[planet_raw_df['PlanetIdentifier']=='Earth']['RadiusJpt']"
   ]
  },
  {
   "cell_type": "code",
   "execution_count": 58,
   "id": "4b54d122",
   "metadata": {},
   "outputs": [
    {
     "data": {
      "text/plain": [
       "410    0.016732\n",
       "Name: Eccentricity, dtype: float64"
      ]
     },
     "execution_count": 58,
     "metadata": {},
     "output_type": "execute_result"
    }
   ],
   "source": [
    "planet_raw_df[planet_raw_df['PlanetIdentifier']=='Earth']['Eccentricity']"
   ]
  },
  {
   "cell_type": "code",
   "execution_count": 64,
   "id": "22a37ac2",
   "metadata": {},
   "outputs": [],
   "source": [
    "sun_mass = planet_raw_df[planet_raw_df['PlanetIdentifier']=='Earth']['HostStarMassSlrMass']\n",
    "sun_radius =planet_raw_df[planet_raw_df['PlanetIdentifier']=='Earth']['HostStarRadiusSlrRad']"
   ]
  },
  {
   "cell_type": "code",
   "execution_count": 63,
   "id": "281656bf",
   "metadata": {},
   "outputs": [
    {
     "data": {
      "text/plain": [
       "410    0.31457\n",
       "dtype: float64"
      ]
     },
     "execution_count": 63,
     "metadata": {},
     "output_type": "execute_result"
    }
   ],
   "source": [
    "life_insight = earth_mass/sun_mass *100\n",
    "life_ration"
   ]
  },
  {
   "cell_type": "code",
   "execution_count": 68,
   "id": "39bb3cb5",
   "metadata": {},
   "outputs": [
    {
     "data": {
      "text/plain": [
       "410    9.113029\n",
       "dtype: float64"
      ]
     },
     "execution_count": 68,
     "metadata": {},
     "output_type": "execute_result"
    }
   ],
   "source": [
    "life_insight_2 = (earth_radius/sun_radius) * 100\n",
    "life_insight_2"
   ]
  },
  {
   "cell_type": "code",
   "execution_count": 69,
   "id": "9265503c",
   "metadata": {},
   "outputs": [],
   "source": [
    "planet_raw_df['life_insight'] = (planet_raw_df['PlanetaryMassJpt']/planet_raw_df['HostStarMassSlrMass'])*100\n",
    "planet_raw_df['life_insight_2'] = (planet_raw_df['RadiusJpt']/planet_raw_df['HostStarMassSlrMass'])*100"
   ]
  },
  {
   "cell_type": "code",
   "execution_count": 70,
   "id": "d6422116",
   "metadata": {},
   "outputs": [],
   "source": [
    "sorted_df = planet_raw_df[['PlanetIdentifier','life_insight','life_insight_2']]\n",
    "# Life ration should be close to 0.3,life_insight_2 :9.11"
   ]
  },
  {
   "cell_type": "code",
   "execution_count": 72,
   "id": "1a69d151",
   "metadata": {},
   "outputs": [
    {
     "data": {
      "text/html": [
       "<div>\n",
       "<style scoped>\n",
       "    .dataframe tbody tr th:only-of-type {\n",
       "        vertical-align: middle;\n",
       "    }\n",
       "\n",
       "    .dataframe tbody tr th {\n",
       "        vertical-align: top;\n",
       "    }\n",
       "\n",
       "    .dataframe thead th {\n",
       "        text-align: right;\n",
       "    }\n",
       "</style>\n",
       "<table border=\"1\" class=\"dataframe\">\n",
       "  <thead>\n",
       "    <tr style=\"text-align: right;\">\n",
       "      <th></th>\n",
       "      <th>PlanetIdentifier</th>\n",
       "      <th>life_insight</th>\n",
       "      <th>life_insight_2</th>\n",
       "    </tr>\n",
       "  </thead>\n",
       "  <tbody>\n",
       "    <tr>\n",
       "      <th>2</th>\n",
       "      <td>KOI-1843.03</td>\n",
       "      <td>0.304348</td>\n",
       "      <td>11.739130</td>\n",
       "    </tr>\n",
       "    <tr>\n",
       "      <th>5</th>\n",
       "      <td>Kepler-9 b</td>\n",
       "      <td>23.364486</td>\n",
       "      <td>78.504673</td>\n",
       "    </tr>\n",
       "    <tr>\n",
       "      <th>6</th>\n",
       "      <td>Kepler-9 c</td>\n",
       "      <td>15.887850</td>\n",
       "      <td>76.635514</td>\n",
       "    </tr>\n",
       "    <tr>\n",
       "      <th>7</th>\n",
       "      <td>Kepler-9 d</td>\n",
       "      <td>2.056075</td>\n",
       "      <td>13.738318</td>\n",
       "    </tr>\n",
       "    <tr>\n",
       "      <th>10</th>\n",
       "      <td>WASP-124 b</td>\n",
       "      <td>56.074766</td>\n",
       "      <td>115.887850</td>\n",
       "    </tr>\n",
       "    <tr>\n",
       "      <th>...</th>\n",
       "      <td>...</td>\n",
       "      <td>...</td>\n",
       "      <td>...</td>\n",
       "    </tr>\n",
       "    <tr>\n",
       "      <th>3557</th>\n",
       "      <td>CoRoT-8 b</td>\n",
       "      <td>25.000000</td>\n",
       "      <td>64.772727</td>\n",
       "    </tr>\n",
       "    <tr>\n",
       "      <th>3572</th>\n",
       "      <td>WASP-122 b</td>\n",
       "      <td>98.000000</td>\n",
       "      <td>140.857143</td>\n",
       "    </tr>\n",
       "    <tr>\n",
       "      <th>3574</th>\n",
       "      <td>HAT-P-21 b</td>\n",
       "      <td>429.039071</td>\n",
       "      <td>108.130940</td>\n",
       "    </tr>\n",
       "    <tr>\n",
       "      <th>3576</th>\n",
       "      <td>HAT-P-67 b</td>\n",
       "      <td>20.706456</td>\n",
       "      <td>126.979294</td>\n",
       "    </tr>\n",
       "    <tr>\n",
       "      <th>3577</th>\n",
       "      <td>HAT-P-34 b</td>\n",
       "      <td>239.080460</td>\n",
       "      <td>85.991379</td>\n",
       "    </tr>\n",
       "  </tbody>\n",
       "</table>\n",
       "<p>506 rows × 3 columns</p>\n",
       "</div>"
      ],
      "text/plain": [
       "     PlanetIdentifier  life_insight  life_insight_2\n",
       "2         KOI-1843.03      0.304348       11.739130\n",
       "5          Kepler-9 b     23.364486       78.504673\n",
       "6          Kepler-9 c     15.887850       76.635514\n",
       "7          Kepler-9 d      2.056075       13.738318\n",
       "10         WASP-124 b     56.074766      115.887850\n",
       "...               ...           ...             ...\n",
       "3557        CoRoT-8 b     25.000000       64.772727\n",
       "3572       WASP-122 b     98.000000      140.857143\n",
       "3574       HAT-P-21 b    429.039071      108.130940\n",
       "3576       HAT-P-67 b     20.706456      126.979294\n",
       "3577       HAT-P-34 b    239.080460       85.991379\n",
       "\n",
       "[506 rows x 3 columns]"
      ]
     },
     "execution_count": 72,
     "metadata": {},
     "output_type": "execute_result"
    }
   ],
   "source": [
    "sorted_df.dropna()"
   ]
  },
  {
   "cell_type": "code",
   "execution_count": 94,
   "id": "887e01ba",
   "metadata": {},
   "outputs": [
    {
     "data": {
      "text/html": [
       "<div>\n",
       "<style scoped>\n",
       "    .dataframe tbody tr th:only-of-type {\n",
       "        vertical-align: middle;\n",
       "    }\n",
       "\n",
       "    .dataframe tbody tr th {\n",
       "        vertical-align: top;\n",
       "    }\n",
       "\n",
       "    .dataframe thead th {\n",
       "        text-align: right;\n",
       "    }\n",
       "</style>\n",
       "<table border=\"1\" class=\"dataframe\">\n",
       "  <thead>\n",
       "    <tr style=\"text-align: right;\">\n",
       "      <th></th>\n",
       "      <th>PlanetIdentifier</th>\n",
       "      <th>life_insight</th>\n",
       "      <th>life_insight_2</th>\n",
       "    </tr>\n",
       "  </thead>\n",
       "  <tbody>\n",
       "    <tr>\n",
       "      <th>416</th>\n",
       "      <td>Pluto</td>\n",
       "      <td>0.000776</td>\n",
       "      <td>1.643790</td>\n",
       "    </tr>\n",
       "    <tr>\n",
       "      <th>3323</th>\n",
       "      <td>PSR 1257+12 A</td>\n",
       "      <td>0.004493</td>\n",
       "      <td>NaN</td>\n",
       "    </tr>\n",
       "    <tr>\n",
       "      <th>408</th>\n",
       "      <td>Mercury</td>\n",
       "      <td>0.017387</td>\n",
       "      <td>3.490152</td>\n",
       "    </tr>\n",
       "    <tr>\n",
       "      <th>411</th>\n",
       "      <td>Mars</td>\n",
       "      <td>0.033800</td>\n",
       "      <td>4.848908</td>\n",
       "    </tr>\n",
       "    <tr>\n",
       "      <th>1128</th>\n",
       "      <td>Kepler-138 b</td>\n",
       "      <td>0.039923</td>\n",
       "      <td>9.130518</td>\n",
       "    </tr>\n",
       "    <tr>\n",
       "      <th>2081</th>\n",
       "      <td>Gliese 436 c</td>\n",
       "      <td>0.194866</td>\n",
       "      <td>13.306635</td>\n",
       "    </tr>\n",
       "    <tr>\n",
       "      <th>2799</th>\n",
       "      <td>Kepler-33 c</td>\n",
       "      <td>0.195198</td>\n",
       "      <td>22.587142</td>\n",
       "    </tr>\n",
       "    <tr>\n",
       "      <th>409</th>\n",
       "      <td>Venus</td>\n",
       "      <td>0.256374</td>\n",
       "      <td>8.656491</td>\n",
       "    </tr>\n",
       "    <tr>\n",
       "      <th>2780</th>\n",
       "      <td>KOI-55 b</td>\n",
       "      <td>0.282258</td>\n",
       "      <td>13.709677</td>\n",
       "    </tr>\n",
       "    <tr>\n",
       "      <th>2</th>\n",
       "      <td>KOI-1843.03</td>\n",
       "      <td>0.304348</td>\n",
       "      <td>11.739130</td>\n",
       "    </tr>\n",
       "    <tr>\n",
       "      <th>410</th>\n",
       "      <td>Earth</td>\n",
       "      <td>0.314570</td>\n",
       "      <td>9.113029</td>\n",
       "    </tr>\n",
       "    <tr>\n",
       "      <th>104</th>\n",
       "      <td>Kepler-128 b</td>\n",
       "      <td>0.349573</td>\n",
       "      <td>8.801709</td>\n",
       "    </tr>\n",
       "    <tr>\n",
       "      <th>927</th>\n",
       "      <td>Kepler-59 b</td>\n",
       "      <td>0.368077</td>\n",
       "      <td>9.638750</td>\n",
       "    </tr>\n",
       "    <tr>\n",
       "      <th>1315</th>\n",
       "      <td>HD 10180 b</td>\n",
       "      <td>0.385793</td>\n",
       "      <td>NaN</td>\n",
       "    </tr>\n",
       "    <tr>\n",
       "      <th>1127</th>\n",
       "      <td>KOI-314 c</td>\n",
       "      <td>0.386372</td>\n",
       "      <td>21.199616</td>\n",
       "    </tr>\n",
       "    <tr>\n",
       "      <th>1972</th>\n",
       "      <td>Alpha Centauri B b</td>\n",
       "      <td>0.392503</td>\n",
       "      <td>NaN</td>\n",
       "    </tr>\n",
       "    <tr>\n",
       "      <th>105</th>\n",
       "      <td>Kepler-128 c</td>\n",
       "      <td>0.403419</td>\n",
       "      <td>8.801709</td>\n",
       "    </tr>\n",
       "    <tr>\n",
       "      <th>2781</th>\n",
       "      <td>KOI-55 c</td>\n",
       "      <td>0.423387</td>\n",
       "      <td>15.725806</td>\n",
       "    </tr>\n",
       "    <tr>\n",
       "      <th>2970</th>\n",
       "      <td>KOI-142 b</td>\n",
       "      <td>0.540744</td>\n",
       "      <td>36.836595</td>\n",
       "    </tr>\n",
       "    <tr>\n",
       "      <th>1317</th>\n",
       "      <td>HD 10180 i</td>\n",
       "      <td>0.563852</td>\n",
       "      <td>NaN</td>\n",
       "    </tr>\n",
       "    <tr>\n",
       "      <th>826</th>\n",
       "      <td>KOI-523.02</td>\n",
       "      <td>0.575269</td>\n",
       "      <td>28.417204</td>\n",
       "    </tr>\n",
       "    <tr>\n",
       "      <th>1583</th>\n",
       "      <td>Kepler-11 b</td>\n",
       "      <td>0.621956</td>\n",
       "      <td>17.069199</td>\n",
       "    </tr>\n",
       "    <tr>\n",
       "      <th>2123</th>\n",
       "      <td>Kepler-51 b</td>\n",
       "      <td>0.634615</td>\n",
       "      <td>60.865385</td>\n",
       "    </tr>\n",
       "    <tr>\n",
       "      <th>1587</th>\n",
       "      <td>Kepler-11 f</td>\n",
       "      <td>0.654631</td>\n",
       "      <td>23.517482</td>\n",
       "    </tr>\n",
       "    <tr>\n",
       "      <th>2257</th>\n",
       "      <td>KIC 8435766 b</td>\n",
       "      <td>0.708675</td>\n",
       "      <td>13.175422</td>\n",
       "    </tr>\n",
       "    <tr>\n",
       "      <th>1063</th>\n",
       "      <td>Kepler-406 c</td>\n",
       "      <td>0.796729</td>\n",
       "      <td>7.239346</td>\n",
       "    </tr>\n",
       "    <tr>\n",
       "      <th>3370</th>\n",
       "      <td>tau Ceti b</td>\n",
       "      <td>0.803500</td>\n",
       "      <td>NaN</td>\n",
       "    </tr>\n",
       "    <tr>\n",
       "      <th>1029</th>\n",
       "      <td>GJ 3138 c</td>\n",
       "      <td>0.822320</td>\n",
       "      <td>NaN</td>\n",
       "    </tr>\n",
       "    <tr>\n",
       "      <th>3325</th>\n",
       "      <td>PSR 1257+12 C</td>\n",
       "      <td>0.878571</td>\n",
       "      <td>NaN</td>\n",
       "    </tr>\n",
       "    <tr>\n",
       "      <th>2514</th>\n",
       "      <td>Kepler-57 c</td>\n",
       "      <td>0.934819</td>\n",
       "      <td>17.018313</td>\n",
       "    </tr>\n",
       "    <tr>\n",
       "      <th>1584</th>\n",
       "      <td>Kepler-11 c</td>\n",
       "      <td>0.939438</td>\n",
       "      <td>27.215817</td>\n",
       "    </tr>\n",
       "    <tr>\n",
       "      <th>3324</th>\n",
       "      <td>PSR 1257+12 B</td>\n",
       "      <td>0.964286</td>\n",
       "      <td>NaN</td>\n",
       "    </tr>\n",
       "    <tr>\n",
       "      <th>776</th>\n",
       "      <td>HIP 68468 b</td>\n",
       "      <td>1.047619</td>\n",
       "      <td>NaN</td>\n",
       "    </tr>\n",
       "    <tr>\n",
       "      <th>1917</th>\n",
       "      <td>Gliese 667 C h</td>\n",
       "      <td>1.048485</td>\n",
       "      <td>NaN</td>\n",
       "    </tr>\n",
       "    <tr>\n",
       "      <th>915</th>\n",
       "      <td>HD 20794 c</td>\n",
       "      <td>1.078526</td>\n",
       "      <td>NaN</td>\n",
       "    </tr>\n",
       "    <tr>\n",
       "      <th>1703</th>\n",
       "      <td>Kepler-60 d</td>\n",
       "      <td>1.085973</td>\n",
       "      <td>21.030045</td>\n",
       "    </tr>\n",
       "    <tr>\n",
       "      <th>627</th>\n",
       "      <td>Kepler-98 b</td>\n",
       "      <td>1.127980</td>\n",
       "      <td>18.318081</td>\n",
       "    </tr>\n",
       "    <tr>\n",
       "      <th>2800</th>\n",
       "      <td>Kepler-33 d</td>\n",
       "      <td>1.144849</td>\n",
       "      <td>37.765066</td>\n",
       "    </tr>\n",
       "    <tr>\n",
       "      <th>2023</th>\n",
       "      <td>Kepler-10 b</td>\n",
       "      <td>1.151099</td>\n",
       "      <td>14.721099</td>\n",
       "    </tr>\n",
       "    <tr>\n",
       "      <th>1701</th>\n",
       "      <td>Kepler-60 b</td>\n",
       "      <td>1.167421</td>\n",
       "      <td>17.737557</td>\n",
       "    </tr>\n",
       "    <tr>\n",
       "      <th>2144</th>\n",
       "      <td>Kepler-97 b</td>\n",
       "      <td>1.174574</td>\n",
       "      <td>14.348191</td>\n",
       "    </tr>\n",
       "    <tr>\n",
       "      <th>1126</th>\n",
       "      <td>KOI-314 b</td>\n",
       "      <td>1.189443</td>\n",
       "      <td>20.937236</td>\n",
       "    </tr>\n",
       "    <tr>\n",
       "      <th>2563</th>\n",
       "      <td>PH3 c</td>\n",
       "      <td>1.203704</td>\n",
       "      <td>22.129630</td>\n",
       "    </tr>\n",
       "    <tr>\n",
       "      <th>2124</th>\n",
       "      <td>Kepler-51 c</td>\n",
       "      <td>1.211538</td>\n",
       "      <td>77.211538</td>\n",
       "    </tr>\n",
       "    <tr>\n",
       "      <th>914</th>\n",
       "      <td>HD 20794 b</td>\n",
       "      <td>1.213329</td>\n",
       "      <td>NaN</td>\n",
       "    </tr>\n",
       "    <tr>\n",
       "      <th>2167</th>\n",
       "      <td>Kepler-105 c</td>\n",
       "      <td>1.227373</td>\n",
       "      <td>12.433898</td>\n",
       "    </tr>\n",
       "    <tr>\n",
       "      <th>928</th>\n",
       "      <td>Kepler-59 c</td>\n",
       "      <td>1.235385</td>\n",
       "      <td>17.349808</td>\n",
       "    </tr>\n",
       "    <tr>\n",
       "      <th>3371</th>\n",
       "      <td>tau Ceti c</td>\n",
       "      <td>1.245424</td>\n",
       "      <td>NaN</td>\n",
       "    </tr>\n",
       "    <tr>\n",
       "      <th>3029</th>\n",
       "      <td>Kepler-36 b</td>\n",
       "      <td>1.257105</td>\n",
       "      <td>12.864613</td>\n",
       "    </tr>\n",
       "    <tr>\n",
       "      <th>499</th>\n",
       "      <td>Kepler-29 c</td>\n",
       "      <td>1.257900</td>\n",
       "      <td>26.427000</td>\n",
       "    </tr>\n",
       "  </tbody>\n",
       "</table>\n",
       "</div>"
      ],
      "text/plain": [
       "        PlanetIdentifier  life_insight  life_insight_2\n",
       "416                Pluto      0.000776        1.643790\n",
       "3323       PSR 1257+12 A      0.004493             NaN\n",
       "408              Mercury      0.017387        3.490152\n",
       "411                 Mars      0.033800        4.848908\n",
       "1128        Kepler-138 b      0.039923        9.130518\n",
       "2081        Gliese 436 c      0.194866       13.306635\n",
       "2799         Kepler-33 c      0.195198       22.587142\n",
       "409                Venus      0.256374        8.656491\n",
       "2780            KOI-55 b      0.282258       13.709677\n",
       "2            KOI-1843.03      0.304348       11.739130\n",
       "410                Earth      0.314570        9.113029\n",
       "104         Kepler-128 b      0.349573        8.801709\n",
       "927          Kepler-59 b      0.368077        9.638750\n",
       "1315          HD 10180 b      0.385793             NaN\n",
       "1127           KOI-314 c      0.386372       21.199616\n",
       "1972  Alpha Centauri B b      0.392503             NaN\n",
       "105         Kepler-128 c      0.403419        8.801709\n",
       "2781            KOI-55 c      0.423387       15.725806\n",
       "2970           KOI-142 b      0.540744       36.836595\n",
       "1317          HD 10180 i      0.563852             NaN\n",
       "826           KOI-523.02      0.575269       28.417204\n",
       "1583         Kepler-11 b      0.621956       17.069199\n",
       "2123         Kepler-51 b      0.634615       60.865385\n",
       "1587         Kepler-11 f      0.654631       23.517482\n",
       "2257       KIC 8435766 b      0.708675       13.175422\n",
       "1063        Kepler-406 c      0.796729        7.239346\n",
       "3370          tau Ceti b      0.803500             NaN\n",
       "1029           GJ 3138 c      0.822320             NaN\n",
       "3325       PSR 1257+12 C      0.878571             NaN\n",
       "2514         Kepler-57 c      0.934819       17.018313\n",
       "1584         Kepler-11 c      0.939438       27.215817\n",
       "3324       PSR 1257+12 B      0.964286             NaN\n",
       "776          HIP 68468 b      1.047619             NaN\n",
       "1917      Gliese 667 C h      1.048485             NaN\n",
       "915           HD 20794 c      1.078526             NaN\n",
       "1703         Kepler-60 d      1.085973       21.030045\n",
       "627          Kepler-98 b      1.127980       18.318081\n",
       "2800         Kepler-33 d      1.144849       37.765066\n",
       "2023         Kepler-10 b      1.151099       14.721099\n",
       "1701         Kepler-60 b      1.167421       17.737557\n",
       "2144         Kepler-97 b      1.174574       14.348191\n",
       "1126           KOI-314 b      1.189443       20.937236\n",
       "2563               PH3 c      1.203704       22.129630\n",
       "2124         Kepler-51 c      1.211538       77.211538\n",
       "914           HD 20794 b      1.213329             NaN\n",
       "2167        Kepler-105 c      1.227373       12.433898\n",
       "928          Kepler-59 c      1.235385       17.349808\n",
       "3371          tau Ceti c      1.245424             NaN\n",
       "3029         Kepler-36 b      1.257105       12.864613\n",
       "499          Kepler-29 c      1.257900       26.427000"
      ]
     },
     "execution_count": 94,
     "metadata": {},
     "output_type": "execute_result"
    }
   ],
   "source": [
    "sorted_df.sort_values(by='life_insight').head(50)"
   ]
  },
  {
   "cell_type": "code",
   "execution_count": 79,
   "id": "52ba1df2",
   "metadata": {},
   "outputs": [
    {
     "data": {
      "text/plain": [
       "410    0.31457\n",
       "Name: life_insight, dtype: float64"
      ]
     },
     "execution_count": 79,
     "metadata": {},
     "output_type": "execute_result"
    }
   ],
   "source": [
    "planet_raw_df[planet_raw_df['PlanetIdentifier']=='Earth']['life_insight']"
   ]
  },
  {
   "cell_type": "code",
   "execution_count": 81,
   "id": "198375f8",
   "metadata": {},
   "outputs": [
    {
     "data": {
      "text/html": [
       "<div>\n",
       "<style scoped>\n",
       "    .dataframe tbody tr th:only-of-type {\n",
       "        vertical-align: middle;\n",
       "    }\n",
       "\n",
       "    .dataframe tbody tr th {\n",
       "        vertical-align: top;\n",
       "    }\n",
       "\n",
       "    .dataframe thead th {\n",
       "        text-align: right;\n",
       "    }\n",
       "</style>\n",
       "<table border=\"1\" class=\"dataframe\">\n",
       "  <thead>\n",
       "    <tr style=\"text-align: right;\">\n",
       "      <th></th>\n",
       "      <th>PlanetIdentifier</th>\n",
       "      <th>life_insight</th>\n",
       "      <th>life_insight_2</th>\n",
       "    </tr>\n",
       "  </thead>\n",
       "  <tbody>\n",
       "    <tr>\n",
       "      <th>0</th>\n",
       "      <td>HD 143761 b</td>\n",
       "      <td>117.547807</td>\n",
       "      <td>NaN</td>\n",
       "    </tr>\n",
       "    <tr>\n",
       "      <th>1</th>\n",
       "      <td>HD 143761 c</td>\n",
       "      <td>8.886389</td>\n",
       "      <td>NaN</td>\n",
       "    </tr>\n",
       "    <tr>\n",
       "      <th>2</th>\n",
       "      <td>KOI-1843.03</td>\n",
       "      <td>0.304348</td>\n",
       "      <td>11.739130</td>\n",
       "    </tr>\n",
       "    <tr>\n",
       "      <th>3</th>\n",
       "      <td>KOI-1843.01</td>\n",
       "      <td>NaN</td>\n",
       "      <td>24.782609</td>\n",
       "    </tr>\n",
       "    <tr>\n",
       "      <th>4</th>\n",
       "      <td>KOI-1843.02</td>\n",
       "      <td>NaN</td>\n",
       "      <td>15.434783</td>\n",
       "    </tr>\n",
       "    <tr>\n",
       "      <th>5</th>\n",
       "      <td>Kepler-9 b</td>\n",
       "      <td>23.364486</td>\n",
       "      <td>78.504673</td>\n",
       "    </tr>\n",
       "    <tr>\n",
       "      <th>6</th>\n",
       "      <td>Kepler-9 c</td>\n",
       "      <td>15.887850</td>\n",
       "      <td>76.635514</td>\n",
       "    </tr>\n",
       "    <tr>\n",
       "      <th>7</th>\n",
       "      <td>Kepler-9 d</td>\n",
       "      <td>2.056075</td>\n",
       "      <td>13.738318</td>\n",
       "    </tr>\n",
       "    <tr>\n",
       "      <th>8</th>\n",
       "      <td>GJ 160.2 b</td>\n",
       "      <td>4.652174</td>\n",
       "      <td>NaN</td>\n",
       "    </tr>\n",
       "    <tr>\n",
       "      <th>9</th>\n",
       "      <td>Kepler-566 b</td>\n",
       "      <td>NaN</td>\n",
       "      <td>23.132530</td>\n",
       "    </tr>\n",
       "    <tr>\n",
       "      <th>10</th>\n",
       "      <td>WASP-124 b</td>\n",
       "      <td>56.074766</td>\n",
       "      <td>115.887850</td>\n",
       "    </tr>\n",
       "    <tr>\n",
       "      <th>11</th>\n",
       "      <td>HD 240210 b</td>\n",
       "      <td>635.365854</td>\n",
       "      <td>NaN</td>\n",
       "    </tr>\n",
       "    <tr>\n",
       "      <th>12</th>\n",
       "      <td>OGLE-05-390L b</td>\n",
       "      <td>7.727273</td>\n",
       "      <td>NaN</td>\n",
       "    </tr>\n",
       "    <tr>\n",
       "      <th>13</th>\n",
       "      <td>Kepler-1343 b</td>\n",
       "      <td>NaN</td>\n",
       "      <td>18.105263</td>\n",
       "    </tr>\n",
       "    <tr>\n",
       "      <th>14</th>\n",
       "      <td>Kepler-1011 b</td>\n",
       "      <td>NaN</td>\n",
       "      <td>28.131868</td>\n",
       "    </tr>\n",
       "    <tr>\n",
       "      <th>15</th>\n",
       "      <td>WASP-82 b</td>\n",
       "      <td>76.073620</td>\n",
       "      <td>102.453988</td>\n",
       "    </tr>\n",
       "    <tr>\n",
       "      <th>16</th>\n",
       "      <td>Gliese 1214 b</td>\n",
       "      <td>11.079545</td>\n",
       "      <td>143.465909</td>\n",
       "    </tr>\n",
       "    <tr>\n",
       "      <th>17</th>\n",
       "      <td>Kepler-153 b</td>\n",
       "      <td>NaN</td>\n",
       "      <td>32.451220</td>\n",
       "    </tr>\n",
       "    <tr>\n",
       "      <th>18</th>\n",
       "      <td>Kepler-153 c</td>\n",
       "      <td>NaN</td>\n",
       "      <td>28.117073</td>\n",
       "    </tr>\n",
       "    <tr>\n",
       "      <th>19</th>\n",
       "      <td>HD 4203 b</td>\n",
       "      <td>161.061947</td>\n",
       "      <td>NaN</td>\n",
       "    </tr>\n",
       "  </tbody>\n",
       "</table>\n",
       "</div>"
      ],
      "text/plain": [
       "   PlanetIdentifier  life_insight  life_insight_2\n",
       "0       HD 143761 b    117.547807             NaN\n",
       "1       HD 143761 c      8.886389             NaN\n",
       "2       KOI-1843.03      0.304348       11.739130\n",
       "3       KOI-1843.01           NaN       24.782609\n",
       "4       KOI-1843.02           NaN       15.434783\n",
       "5        Kepler-9 b     23.364486       78.504673\n",
       "6        Kepler-9 c     15.887850       76.635514\n",
       "7        Kepler-9 d      2.056075       13.738318\n",
       "8        GJ 160.2 b      4.652174             NaN\n",
       "9      Kepler-566 b           NaN       23.132530\n",
       "10       WASP-124 b     56.074766      115.887850\n",
       "11      HD 240210 b    635.365854             NaN\n",
       "12   OGLE-05-390L b      7.727273             NaN\n",
       "13    Kepler-1343 b           NaN       18.105263\n",
       "14    Kepler-1011 b           NaN       28.131868\n",
       "15        WASP-82 b     76.073620      102.453988\n",
       "16    Gliese 1214 b     11.079545      143.465909\n",
       "17     Kepler-153 b           NaN       32.451220\n",
       "18     Kepler-153 c           NaN       28.117073\n",
       "19        HD 4203 b    161.061947             NaN"
      ]
     },
     "execution_count": 81,
     "metadata": {},
     "output_type": "execute_result"
    }
   ],
   "source": [
    "sorted_df.head(20)"
   ]
  },
  {
   "cell_type": "code",
   "execution_count": 87,
   "id": "b3af0ddf",
   "metadata": {},
   "outputs": [
    {
     "data": {
      "text/html": [
       "<div>\n",
       "<style scoped>\n",
       "    .dataframe tbody tr th:only-of-type {\n",
       "        vertical-align: middle;\n",
       "    }\n",
       "\n",
       "    .dataframe tbody tr th {\n",
       "        vertical-align: top;\n",
       "    }\n",
       "\n",
       "    .dataframe thead th {\n",
       "        text-align: right;\n",
       "    }\n",
       "</style>\n",
       "<table border=\"1\" class=\"dataframe\">\n",
       "  <thead>\n",
       "    <tr style=\"text-align: right;\">\n",
       "      <th></th>\n",
       "      <th>PlanetIdentifier</th>\n",
       "      <th>life_insight</th>\n",
       "      <th>life_insight_2</th>\n",
       "    </tr>\n",
       "  </thead>\n",
       "  <tbody>\n",
       "    <tr>\n",
       "      <th>416</th>\n",
       "      <td>Pluto</td>\n",
       "      <td>0.000776</td>\n",
       "      <td>1.643790</td>\n",
       "    </tr>\n",
       "    <tr>\n",
       "      <th>3323</th>\n",
       "      <td>PSR 1257+12 A</td>\n",
       "      <td>0.004493</td>\n",
       "      <td>NaN</td>\n",
       "    </tr>\n",
       "    <tr>\n",
       "      <th>408</th>\n",
       "      <td>Mercury</td>\n",
       "      <td>0.017387</td>\n",
       "      <td>3.490152</td>\n",
       "    </tr>\n",
       "    <tr>\n",
       "      <th>411</th>\n",
       "      <td>Mars</td>\n",
       "      <td>0.033800</td>\n",
       "      <td>4.848908</td>\n",
       "    </tr>\n",
       "    <tr>\n",
       "      <th>1128</th>\n",
       "      <td>Kepler-138 b</td>\n",
       "      <td>0.039923</td>\n",
       "      <td>9.130518</td>\n",
       "    </tr>\n",
       "    <tr>\n",
       "      <th>2081</th>\n",
       "      <td>Gliese 436 c</td>\n",
       "      <td>0.194866</td>\n",
       "      <td>13.306635</td>\n",
       "    </tr>\n",
       "    <tr>\n",
       "      <th>2799</th>\n",
       "      <td>Kepler-33 c</td>\n",
       "      <td>0.195198</td>\n",
       "      <td>22.587142</td>\n",
       "    </tr>\n",
       "    <tr>\n",
       "      <th>409</th>\n",
       "      <td>Venus</td>\n",
       "      <td>0.256374</td>\n",
       "      <td>8.656491</td>\n",
       "    </tr>\n",
       "    <tr>\n",
       "      <th>2780</th>\n",
       "      <td>KOI-55 b</td>\n",
       "      <td>0.282258</td>\n",
       "      <td>13.709677</td>\n",
       "    </tr>\n",
       "    <tr>\n",
       "      <th>2</th>\n",
       "      <td>KOI-1843.03</td>\n",
       "      <td>0.304348</td>\n",
       "      <td>11.739130</td>\n",
       "    </tr>\n",
       "    <tr>\n",
       "      <th>410</th>\n",
       "      <td>Earth</td>\n",
       "      <td>0.314570</td>\n",
       "      <td>9.113029</td>\n",
       "    </tr>\n",
       "    <tr>\n",
       "      <th>104</th>\n",
       "      <td>Kepler-128 b</td>\n",
       "      <td>0.349573</td>\n",
       "      <td>8.801709</td>\n",
       "    </tr>\n",
       "    <tr>\n",
       "      <th>927</th>\n",
       "      <td>Kepler-59 b</td>\n",
       "      <td>0.368077</td>\n",
       "      <td>9.638750</td>\n",
       "    </tr>\n",
       "    <tr>\n",
       "      <th>1315</th>\n",
       "      <td>HD 10180 b</td>\n",
       "      <td>0.385793</td>\n",
       "      <td>NaN</td>\n",
       "    </tr>\n",
       "    <tr>\n",
       "      <th>1127</th>\n",
       "      <td>KOI-314 c</td>\n",
       "      <td>0.386372</td>\n",
       "      <td>21.199616</td>\n",
       "    </tr>\n",
       "    <tr>\n",
       "      <th>1972</th>\n",
       "      <td>Alpha Centauri B b</td>\n",
       "      <td>0.392503</td>\n",
       "      <td>NaN</td>\n",
       "    </tr>\n",
       "    <tr>\n",
       "      <th>105</th>\n",
       "      <td>Kepler-128 c</td>\n",
       "      <td>0.403419</td>\n",
       "      <td>8.801709</td>\n",
       "    </tr>\n",
       "    <tr>\n",
       "      <th>2781</th>\n",
       "      <td>KOI-55 c</td>\n",
       "      <td>0.423387</td>\n",
       "      <td>15.725806</td>\n",
       "    </tr>\n",
       "    <tr>\n",
       "      <th>2970</th>\n",
       "      <td>KOI-142 b</td>\n",
       "      <td>0.540744</td>\n",
       "      <td>36.836595</td>\n",
       "    </tr>\n",
       "    <tr>\n",
       "      <th>1317</th>\n",
       "      <td>HD 10180 i</td>\n",
       "      <td>0.563852</td>\n",
       "      <td>NaN</td>\n",
       "    </tr>\n",
       "    <tr>\n",
       "      <th>826</th>\n",
       "      <td>KOI-523.02</td>\n",
       "      <td>0.575269</td>\n",
       "      <td>28.417204</td>\n",
       "    </tr>\n",
       "    <tr>\n",
       "      <th>1583</th>\n",
       "      <td>Kepler-11 b</td>\n",
       "      <td>0.621956</td>\n",
       "      <td>17.069199</td>\n",
       "    </tr>\n",
       "    <tr>\n",
       "      <th>2123</th>\n",
       "      <td>Kepler-51 b</td>\n",
       "      <td>0.634615</td>\n",
       "      <td>60.865385</td>\n",
       "    </tr>\n",
       "    <tr>\n",
       "      <th>1587</th>\n",
       "      <td>Kepler-11 f</td>\n",
       "      <td>0.654631</td>\n",
       "      <td>23.517482</td>\n",
       "    </tr>\n",
       "    <tr>\n",
       "      <th>2257</th>\n",
       "      <td>KIC 8435766 b</td>\n",
       "      <td>0.708675</td>\n",
       "      <td>13.175422</td>\n",
       "    </tr>\n",
       "    <tr>\n",
       "      <th>1063</th>\n",
       "      <td>Kepler-406 c</td>\n",
       "      <td>0.796729</td>\n",
       "      <td>7.239346</td>\n",
       "    </tr>\n",
       "    <tr>\n",
       "      <th>3370</th>\n",
       "      <td>tau Ceti b</td>\n",
       "      <td>0.803500</td>\n",
       "      <td>NaN</td>\n",
       "    </tr>\n",
       "    <tr>\n",
       "      <th>1029</th>\n",
       "      <td>GJ 3138 c</td>\n",
       "      <td>0.822320</td>\n",
       "      <td>NaN</td>\n",
       "    </tr>\n",
       "    <tr>\n",
       "      <th>3325</th>\n",
       "      <td>PSR 1257+12 C</td>\n",
       "      <td>0.878571</td>\n",
       "      <td>NaN</td>\n",
       "    </tr>\n",
       "    <tr>\n",
       "      <th>2514</th>\n",
       "      <td>Kepler-57 c</td>\n",
       "      <td>0.934819</td>\n",
       "      <td>17.018313</td>\n",
       "    </tr>\n",
       "  </tbody>\n",
       "</table>\n",
       "</div>"
      ],
      "text/plain": [
       "        PlanetIdentifier  life_insight  life_insight_2\n",
       "416                Pluto      0.000776        1.643790\n",
       "3323       PSR 1257+12 A      0.004493             NaN\n",
       "408              Mercury      0.017387        3.490152\n",
       "411                 Mars      0.033800        4.848908\n",
       "1128        Kepler-138 b      0.039923        9.130518\n",
       "2081        Gliese 436 c      0.194866       13.306635\n",
       "2799         Kepler-33 c      0.195198       22.587142\n",
       "409                Venus      0.256374        8.656491\n",
       "2780            KOI-55 b      0.282258       13.709677\n",
       "2            KOI-1843.03      0.304348       11.739130\n",
       "410                Earth      0.314570        9.113029\n",
       "104         Kepler-128 b      0.349573        8.801709\n",
       "927          Kepler-59 b      0.368077        9.638750\n",
       "1315          HD 10180 b      0.385793             NaN\n",
       "1127           KOI-314 c      0.386372       21.199616\n",
       "1972  Alpha Centauri B b      0.392503             NaN\n",
       "105         Kepler-128 c      0.403419        8.801709\n",
       "2781            KOI-55 c      0.423387       15.725806\n",
       "2970           KOI-142 b      0.540744       36.836595\n",
       "1317          HD 10180 i      0.563852             NaN\n",
       "826           KOI-523.02      0.575269       28.417204\n",
       "1583         Kepler-11 b      0.621956       17.069199\n",
       "2123         Kepler-51 b      0.634615       60.865385\n",
       "1587         Kepler-11 f      0.654631       23.517482\n",
       "2257       KIC 8435766 b      0.708675       13.175422\n",
       "1063        Kepler-406 c      0.796729        7.239346\n",
       "3370          tau Ceti b      0.803500             NaN\n",
       "1029           GJ 3138 c      0.822320             NaN\n",
       "3325       PSR 1257+12 C      0.878571             NaN\n",
       "2514         Kepler-57 c      0.934819       17.018313"
      ]
     },
     "execution_count": 87,
     "metadata": {},
     "output_type": "execute_result"
    }
   ],
   "source": [
    "# 0.3 LIFE RATION AND A 9.89 LIFE INSIGHT INDICATES A POSSIBLE HABITABLE PLANET\n",
    "earth_like  = sorted_df.sort_values(by='life_insight').head(30)\n",
    "# I will choose those planets that have close resemblance to earths life ration using the two new columns"
   ]
  },
  {
   "cell_type": "code",
   "execution_count": null,
   "id": "55ee4a11",
   "metadata": {},
   "outputs": [],
   "source": [
    "# Aside from Earth ,Kepler -128 b ,Kepler 59-b are some of possible habitable planets"
   ]
  },
  {
   "cell_type": "markdown",
   "id": "33b600d7",
   "metadata": {},
   "source": [
    "# Finir ,Thank You"
   ]
  },
  {
   "cell_type": "code",
   "execution_count": null,
   "id": "2bd20ff8",
   "metadata": {},
   "outputs": [],
   "source": []
  }
 ],
 "metadata": {
  "kernelspec": {
   "display_name": "Python 3 (ipykernel)",
   "language": "python",
   "name": "python3"
  },
  "language_info": {
   "codemirror_mode": {
    "name": "ipython",
    "version": 3
   },
   "file_extension": ".py",
   "mimetype": "text/x-python",
   "name": "python",
   "nbconvert_exporter": "python",
   "pygments_lexer": "ipython3",
   "version": "3.9.13"
  }
 },
 "nbformat": 4,
 "nbformat_minor": 5
}
